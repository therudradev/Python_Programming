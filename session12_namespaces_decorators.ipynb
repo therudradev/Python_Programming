{
  "nbformat": 4,
  "nbformat_minor": 0,
  "metadata": {
    "colab": {
      "provenance": [],
      "include_colab_link": true
    },
    "kernelspec": {
      "name": "python3",
      "display_name": "Python 3"
    },
    "language_info": {
      "name": "python"
    }
  },
  "cells": [
    {
      "cell_type": "markdown",
      "metadata": {
        "id": "view-in-github",
        "colab_type": "text"
      },
      "source": [
        "<a href=\"https://colab.research.google.com/github/therudradev/Python_Programming/blob/main/session12_namespaces_decorators.ipynb\" target=\"_parent\"><img src=\"https://colab.research.google.com/assets/colab-badge.svg\" alt=\"Open In Colab\"/></a>"
      ]
    },
    {
      "cell_type": "markdown",
      "source": [
        "### Namespaces\n",
        "\n",
        "A namespace is a space that holds names(identifiers).Programmatically speaking, namespaces are dictionary of identifiers(keys) and their objects(values)\n",
        "\n",
        "There are 4 types of namespaces:\n",
        "- Builtin Namespace\n",
        "- Global Namespace\n",
        "- Enclosing Namespace\n",
        "- Local Namespace"
      ],
      "metadata": {
        "id": "Xk9kpQFIwb4q"
      }
    },
    {
      "cell_type": "markdown",
      "source": [
        "### Scope and LEGB Rule\n",
        "\n",
        "A scope is a textual region of a Python program where a namespace is directly accessible.\n",
        "\n",
        "The interpreter searches for a name from the inside out, looking in the **local, enclosing, global, and finally the built-in scope.** If the interpreter doesn’t find the name in any of these locations, then Python raises a NameError exception."
      ],
      "metadata": {
        "id": "gwHLayLAz07u"
      }
    },
    {
      "cell_type": "code",
      "source": [
        "# local and global\n",
        "# global var\n",
        "a = 2\n",
        "\n",
        "def temp():\n",
        "  # local var\n",
        "  b = 3\n",
        "  print(b)\n",
        "\n",
        "temp()\n",
        "print(a)"
      ],
      "metadata": {
        "colab": {
          "base_uri": "https://localhost:8080/"
        },
        "id": "je-pFfh12wH_",
        "outputId": "a8554718-ae99-4946-d658-565688ffe948"
      },
      "execution_count": 2,
      "outputs": [
        {
          "output_type": "stream",
          "name": "stdout",
          "text": [
            "3\n",
            "2\n"
          ]
        }
      ]
    },
    {
      "cell_type": "code",
      "source": [
        "# local and global -> same name # possible\n",
        "a = 2\n",
        "\n",
        "def temp():\n",
        "  # local var\n",
        "  a = 3\n",
        "  print(a)\n",
        "\n",
        "temp()\n",
        "print(a)"
      ],
      "metadata": {
        "id": "j8yQ5lUr2yCq",
        "colab": {
          "base_uri": "https://localhost:8080/"
        },
        "outputId": "6b35c281-18fb-474d-ad58-ce1f18348b05"
      },
      "execution_count": 4,
      "outputs": [
        {
          "output_type": "stream",
          "name": "stdout",
          "text": [
            "3\n",
            "2\n"
          ]
        }
      ]
    },
    {
      "cell_type": "code",
      "source": [
        "# local and global -> local does not have but global has\n",
        "a = 2\n",
        "\n",
        "def temp():\n",
        "  # local var\n",
        "  print(a)\n",
        "\n",
        "temp()\n",
        "print(a)\n"
      ],
      "metadata": {
        "colab": {
          "base_uri": "https://localhost:8080/"
        },
        "id": "KGxD7YQS3We_",
        "outputId": "cb6bca8c-8358-47dd-e0be-13f9581ec35d"
      },
      "execution_count": 5,
      "outputs": [
        {
          "output_type": "stream",
          "name": "stdout",
          "text": [
            "2\n",
            "2\n"
          ]
        }
      ]
    },
    {
      "cell_type": "code",
      "source": [
        "# local and global -> editing global\n",
        "a = 2\n",
        "\n",
        "def temp():\n",
        "  # local var\n",
        "  a += 1\n",
        "  print(a)\n",
        "\n",
        "temp()\n",
        "print(a)"
      ],
      "metadata": {
        "colab": {
          "base_uri": "https://localhost:8080/",
          "height": 348
        },
        "id": "ey9-FHzM21P_",
        "outputId": "fee2d260-f6e5-4db1-f7d7-52c829a41e4a"
      },
      "execution_count": null,
      "outputs": [
        {
          "output_type": "error",
          "ename": "UnboundLocalError",
          "evalue": "ignored",
          "traceback": [
            "\u001b[0;31m---------------------------------------------------------------------------\u001b[0m",
            "\u001b[0;31mUnboundLocalError\u001b[0m                         Traceback (most recent call last)",
            "\u001b[0;32m<ipython-input-49-0bff4ae6448f>\u001b[0m in \u001b[0;36m<module>\u001b[0;34m\u001b[0m\n\u001b[1;32m      7\u001b[0m   \u001b[0mprint\u001b[0m\u001b[0;34m(\u001b[0m\u001b[0ma\u001b[0m\u001b[0;34m)\u001b[0m\u001b[0;34m\u001b[0m\u001b[0;34m\u001b[0m\u001b[0m\n\u001b[1;32m      8\u001b[0m \u001b[0;34m\u001b[0m\u001b[0m\n\u001b[0;32m----> 9\u001b[0;31m \u001b[0mtemp\u001b[0m\u001b[0;34m(\u001b[0m\u001b[0;34m)\u001b[0m\u001b[0;34m\u001b[0m\u001b[0;34m\u001b[0m\u001b[0m\n\u001b[0m\u001b[1;32m     10\u001b[0m \u001b[0mprint\u001b[0m\u001b[0;34m(\u001b[0m\u001b[0ma\u001b[0m\u001b[0;34m)\u001b[0m\u001b[0;34m\u001b[0m\u001b[0;34m\u001b[0m\u001b[0m\n",
            "\u001b[0;32m<ipython-input-49-0bff4ae6448f>\u001b[0m in \u001b[0;36mtemp\u001b[0;34m()\u001b[0m\n\u001b[1;32m      4\u001b[0m \u001b[0;32mdef\u001b[0m \u001b[0mtemp\u001b[0m\u001b[0;34m(\u001b[0m\u001b[0;34m)\u001b[0m\u001b[0;34m:\u001b[0m\u001b[0;34m\u001b[0m\u001b[0;34m\u001b[0m\u001b[0m\n\u001b[1;32m      5\u001b[0m   \u001b[0;31m# local var\u001b[0m\u001b[0;34m\u001b[0m\u001b[0;34m\u001b[0m\u001b[0;34m\u001b[0m\u001b[0m\n\u001b[0;32m----> 6\u001b[0;31m   \u001b[0ma\u001b[0m \u001b[0;34m+=\u001b[0m \u001b[0;36m1\u001b[0m\u001b[0;34m\u001b[0m\u001b[0;34m\u001b[0m\u001b[0m\n\u001b[0m\u001b[1;32m      7\u001b[0m   \u001b[0mprint\u001b[0m\u001b[0;34m(\u001b[0m\u001b[0ma\u001b[0m\u001b[0;34m)\u001b[0m\u001b[0;34m\u001b[0m\u001b[0;34m\u001b[0m\u001b[0m\n\u001b[1;32m      8\u001b[0m \u001b[0;34m\u001b[0m\u001b[0m\n",
            "\u001b[0;31mUnboundLocalError\u001b[0m: local variable 'a' referenced before assignment"
          ]
        }
      ]
    },
    {
      "cell_type": "code",
      "source": [
        "# but you can access the global variable by using `global` keyword.\n",
        "# but this is not a good pratice\n",
        "\n",
        "a = 2\n",
        "\n",
        "def temp():\n",
        "  # local var\n",
        "  global a\n",
        "  a += 1\n",
        "  print(a)\n",
        "\n",
        "temp()\n",
        "print(a)"
      ],
      "metadata": {
        "colab": {
          "base_uri": "https://localhost:8080/"
        },
        "id": "F1FtV8ZLBNvy",
        "outputId": "4dd8a6e7-8cda-4652-c34c-f1b3b3b99f3b"
      },
      "execution_count": null,
      "outputs": [
        {
          "output_type": "stream",
          "name": "stdout",
          "text": [
            "3\n",
            "3\n"
          ]
        }
      ]
    },
    {
      "cell_type": "code",
      "source": [
        "# local and global -> global created inside local\n",
        "def temp():\n",
        "  # local var\n",
        "  global a\n",
        "  a = 1\n",
        "  print(a)\n",
        "\n",
        "temp()\n",
        "print(a)"
      ],
      "metadata": {
        "id": "yDkgBLQu3JIw"
      },
      "execution_count": null,
      "outputs": []
    },
    {
      "cell_type": "code",
      "source": [
        "# local and global -> function parameter is local\n",
        "def temp(z):\n",
        "  # local var\n",
        "  print(z)\n",
        "\n",
        "a = 5\n",
        "temp(5)\n",
        "print(a)\n",
        "print(z)"
      ],
      "metadata": {
        "colab": {
          "base_uri": "https://localhost:8080/",
          "height": 241
        },
        "id": "gWLr0xi024Or",
        "outputId": "744dd057-68f4-46f1-8f44-522eb5cf3521"
      },
      "execution_count": null,
      "outputs": [
        {
          "output_type": "stream",
          "name": "stdout",
          "text": [
            "5\n",
            "5\n"
          ]
        },
        {
          "output_type": "error",
          "ename": "NameError",
          "evalue": "ignored",
          "traceback": [
            "\u001b[0;31m---------------------------------------------------------------------------\u001b[0m",
            "\u001b[0;31mNameError\u001b[0m                                 Traceback (most recent call last)",
            "\u001b[0;32m<ipython-input-51-aac3f4d9657f>\u001b[0m in \u001b[0;36m<module>\u001b[0;34m\u001b[0m\n\u001b[1;32m      7\u001b[0m \u001b[0mtemp\u001b[0m\u001b[0;34m(\u001b[0m\u001b[0;36m5\u001b[0m\u001b[0;34m)\u001b[0m\u001b[0;34m\u001b[0m\u001b[0;34m\u001b[0m\u001b[0m\n\u001b[1;32m      8\u001b[0m \u001b[0mprint\u001b[0m\u001b[0;34m(\u001b[0m\u001b[0ma\u001b[0m\u001b[0;34m)\u001b[0m\u001b[0;34m\u001b[0m\u001b[0;34m\u001b[0m\u001b[0m\n\u001b[0;32m----> 9\u001b[0;31m \u001b[0mprint\u001b[0m\u001b[0;34m(\u001b[0m\u001b[0mz\u001b[0m\u001b[0;34m)\u001b[0m\u001b[0;34m\u001b[0m\u001b[0;34m\u001b[0m\u001b[0m\n\u001b[0m",
            "\u001b[0;31mNameError\u001b[0m: name 'z' is not defined"
          ]
        }
      ]
    },
    {
      "cell_type": "code",
      "source": [
        "# built-in scope\n",
        "print('hello')"
      ],
      "metadata": {
        "colab": {
          "base_uri": "https://localhost:8080/"
        },
        "id": "P7wHSji-3q-r",
        "outputId": "04098b83-2969-41fd-c0a1-a6a6210dd130"
      },
      "execution_count": 6,
      "outputs": [
        {
          "output_type": "stream",
          "name": "stdout",
          "text": [
            "hello\n"
          ]
        }
      ]
    },
    {
      "cell_type": "code",
      "source": [
        "# how to see all the built-ins\n",
        "import builtins\n",
        "print(dir(builtins))"
      ],
      "metadata": {
        "id": "F769q7Nj33tX",
        "colab": {
          "base_uri": "https://localhost:8080/"
        },
        "outputId": "e87fb9ff-0f59-4904-95df-f600f1adefee"
      },
      "execution_count": 7,
      "outputs": [
        {
          "output_type": "stream",
          "name": "stdout",
          "text": [
            "['ArithmeticError', 'AssertionError', 'AttributeError', 'BaseException', 'BaseExceptionGroup', 'BlockingIOError', 'BrokenPipeError', 'BufferError', 'BytesWarning', 'ChildProcessError', 'ConnectionAbortedError', 'ConnectionError', 'ConnectionRefusedError', 'ConnectionResetError', 'DeprecationWarning', 'EOFError', 'Ellipsis', 'EncodingWarning', 'EnvironmentError', 'Exception', 'ExceptionGroup', 'False', 'FileExistsError', 'FileNotFoundError', 'FloatingPointError', 'FutureWarning', 'GeneratorExit', 'IOError', 'ImportError', 'ImportWarning', 'IndentationError', 'IndexError', 'InterruptedError', 'IsADirectoryError', 'KeyError', 'KeyboardInterrupt', 'LookupError', 'MemoryError', 'ModuleNotFoundError', 'NameError', 'None', 'NotADirectoryError', 'NotImplemented', 'NotImplementedError', 'OSError', 'OverflowError', 'PendingDeprecationWarning', 'PermissionError', 'ProcessLookupError', 'RecursionError', 'ReferenceError', 'ResourceWarning', 'RuntimeError', 'RuntimeWarning', 'StopAsyncIteration', 'StopIteration', 'SyntaxError', 'SyntaxWarning', 'SystemError', 'SystemExit', 'TabError', 'TimeoutError', 'True', 'TypeError', 'UnboundLocalError', 'UnicodeDecodeError', 'UnicodeEncodeError', 'UnicodeError', 'UnicodeTranslateError', 'UnicodeWarning', 'UserWarning', 'ValueError', 'Warning', 'ZeroDivisionError', '__IPYTHON__', '__build_class__', '__debug__', '__doc__', '__import__', '__loader__', '__name__', '__package__', '__spec__', 'abs', 'aiter', 'all', 'anext', 'any', 'ascii', 'bin', 'bool', 'breakpoint', 'bytearray', 'bytes', 'callable', 'chr', 'classmethod', 'compile', 'complex', 'copyright', 'credits', 'delattr', 'dict', 'dir', 'display', 'divmod', 'enumerate', 'eval', 'exec', 'execfile', 'filter', 'float', 'format', 'frozenset', 'get_ipython', 'getattr', 'globals', 'hasattr', 'hash', 'help', 'hex', 'id', 'input', 'int', 'isinstance', 'issubclass', 'iter', 'len', 'license', 'list', 'locals', 'map', 'max', 'memoryview', 'min', 'next', 'object', 'oct', 'open', 'ord', 'pow', 'print', 'property', 'range', 'repr', 'reversed', 'round', 'runfile', 'set', 'setattr', 'slice', 'sorted', 'staticmethod', 'str', 'sum', 'super', 'tuple', 'type', 'vars', 'zip']\n"
          ]
        }
      ]
    },
    {
      "cell_type": "code",
      "source": [
        "# renaming built-ins\n",
        "L = [1,2,3]  # part of global\n",
        "# max(L) # part of built-ins\n",
        "\n",
        "# from the LEGB Rule (max function is found in globle scope then it will not go in built-ins scope and override the methods.)\n",
        "\n",
        "print(max(L)) # this will run because at this line max() function is not created.\n",
        "\n",
        "def max():\n",
        "  print('hello')\n",
        "\n",
        "print(max(L)) # this will give error."
      ],
      "metadata": {
        "colab": {
          "base_uri": "https://localhost:8080/",
          "height": 211
        },
        "id": "Qd3fM_Ha3ruR",
        "outputId": "b9ab9ba6-add0-4339-e605-02fb99894709"
      },
      "execution_count": 18,
      "outputs": [
        {
          "output_type": "error",
          "ename": "TypeError",
          "evalue": "max() takes 0 positional arguments but 1 was given",
          "traceback": [
            "\u001b[0;31m---------------------------------------------------------------------------\u001b[0m",
            "\u001b[0;31mTypeError\u001b[0m                                 Traceback (most recent call last)",
            "\u001b[0;32m/tmp/ipython-input-287503428.py\u001b[0m in \u001b[0;36m<cell line: 0>\u001b[0;34m()\u001b[0m\n\u001b[1;32m      5\u001b[0m \u001b[0;31m# from the LEGB Rule (max function is found in globle scope then it will not go in built-ins scope and override the methods.)\u001b[0m\u001b[0;34m\u001b[0m\u001b[0;34m\u001b[0m\u001b[0m\n\u001b[1;32m      6\u001b[0m \u001b[0;34m\u001b[0m\u001b[0m\n\u001b[0;32m----> 7\u001b[0;31m \u001b[0mprint\u001b[0m\u001b[0;34m(\u001b[0m\u001b[0mmax\u001b[0m\u001b[0;34m(\u001b[0m\u001b[0mL\u001b[0m\u001b[0;34m)\u001b[0m\u001b[0;34m)\u001b[0m \u001b[0;31m# this will run because at this line max() function is not created.\u001b[0m\u001b[0;34m\u001b[0m\u001b[0;34m\u001b[0m\u001b[0m\n\u001b[0m\u001b[1;32m      8\u001b[0m \u001b[0;34m\u001b[0m\u001b[0m\n\u001b[1;32m      9\u001b[0m \u001b[0;32mdef\u001b[0m \u001b[0mmax\u001b[0m\u001b[0;34m(\u001b[0m\u001b[0;34m)\u001b[0m\u001b[0;34m:\u001b[0m\u001b[0;34m\u001b[0m\u001b[0;34m\u001b[0m\u001b[0m\n",
            "\u001b[0;31mTypeError\u001b[0m: max() takes 0 positional arguments but 1 was given"
          ]
        }
      ]
    },
    {
      "cell_type": "code",
      "source": [
        "# Enclosing scope / non-local scope\n",
        "# it is see under nested function\n",
        "def outer():\n",
        "  def inner():\n",
        "    print()\n",
        "  inner()\n",
        "  print('outer function')\n",
        "\n",
        "\n",
        "outer()\n",
        "print('main program')"
      ],
      "metadata": {
        "colab": {
          "base_uri": "https://localhost:8080/"
        },
        "id": "JORTYJik4LKH",
        "outputId": "5618a462-fe8f-4fba-93d8-9ee0081b7060",
        "cellView": "code"
      },
      "execution_count": 13,
      "outputs": [
        {
          "output_type": "stream",
          "name": "stdout",
          "text": [
            "\n",
            "outer function\n",
            "main program\n"
          ]
        }
      ]
    },
    {
      "cell_type": "code",
      "source": [
        "# LEGB Rule -> first search in local scope\n",
        "\n",
        "def outer():\n",
        "  a=2 # enclosing scope\n",
        "  def inner():\n",
        "    a=3 # local scope\n",
        "    print(a)\n",
        "  inner()\n",
        "\n",
        "a=1 # global scope\n",
        "outer()\n",
        "print('main program')"
      ],
      "metadata": {
        "colab": {
          "base_uri": "https://localhost:8080/"
        },
        "id": "mq7noI5bURSY",
        "outputId": "e04e2964-1226-405c-e118-7e4c49113f8b"
      },
      "execution_count": 15,
      "outputs": [
        {
          "output_type": "stream",
          "name": "stdout",
          "text": [
            "3\n",
            "main program\n"
          ]
        }
      ]
    },
    {
      "cell_type": "code",
      "source": [
        "# LEGB Rule -> first search in local scope -> then Enclosing scope\n",
        "\n",
        "def outer():\n",
        "  a=2 # enclosing scope\n",
        "  def inner():\n",
        "    print(a)\n",
        "  inner()\n",
        "\n",
        "a=1 # global scope\n",
        "outer()\n",
        "print('main program')"
      ],
      "metadata": {
        "colab": {
          "base_uri": "https://localhost:8080/"
        },
        "id": "Af8o6i9MVd-v",
        "outputId": "a2e1c861-148d-4bd3-defe-4f313b97612a"
      },
      "execution_count": 16,
      "outputs": [
        {
          "output_type": "stream",
          "name": "stdout",
          "text": [
            "2\n",
            "main program\n"
          ]
        }
      ]
    },
    {
      "cell_type": "code",
      "source": [
        "# LEGB Rule -> first search in local scope -> then Enclosing scope\n",
        "# -> then global scope\n",
        "\n",
        "def outer():\n",
        "  def inner():\n",
        "    print(a)\n",
        "  inner()\n",
        "\n",
        "a=1 # global scope\n",
        "outer()\n",
        "print('main program')"
      ],
      "metadata": {
        "colab": {
          "base_uri": "https://localhost:8080/"
        },
        "id": "GEMq0Kj5Vm5t",
        "outputId": "b33fc6a2-90d5-4395-d6e3-1a380bdcf99a"
      },
      "execution_count": 17,
      "outputs": [
        {
          "output_type": "stream",
          "name": "stdout",
          "text": [
            "1\n",
            "main program\n"
          ]
        }
      ]
    },
    {
      "cell_type": "code",
      "source": [
        "# nonlocal keyword\n",
        "# you can change the enclosing scope in local scope by using nonlocal keyword\n",
        "# but it is not a good practice\n",
        "\n",
        "def outer():\n",
        "  a = 1\n",
        "  def inner():\n",
        "    nonlocal a\n",
        "    a += 1\n",
        "    print('inner',a)\n",
        "  inner()\n",
        "  print('outer',a)\n",
        "\n",
        "\n",
        "outer()\n",
        "print('main program')"
      ],
      "metadata": {
        "colab": {
          "base_uri": "https://localhost:8080/"
        },
        "id": "mG6ONk3I4lFX",
        "outputId": "d314eb1d-fb6e-4f08-e7c8-cd798f163ef1"
      },
      "execution_count": 12,
      "outputs": [
        {
          "output_type": "stream",
          "name": "stdout",
          "text": [
            "inner 2\n",
            "outer 2\n",
            "main program\n"
          ]
        }
      ]
    },
    {
      "cell_type": "markdown",
      "source": [
        "# #Summary\n",
        "# namespace is a dictonary where the variable name and there value are keeped, and present inside a scope\n",
        "\n",
        "scope are 4 types of namespaces\n",
        "- Builtin Namespace\n",
        "- Global Namespace\n",
        "- Enclosing Namespace\n",
        "- Local Namespace\n"
      ],
      "metadata": {
        "id": "Qe-ivSOiaoC0"
      }
    },
    {
      "cell_type": "markdown",
      "source": [
        "# Decorators\n",
        "\n",
        "A decorator in python is a function that receives another function as input and adds some functionality(decoration) to and it and returns it.\n",
        "\n",
        "This can happen only because python functions are 1st class citizens.\n",
        "\n",
        "There are 2 types of decorators available in python\n",
        "- `Built in decorators` like `@staticmethod`, `@classmethod`, `@abstractmethod` and `@property` etc\n",
        "- `User defined decorators` that we programmers can create according to our needs"
      ],
      "metadata": {
        "id": "v2I4_MetLUYb"
      }
    },
    {
      "cell_type": "code",
      "source": [
        "# Python are 1st class function\n",
        "\n",
        "def modify(func,num):\n",
        "  return func(num)\n",
        "\n",
        "def square(num):\n",
        "  return num**2\n",
        "\n",
        "modify(square,2)"
      ],
      "metadata": {
        "colab": {
          "base_uri": "https://localhost:8080/"
        },
        "id": "PLEnpaeHUvAk",
        "outputId": "86fe9ab7-3533-4ed2-cd65-f96e8941df74"
      },
      "execution_count": null,
      "outputs": [
        {
          "output_type": "execute_result",
          "data": {
            "text/plain": [
              "4"
            ]
          },
          "metadata": {},
          "execution_count": 71
        }
      ]
    },
    {
      "cell_type": "code",
      "source": [
        "# simple example\n",
        "# parent function ke marne ke baad bhi child function can access their variable.\n",
        "# simple concept parent ke marne ke baad bhi uska paisa, propery uske bachhe access kar sakte hai.\n",
        "# This property is also called as 'clouser' in python.\n",
        "\n",
        "def my_decorator(func):\n",
        "  def wrapper():\n",
        "    print('***********************')\n",
        "    func()\n",
        "    print('***********************')\n",
        "  return wrapper\n",
        "\n",
        "def hello():\n",
        "  print('hello')\n",
        "\n",
        "def display():\n",
        "  print('hello nitish')\n",
        "\n",
        "a = my_decorator(hello)\n",
        "a()\n",
        "\n",
        "b = my_decorator(display)\n",
        "b()"
      ],
      "metadata": {
        "colab": {
          "base_uri": "https://localhost:8080/"
        },
        "id": "fsyP9F9z5OSe",
        "outputId": "7a71b900-13b6-4630-e7df-bad4cd3e0672"
      },
      "execution_count": 1,
      "outputs": [
        {
          "output_type": "stream",
          "name": "stdout",
          "text": [
            "***********************\n",
            "hello\n",
            "***********************\n",
            "***********************\n",
            "hello nitish\n",
            "***********************\n"
          ]
        }
      ]
    },
    {
      "cell_type": "code",
      "source": [
        "# more functions"
      ],
      "metadata": {
        "id": "3wh7a0paP4wv"
      },
      "execution_count": null,
      "outputs": []
    },
    {
      "cell_type": "code",
      "source": [
        "# how this works -> closure?"
      ],
      "metadata": {
        "id": "3rwgdym6UyV2"
      },
      "execution_count": null,
      "outputs": []
    },
    {
      "cell_type": "code",
      "source": [
        "# python tutor"
      ],
      "metadata": {
        "id": "2JD6mQ7TNqRR"
      },
      "execution_count": null,
      "outputs": []
    },
    {
      "cell_type": "code",
      "source": [
        "# Better syntax?\n",
        "# simple example\n",
        "\n",
        "def my_decorator(func):\n",
        "  def wrapper():\n",
        "    print('***********************')\n",
        "    func()\n",
        "    print('***********************')\n",
        "  return wrapper\n",
        "\n",
        "@my_decorator\n",
        "def hello():\n",
        "  print('hello')\n",
        "\n",
        "hello()"
      ],
      "metadata": {
        "colab": {
          "base_uri": "https://localhost:8080/"
        },
        "id": "6xenz10AVfTp",
        "outputId": "cb2e3d25-d951-49d5-ae36-62fff01bae68"
      },
      "execution_count": null,
      "outputs": [
        {
          "output_type": "stream",
          "name": "stdout",
          "text": [
            "***********************\n",
            "hello\n",
            "***********************\n"
          ]
        }
      ]
    },
    {
      "cell_type": "code",
      "source": [
        "# decoraors example to calculate the time time taken by any function to excute.\n",
        "import time\n",
        "\n",
        "def timer(func):\n",
        "  def wrapper():\n",
        "    start = time.time()\n",
        "    func()\n",
        "    print('time taken by',func.__name__,time.time()-start,'secs')\n",
        "  return wrapper\n",
        "\n",
        "@timer\n",
        "def hello():\n",
        "  print('hello world')\n",
        "  time.sleep(2)\n",
        "\n",
        "@timer\n",
        "def display():\n",
        "  time.sleep(4)\n",
        "  print('Displaying something')\n",
        "\n",
        "hello()\n",
        "display()\n"
      ],
      "metadata": {
        "colab": {
          "base_uri": "https://localhost:8080/"
        },
        "id": "VYJssL71ajBV",
        "outputId": "e8a37ac4-9498-4c63-fa6a-4d37be493816"
      },
      "execution_count": 5,
      "outputs": [
        {
          "output_type": "stream",
          "name": "stdout",
          "text": [
            "hello world\n",
            "time taken by hello 2.0002429485321045 secs\n",
            "Displaying something\n",
            "time taken by display 4.0002601146698 secs\n"
          ]
        }
      ]
    },
    {
      "cell_type": "code",
      "source": [
        "# problem with decorators\n",
        "# decorators will work on those kind of function which does need any input.\n",
        "# but these problem can be solve by passing '*args' as arguments\n",
        "\n",
        "# problem code\n",
        "import time\n",
        "\n",
        "def timer(func):\n",
        "  def wrapper():\n",
        "    start = time.time()\n",
        "    func()\n",
        "    print('time taken by',func.__name__,time.time()-start,'secs')\n",
        "  return wrapper\n",
        "\n",
        "@timer\n",
        "def hello():\n",
        "  print('hello wolrd')\n",
        "  time.sleep(2)\n",
        "\n",
        "@timer\n",
        "def square(num):\n",
        "  time.sleep(1)\n",
        "  print(num**2)\n",
        "\n",
        "\n",
        "hello()\n",
        "square(2)"
      ],
      "metadata": {
        "colab": {
          "base_uri": "https://localhost:8080/",
          "height": 211
        },
        "id": "O9AXz7JTZFWT",
        "outputId": "cf0d73db-03c6-456b-fbe5-8c1f18a09ae9"
      },
      "execution_count": 6,
      "outputs": [
        {
          "output_type": "stream",
          "name": "stdout",
          "text": [
            "hello wolrd\n",
            "time taken by hello 2.0002214908599854 secs\n"
          ]
        },
        {
          "output_type": "error",
          "ename": "TypeError",
          "evalue": "timer.<locals>.wrapper() takes 0 positional arguments but 1 was given",
          "traceback": [
            "\u001b[0;31m---------------------------------------------------------------------------\u001b[0m",
            "\u001b[0;31mTypeError\u001b[0m                                 Traceback (most recent call last)",
            "\u001b[0;32m/tmp/ipython-input-4293839693.py\u001b[0m in \u001b[0;36m<cell line: 0>\u001b[0;34m()\u001b[0m\n\u001b[1;32m     25\u001b[0m \u001b[0;34m\u001b[0m\u001b[0m\n\u001b[1;32m     26\u001b[0m \u001b[0mhello\u001b[0m\u001b[0;34m(\u001b[0m\u001b[0;34m)\u001b[0m\u001b[0;34m\u001b[0m\u001b[0;34m\u001b[0m\u001b[0m\n\u001b[0;32m---> 27\u001b[0;31m \u001b[0msquare\u001b[0m\u001b[0;34m(\u001b[0m\u001b[0;36m2\u001b[0m\u001b[0;34m)\u001b[0m\u001b[0;34m\u001b[0m\u001b[0;34m\u001b[0m\u001b[0m\n\u001b[0m",
            "\u001b[0;31mTypeError\u001b[0m: timer.<locals>.wrapper() takes 0 positional arguments but 1 was given"
          ]
        }
      ]
    },
    {
      "cell_type": "code",
      "source": [
        "# problem solution by using *args.\n",
        "# anything meaningful?\n",
        "\n",
        "import time\n",
        "\n",
        "def timer(func):\n",
        "  def wrapper(*args):\n",
        "    start = time.time()\n",
        "    func(*args)\n",
        "    print('time taken by',func.__name__,time.time()-start,'secs')\n",
        "  return wrapper\n",
        "\n",
        "@timer\n",
        "def hello():\n",
        "  print('hello world')\n",
        "  time.sleep(2)\n",
        "\n",
        "@timer\n",
        "def square(num):\n",
        "  time.sleep(1)\n",
        "  print(num**2)\n",
        "\n",
        "@timer\n",
        "def power(a,b):\n",
        "  print(a**b)\n",
        "\n",
        "hello()\n",
        "square(2)\n",
        "power(2,3)\n"
      ],
      "metadata": {
        "colab": {
          "base_uri": "https://localhost:8080/"
        },
        "id": "JGXuT9XSP3ue",
        "outputId": "92eda1b2-ec78-4535-cbe7-88cda33bc10b"
      },
      "execution_count": 7,
      "outputs": [
        {
          "output_type": "stream",
          "name": "stdout",
          "text": [
            "hello world\n",
            "time taken by hello 2.001028299331665 secs\n",
            "4\n",
            "time taken by square 1.0003080368041992 secs\n",
            "8\n",
            "time taken by power 1.1205673217773438e-05 secs\n"
          ]
        }
      ]
    },
    {
      "cell_type": "code",
      "source": [
        "# A big problem"
      ],
      "metadata": {
        "id": "tF12z0_-VG8y"
      },
      "execution_count": null,
      "outputs": []
    },
    {
      "cell_type": "code",
      "source": [
        "# One last example -> decorators with arguments\n"
      ],
      "metadata": {
        "id": "WDb2Cn_PQAA9"
      },
      "execution_count": null,
      "outputs": []
    },
    {
      "cell_type": "code",
      "source": [
        "@checkdt(int)\n",
        "def square(num):\n",
        "  print(num**2)"
      ],
      "metadata": {
        "id": "Ngoztw_GQEa9"
      },
      "execution_count": null,
      "outputs": []
    },
    {
      "cell_type": "code",
      "source": [
        "def sanity_check(data_type):\n",
        "  def outer_wrapper(func):\n",
        "    def inner_wrapper(*args):\n",
        "      if type(*args) == data_type:\n",
        "        func(*args)\n",
        "      else:\n",
        "        raise TypeError('Ye datatype nai chalega')\n",
        "    return inner_wrapper\n",
        "  return outer_wrapper\n",
        "\n",
        "@sanity_check(int)\n",
        "def square(num):\n",
        "  print(num**2)\n",
        "\n",
        "@sanity_check(str)\n",
        "def greet(name):\n",
        "  print('hello',name)\n",
        "\n",
        "square(2)\n",
        "greet('Rudra')"
      ],
      "metadata": {
        "colab": {
          "base_uri": "https://localhost:8080/"
        },
        "id": "hjjt65fYSri2",
        "outputId": "eda6ac0f-68cb-4869-d19e-745f93b97f83"
      },
      "execution_count": 9,
      "outputs": [
        {
          "output_type": "stream",
          "name": "stdout",
          "text": [
            "4\n",
            "hello Rudra\n"
          ]
        }
      ]
    },
    {
      "cell_type": "code",
      "source": [],
      "metadata": {
        "id": "Xn-HNkj0TXcx"
      },
      "execution_count": null,
      "outputs": []
    },
    {
      "cell_type": "code",
      "source": [],
      "metadata": {
        "id": "FB3Uky2BStKg"
      },
      "execution_count": null,
      "outputs": []
    },
    {
      "cell_type": "markdown",
      "source": [
        "# Summary\n",
        "---\n",
        "\n",
        "# 🔹 1. What is a Namespace?\n",
        "\n",
        "👉 **Namespace** = a container (or mapping) that holds **names (identifiers)** and their corresponding **objects (values)**.\n",
        "\n",
        "* Think of it like a **dictionary**:\n",
        "\n",
        "  ```python\n",
        "  {'x': 10, 'name': 'Rudra'}\n",
        "  ```\n",
        "\n",
        "Types of namespaces in Python:\n",
        "\n",
        "1. **Built-in Namespace** → Python keywords & built-in functions (`print`, `len`, `int`, etc.).\n",
        "2. **Global Namespace** → Variables defined at the top-level of a module or script.\n",
        "3. **Local Namespace** → Variables defined inside a function or class.\n",
        "\n",
        "---\n",
        "\n",
        "# 🔹 2. What is Scope?\n",
        "\n",
        "👉 **Scope** = the **region of a program** where a variable is accessible.\n",
        "\n",
        "Example:\n",
        "\n",
        "```python\n",
        "x = 10   # global variable\n",
        "\n",
        "def my_func():\n",
        "    y = 5   # local variable\n",
        "    print(\"Inside function:\", x, y)\n",
        "\n",
        "my_func()\n",
        "print(\"Outside function:\", x)  # y is not accessible here\n",
        "```\n",
        "\n",
        "👉 `x` → global scope\n",
        "👉 `y` → local scope\n",
        "\n",
        "---\n",
        "\n",
        "# 🔹 3. LEGB Rule\n",
        "\n",
        "👉 Python searches for variables in the following order (**LEGB**):\n",
        "\n",
        "1. **L → Local** (inside current function)\n",
        "2. **E → Enclosing** (in nested/outer function)\n",
        "3. **G → Global** (module-level)\n",
        "4. **B → Built-in** (Python keywords/functions)\n",
        "\n",
        "---\n",
        "\n",
        "## ✅ Example: LEGB Rule in Action\n",
        "\n",
        "```python\n",
        "x = \"global\"\n",
        "\n",
        "def outer():\n",
        "    x = \"enclosing\"\n",
        "    def inner():\n",
        "        x = \"local\"\n",
        "        print(x)   # LEGB: Local is found first\n",
        "    inner()\n",
        "\n",
        "outer()\n",
        "```\n",
        "\n",
        "👉 Output:\n",
        "\n",
        "```\n",
        "local\n",
        "```\n",
        "\n",
        "---\n",
        "\n",
        "## ✅ Example 2: If variable not found\n",
        "\n",
        "```python\n",
        "x = \"global\"\n",
        "\n",
        "def func():\n",
        "    print(x)   # searches local → enclosing → global → built-in\n",
        "\n",
        "func()\n",
        "```\n",
        "\n",
        "👉 Output:\n",
        "\n",
        "```\n",
        "global\n",
        "```\n",
        "\n",
        "---\n",
        "\n",
        "## ✅ Example 3: Built-in scope\n",
        "\n",
        "```python\n",
        "print(len(\"hello\"))   # uses built-in len()\n",
        "```\n",
        "\n",
        "If you redefine `len`, it will **shadow** the built-in:\n",
        "\n",
        "```python\n",
        "len = 100\n",
        "print(len)   # 100\n",
        "```\n",
        "\n",
        "---\n",
        "\n",
        "# 🔹 4. Special Keywords for Scope Control\n",
        "\n",
        "* `global` → used to modify global variables inside a function.\n",
        "* `nonlocal` → used to modify enclosing variables inside nested functions.\n",
        "\n",
        "✅ Example:\n",
        "\n",
        "```python\n",
        "x = 10\n",
        "\n",
        "def outer():\n",
        "    y = 20\n",
        "    def inner():\n",
        "        nonlocal y\n",
        "        global x\n",
        "        y = 99   # changes outer y\n",
        "        x = 50   # changes global x\n",
        "    inner()\n",
        "    print(\"outer y:\", y)\n",
        "\n",
        "outer()\n",
        "print(\"global x:\", x)\n",
        "```\n",
        "\n",
        "👉 Output:\n",
        "\n",
        "```\n",
        "outer y: 99\n",
        "global x: 50\n",
        "```\n",
        "\n",
        "---\n",
        "\n",
        "# ✅ Summary\n",
        "\n",
        "* **Namespace** → place where names (variables/functions) are mapped to values.\n",
        "* **Scope** → where in the code you can access a variable.\n",
        "* **LEGB Rule** → Python looks for variables in order:\n",
        "  **Local → Enclosing → Global → Built-in**.\n",
        "* **global** and **nonlocal** let you modify variables outside current scope.\n",
        "\n",
        "---\n"
      ],
      "metadata": {
        "id": "tgJzHmpIgk9q"
      }
    },
    {
      "cell_type": "markdown",
      "source": [
        "# 🔹 1. What is a Decorator?\n",
        "\n",
        "👉 A **decorator** in Python is a special function that **modifies the behavior of another function or class without changing its code**.\n",
        "\n",
        "* It takes a function as input.\n",
        "* Adds extra functionality.\n",
        "* Returns a new function.\n",
        "\n",
        "💡 Shortcut: **A decorator = a function that wraps another function.**\n",
        "\n",
        "---\n",
        "\n",
        "# 🔹 2. Why use Decorators?\n",
        "\n",
        "* To add **extra features** (like logging, authentication, timing, caching).\n",
        "* To follow **DRY principle** (Don’t Repeat Yourself).\n",
        "* To keep code **clean and reusable**.\n",
        "\n",
        "---\n",
        "\n",
        "# 🔹 3. Basic Example (Without @ Syntax)\n",
        "\n",
        "```python\n",
        "def decorator_func(original_func):\n",
        "    def wrapper():\n",
        "        print(\"Before function runs\")\n",
        "        original_func()\n",
        "        print(\"After function runs\")\n",
        "    return wrapper\n",
        "\n",
        "def say_hello():\n",
        "    print(\"Hello!\")\n",
        "\n",
        "# Apply decorator manually\n",
        "decorated = decorator_func(say_hello)\n",
        "decorated()\n",
        "```\n",
        "\n",
        "✅ Output:\n",
        "\n",
        "```\n",
        "Before function runs\n",
        "Hello!\n",
        "After function runs\n",
        "```\n",
        "\n",
        "---\n",
        "\n",
        "# 🔹 4. Using `@` Syntax (Python Sugar 🍬)\n",
        "\n",
        "```python\n",
        "def decorator_func(original_func):\n",
        "    def wrapper():\n",
        "        print(\"Before function\")\n",
        "        original_func()\n",
        "        print(\"After function\")\n",
        "    return wrapper\n",
        "\n",
        "@decorator_func\n",
        "def say_hi():\n",
        "    print(\"Hi there!\")\n",
        "\n",
        "say_hi()\n",
        "```\n",
        "\n",
        "👉 Same as before, but shorter.\n",
        "\n",
        "---\n",
        "\n",
        "# 🔹 5. Decorator with Arguments\n",
        "\n",
        "```python\n",
        "def my_decorator(func):\n",
        "    def wrapper(*args, **kwargs):\n",
        "        print(\"Before function\")\n",
        "        result = func(*args, **kwargs)\n",
        "        print(\"After function\")\n",
        "        return result\n",
        "    return wrapper\n",
        "\n",
        "@my_decorator\n",
        "def add(a, b):\n",
        "    print(\"Adding numbers...\")\n",
        "    return a + b\n",
        "\n",
        "print(\"Result:\", add(5, 3))\n",
        "```\n",
        "\n",
        "✅ Output:\n",
        "\n",
        "```\n",
        "Before function\n",
        "Adding numbers...\n",
        "After function\n",
        "Result: 8\n",
        "```\n",
        "\n",
        "---\n",
        "\n",
        "# 🔹 6. Real-Life Use Cases\n",
        "\n",
        "### ✅ Logging\n",
        "\n",
        "```python\n",
        "def log(func):\n",
        "    def wrapper(*args, **kwargs):\n",
        "        print(f\"Calling {func.__name__} with {args}, {kwargs}\")\n",
        "        return func(*args, **kwargs)\n",
        "    return wrapper\n",
        "\n",
        "@log\n",
        "def multiply(a, b):\n",
        "    return a * b\n",
        "\n",
        "print(multiply(3, 4))\n",
        "```\n",
        "\n",
        "---\n",
        "\n",
        "### ✅ Authorization (Checking User Access)\n",
        "\n",
        "```python\n",
        "def require_admin(func):\n",
        "    def wrapper(user):\n",
        "        if user != \"admin\":\n",
        "            print(\"Access denied 🚫\")\n",
        "        else:\n",
        "            return func(user)\n",
        "    return wrapper\n",
        "\n",
        "@require_admin\n",
        "def delete_user(user):\n",
        "    print(f\"{user} deleted successfully ✅\")\n",
        "\n",
        "delete_user(\"guest\")\n",
        "delete_user(\"admin\")\n",
        "```\n",
        "\n",
        "---\n",
        "\n",
        "# 🔹 7. Built-in Decorators in Python\n",
        "\n",
        "* `@staticmethod` → define static methods in class\n",
        "* `@classmethod` → define class methods\n",
        "* `@property` → define getter/setter properties\n",
        "\n",
        "---\n",
        "\n",
        "# ✅ Summary\n",
        "\n",
        "* **Decorator** = a function that **wraps another function**.\n",
        "* Adds extra functionality **without modifying original code**.\n",
        "* Used with `@decorator_name`.\n",
        "* Common in logging, authentication, timing, etc.\n",
        "\n",
        "---\n"
      ],
      "metadata": {
        "id": "OPn-Wnh_g_BR"
      }
    }
  ]
}