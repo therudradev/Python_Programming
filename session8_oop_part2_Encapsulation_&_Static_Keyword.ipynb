{
  "nbformat": 4,
  "nbformat_minor": 0,
  "metadata": {
    "colab": {
      "provenance": [],
      "include_colab_link": true
    },
    "kernelspec": {
      "name": "python3",
      "display_name": "Python 3"
    },
    "language_info": {
      "name": "python"
    }
  },
  "cells": [
    {
      "cell_type": "markdown",
      "metadata": {
        "id": "view-in-github",
        "colab_type": "text"
      },
      "source": [
        "<a href=\"https://colab.research.google.com/github/therudradev/Python_Programming/blob/main/session8_oop_part2_Encapsulation_%26_Static_Keyword.ipynb\" target=\"_parent\"><img src=\"https://colab.research.google.com/assets/colab-badge.svg\" alt=\"Open In Colab\"/></a>"
      ]
    },
    {
      "cell_type": "markdown",
      "source": [
        "### Write OOP classes to handle the following scenarios:\n",
        "\n",
        "- A user can create and view 2D coordinates\n",
        "- A user can find out the distance between 2 coordinates\n",
        "- A user can find find the distance of a coordinate from origin\n",
        "- A user can check if a point lies on a given line\n",
        "- A user can find the distance between a given 2D point and a given line\n",
        "\n"
      ],
      "metadata": {
        "id": "JUmWTebLbjwN"
      }
    },
    {
      "cell_type": "code",
      "source": [
        "class Point:\n",
        "\n",
        "  def __init__(self,x,y):\n",
        "    self.x_cod = x\n",
        "    self.y_cod = y\n",
        "\n",
        "  def __str__(self):\n",
        "    return '<{},{}>'.format(self.x_cod,self.y_cod)\n",
        "\n",
        "  def euclidean_distance(self,other):\n",
        "    return ((self.x_cod - other.x_cod)**2 + (self.y_cod - other.y_cod)**2)**0.5\n",
        "\n",
        "  def distance_from_origin(self):\n",
        "    return (self.x_cod**2 + self.y_cod**2)**0.5\n",
        "    # return self.euclidean_distance(Point(0,0))\n",
        "\n",
        "\n",
        "class Line:\n",
        "\n",
        "  def __init__(self,A,B,C):\n",
        "    self.A = A\n",
        "    self.B = B\n",
        "    self.C = C\n",
        "\n",
        "  def __str__(self):\n",
        "    return '{}x + {}y + {} = 0'.format(self.A,self.B,self.C)\n",
        "\n",
        "  def point_on_line(line,point):\n",
        "    if line.A*point.x_cod + line.B*point.y_cod + line.C == 0:\n",
        "      return \"lies on the line\"\n",
        "    else:\n",
        "      return \"does not lie on the line\"\n",
        "\n",
        "  def shortest_distance(line,point):\n",
        "    return abs(line.A*point.x_cod + line.B*point.y_cod + line.C)/(line.A**2 + line.B**2)**0.5\n"
      ],
      "metadata": {
        "id": "2jfIFsMocjN3"
      },
      "execution_count": null,
      "outputs": []
    },
    {
      "cell_type": "code",
      "source": [
        "l1 = Line(1,1,-2)\n",
        "p1 = Point(1,10)\n",
        "print(l1)\n",
        "print(p1)\n",
        "\n",
        "l1.shortest_distance(p1)"
      ],
      "metadata": {
        "colab": {
          "base_uri": "https://localhost:8080/"
        },
        "id": "z3QeFQu07dpO",
        "outputId": "0af4fec2-739e-42f5-fcb5-428f5ea425fe"
      },
      "execution_count": null,
      "outputs": [
        {
          "output_type": "stream",
          "name": "stdout",
          "text": [
            "1x + 1y + -2 = 0\n",
            "<1,10>\n"
          ]
        },
        {
          "output_type": "execute_result",
          "data": {
            "text/plain": [
              "6.363961030678928"
            ]
          },
          "metadata": {},
          "execution_count": 43
        }
      ]
    },
    {
      "cell_type": "markdown",
      "source": [
        "### How objects access attributes"
      ],
      "metadata": {
        "id": "s6n-PpwgfiMv"
      }
    },
    {
      "cell_type": "code",
      "source": [
        "class Person:\n",
        "\n",
        "  def __init__(self,name_input,country_input):\n",
        "    self.name = name_input\n",
        "    self.country = country_input\n",
        "\n",
        "  def greet(self):\n",
        "    if self.country == 'india':\n",
        "      print('Namaste',self.name)\n",
        "    else:\n",
        "      print('Hello',self.name)\n"
      ],
      "metadata": {
        "id": "XUwz5NX3fl3p"
      },
      "execution_count": null,
      "outputs": []
    },
    {
      "cell_type": "code",
      "source": [
        "# how to access attributes\n",
        "p = Person('nitish','india')"
      ],
      "metadata": {
        "id": "Eb_wD7mkh-sK"
      },
      "execution_count": null,
      "outputs": []
    },
    {
      "cell_type": "code",
      "source": [
        "p.name"
      ],
      "metadata": {
        "colab": {
          "base_uri": "https://localhost:8080/",
          "height": 36
        },
        "id": "R_zixc-yD2z8",
        "outputId": "18dcea56-fe39-4214-b3cc-483d2fb32ff2"
      },
      "execution_count": null,
      "outputs": [
        {
          "output_type": "execute_result",
          "data": {
            "text/plain": [
              "'nitish'"
            ],
            "application/vnd.google.colaboratory.intrinsic+json": {
              "type": "string"
            }
          },
          "metadata": {},
          "execution_count": 47
        }
      ]
    },
    {
      "cell_type": "code",
      "source": [
        "# how to access methods\n",
        "p.greet()"
      ],
      "metadata": {
        "id": "FVenvmOViFN5",
        "colab": {
          "base_uri": "https://localhost:8080/"
        },
        "outputId": "e6638bef-33c0-46fb-dd70-5896e27d8b7f"
      },
      "execution_count": null,
      "outputs": [
        {
          "output_type": "stream",
          "name": "stdout",
          "text": [
            "Namaste nitish\n"
          ]
        }
      ]
    },
    {
      "cell_type": "code",
      "source": [
        "# what if i try to access non-existent attributes\n",
        "p.gender"
      ],
      "metadata": {
        "id": "LyBkKlAviG-x",
        "colab": {
          "base_uri": "https://localhost:8080/",
          "height": 187
        },
        "outputId": "66fd0bf4-9d2e-4d3b-d0fd-3d3593849d25"
      },
      "execution_count": null,
      "outputs": [
        {
          "output_type": "error",
          "ename": "AttributeError",
          "evalue": "ignored",
          "traceback": [
            "\u001b[0;31m---------------------------------------------------------------------------\u001b[0m",
            "\u001b[0;31mAttributeError\u001b[0m                            Traceback (most recent call last)",
            "\u001b[0;32m<ipython-input-49-39388d77d830>\u001b[0m in \u001b[0;36m<module>\u001b[0;34m\u001b[0m\n\u001b[1;32m      1\u001b[0m \u001b[0;31m# what if i try to access non-existent attributes\u001b[0m\u001b[0;34m\u001b[0m\u001b[0;34m\u001b[0m\u001b[0;34m\u001b[0m\u001b[0m\n\u001b[0;32m----> 2\u001b[0;31m \u001b[0mp\u001b[0m\u001b[0;34m.\u001b[0m\u001b[0mgender\u001b[0m\u001b[0;34m\u001b[0m\u001b[0;34m\u001b[0m\u001b[0m\n\u001b[0m",
            "\u001b[0;31mAttributeError\u001b[0m: 'Person' object has no attribute 'gender'"
          ]
        }
      ]
    },
    {
      "cell_type": "markdown",
      "source": [
        "### Attribute creation from outside of the class"
      ],
      "metadata": {
        "id": "gFxMl3Gpfmq-"
      }
    },
    {
      "cell_type": "code",
      "source": [
        "p.gender = 'male'"
      ],
      "metadata": {
        "id": "Ab2M4VwRfp6G"
      },
      "execution_count": null,
      "outputs": []
    },
    {
      "cell_type": "code",
      "source": [
        "p.gender"
      ],
      "metadata": {
        "colab": {
          "base_uri": "https://localhost:8080/",
          "height": 36
        },
        "id": "YquKhn88NXEZ",
        "outputId": "2d07e3aa-14d3-4016-cba2-8de3ac9c1fa5"
      },
      "execution_count": null,
      "outputs": [
        {
          "output_type": "execute_result",
          "data": {
            "text/plain": [
              "'male'"
            ],
            "application/vnd.google.colaboratory.intrinsic+json": {
              "type": "string"
            }
          },
          "metadata": {},
          "execution_count": 51
        }
      ]
    },
    {
      "cell_type": "markdown",
      "source": [
        "### Reference Variables\n",
        "\n",
        "- Reference variables hold the objects (address of objects)\n",
        "- We can create objects without reference variable as well\n",
        "- An object can have multiple reference variables\n",
        "- Assigning a new reference variable to an existing object does not create a new object"
      ],
      "metadata": {
        "id": "s26UEjp6fqjn"
      }
    },
    {
      "cell_type": "code",
      "source": [
        "# object without a reference\n",
        "class Person:\n",
        "\n",
        "  def __init__(self):\n",
        "    self.name = 'nitish'\n",
        "    self.gender = 'male'\n",
        "\n",
        "p = Person() # here p is not object, it is a reference variables which contain the address of object.\n",
        "q = p"
      ],
      "metadata": {
        "id": "FAoqeNdQfsrB"
      },
      "execution_count": null,
      "outputs": []
    },
    {
      "cell_type": "code",
      "source": [
        "# Multiple ref\n",
        "print(id(p))\n",
        "print(id(q))"
      ],
      "metadata": {
        "id": "oaJcQhkRfuGP",
        "colab": {
          "base_uri": "https://localhost:8080/"
        },
        "outputId": "c0561a5e-f2d7-4e24-c8b1-5ec0a3a52372"
      },
      "execution_count": null,
      "outputs": [
        {
          "output_type": "stream",
          "name": "stdout",
          "text": [
            "140655538334992\n",
            "140655538334992\n"
          ]
        }
      ]
    },
    {
      "cell_type": "code",
      "source": [
        "# change attribute value with the help of 2nd object"
      ],
      "metadata": {
        "id": "Ycm-nWU6fscq"
      },
      "execution_count": null,
      "outputs": []
    },
    {
      "cell_type": "code",
      "source": [
        "print(p.name)\n",
        "print(q.name)\n",
        "q.name = 'ankit'\n",
        "print(q.name)\n",
        "print(p.name)"
      ],
      "metadata": {
        "colab": {
          "base_uri": "https://localhost:8080/"
        },
        "id": "AtjSluqSfzqj",
        "outputId": "51460dab-fb58-4fe0-8280-f4befac9db5a"
      },
      "execution_count": null,
      "outputs": [
        {
          "output_type": "stream",
          "name": "stdout",
          "text": [
            "nitish\n",
            "nitish\n",
            "ankit\n",
            "ankit\n"
          ]
        }
      ]
    },
    {
      "cell_type": "markdown",
      "source": [
        "### Pass by reference"
      ],
      "metadata": {
        "id": "4nqDJqJvfukO"
      }
    },
    {
      "cell_type": "code",
      "source": [
        "# In this program we are giving object as a input and the function 'greet' is retuning an object.\n",
        "class Person:\n",
        "\n",
        "  def __init__(self,name,gender):\n",
        "    self.name = name\n",
        "    self.gender = gender\n",
        "\n",
        "# outside the class -> function\n",
        "def greet(person):\n",
        "  print('Hi my name is',person.name,'and I am a',person.gender)\n",
        "  p1 = Person('ankit','male')\n",
        "  return p1\n",
        "\n",
        "p = Person('nitish','male')\n",
        "x = greet(p)\n",
        "print(x.name)\n",
        "print(x.gender)"
      ],
      "metadata": {
        "id": "noYvRkMmfwMl",
        "colab": {
          "base_uri": "https://localhost:8080/"
        },
        "outputId": "2e61b55e-133c-4f15-9dc4-c29a416658d9"
      },
      "execution_count": null,
      "outputs": [
        {
          "output_type": "stream",
          "name": "stdout",
          "text": [
            "Hi my name is nitish and I am a male\n",
            "ankit\n",
            "male\n"
          ]
        }
      ]
    },
    {
      "cell_type": "code",
      "source": [
        "class Person:\n",
        "\n",
        "  def __init__(self,name,gender):\n",
        "    self.name = name\n",
        "    self.gender = gender\n",
        "\n",
        "# outside the class -> function\n",
        "def greet(person):\n",
        "  print(id(person))\n",
        "  person.name = 'ankit'\n",
        "  print(person.name)\n",
        "\n",
        "p = Person('nitish','male')\n",
        "print(id(p))\n",
        "greet(p)\n",
        "print(p.name)"
      ],
      "metadata": {
        "colab": {
          "base_uri": "https://localhost:8080/"
        },
        "id": "8ddbyX3hHryA",
        "outputId": "b902e987-9199-4637-c88c-ca5154bf31bb"
      },
      "execution_count": null,
      "outputs": [
        {
          "output_type": "stream",
          "name": "stdout",
          "text": [
            "140655538334288\n",
            "140655538334288\n",
            "ankit\n",
            "ankit\n"
          ]
        }
      ]
    },
    {
      "cell_type": "markdown",
      "source": [
        "###🔹 Mutability in Python\n",
        "\n",
        "* Mutable → Can be changed after creation.\n",
        "* Immutable → Cannot be changed after creation.\n",
        "\n",
        "## Object ki mutability\n",
        "we can create an object immutable.\n",
        "* Built-in objects: Some are mutable (list, dict, set), some are immutable (int, float, str, tuple).\n",
        "* User-defined class objects: By default mutable in Python."
      ],
      "metadata": {
        "id": "gRNNs9_DFvud"
      }
    },
    {
      "cell_type": "code",
      "source": [
        "class Person:\n",
        "\n",
        "  def __init__(self,name,gender):\n",
        "    self.name = name\n",
        "    self.gender = gender\n",
        "\n",
        "# outside the class -> function\n",
        "def greet(person):\n",
        "  person.name = 'ankit'\n",
        "  return person\n",
        "\n",
        "p = Person('nitish','male')\n",
        "print(id(p))\n",
        "p1 = greet(p)\n",
        "print(id(p1))"
      ],
      "metadata": {
        "id": "GcBsQGR_Fy5E",
        "colab": {
          "base_uri": "https://localhost:8080/"
        },
        "outputId": "3311f5ea-3bd7-44a0-afe5-6b5f5aff072e"
      },
      "execution_count": null,
      "outputs": [
        {
          "output_type": "stream",
          "name": "stdout",
          "text": [
            "134789652027232\n",
            "134789652027232\n"
          ]
        }
      ]
    },
    {
      "cell_type": "markdown",
      "source": [
        "## Instance Variable\n",
        "* instence Variable is a special types of variables which value depent on object.\n",
        "* The value of instence variable is different for each object."
      ],
      "metadata": {
        "id": "x6ZAJWZoJI0V"
      }
    },
    {
      "cell_type": "markdown",
      "source": [
        "# Encapsulation\n",
        "\n",
        "# 🔹 What is Encapsulation?\n",
        "\n",
        "👉 **Definition:**\n",
        "Encapsulation means **binding data (variables) and methods (functions) into a single unit (class)** and controlling access to that data.\n",
        "\n",
        "* Think of it like a **capsule** 💊 — it hides the internal details and only exposes what is necessary.\n",
        "* In OOP, we achieve encapsulation by making variables **private/protected** and accessing them only through **methods (getters/setters)**.\n",
        "\n",
        "---\n",
        "\n",
        "# 🔹 Why do we need Encapsulation?\n",
        "\n",
        "1. **Data Security (Data Hiding)** → Prevents direct modification of sensitive data.\n",
        "2. **Controlled Access** → Only methods decide how data can be read/modified.\n",
        "3. **Flexibility** → You can change internal implementation without affecting outside code.\n",
        "4. **Reusability & Maintainability** → Keeps code modular and clean.\n",
        "\n",
        "---\n",
        "\n",
        "# 🔹 Encapsulation in Python\n",
        "\n",
        "Python doesn’t have strict *private* variables like Java/C++, but it uses **naming conventions**:\n",
        "\n",
        "* **Public** → normal name (`name`) → accessible everywhere.\n",
        "* **Protected** → prefix `_name` → should not be accessed directly (just a convention).\n",
        "* **Private** → prefix `__name` → Python does *name mangling* (harder to access directly).\n",
        "\n",
        "---\n",
        "\n",
        "## ✅ Example 1: Without Encapsulation (Direct Access)\n",
        "\n",
        "```python\n",
        "class Student:\n",
        "    def __init__(self, name, marks):\n",
        "        self.name = name      # public\n",
        "        self.marks = marks    # public\n",
        "\n",
        "s = Student(\"Rudra\", 85)\n",
        "print(s.name)   # Rudra\n",
        "s.marks = 200   # ❌ Oops! Wrong data, no protection\n",
        "```\n",
        "\n",
        "---\n",
        "\n",
        "## ✅ Example 2: With Encapsulation (Data Hiding)\n",
        "\n",
        "```python\n",
        "class Student:\n",
        "    def __init__(self, name, marks):\n",
        "        self.__name = name      # private\n",
        "        self.__marks = marks    # private\n",
        "\n",
        "    # Getter method\n",
        "    def get_marks(self):\n",
        "        return self.__marks\n",
        "\n",
        "    # Setter method (with control)\n",
        "    def set_marks(self, marks):\n",
        "        if 0 <= marks <= 100:\n",
        "            self.__marks = marks\n",
        "        else:\n",
        "            print(\"❌ Invalid marks!\")\n",
        "\n",
        "s = Student(\"Rudra\", 85)\n",
        "print(s.get_marks())    # ✅ 85\n",
        "s.set_marks(95)         # ✅ valid\n",
        "print(s.get_marks())    # ✅ 95\n",
        "s.set_marks(200)        # ❌ Invalid marks!\n",
        "```\n",
        "\n",
        "👉 Here, marks cannot be set directly → they are **protected by setter**.\n",
        "\n",
        "---\n",
        "\n",
        "# 🔹 Real-Life Analogy\n",
        "\n",
        "Think of an **ATM Machine** 💳:\n",
        "\n",
        "* You don’t access money (data) directly.\n",
        "* You **press buttons (methods)** on the ATM to safely withdraw or deposit.\n",
        "* The internal logic (bank servers, calculations) is **hidden** → this is **encapsulation**.\n",
        "\n",
        "---\n",
        "\n",
        "# ✅ Summary\n",
        "\n",
        "* **Encapsulation = Binding + Data Hiding.**\n",
        "* Achieved by:\n",
        "\n",
        "  * Using `__private` variables.\n",
        "  * Providing **getters and setters**.\n",
        "* Benefits: **Security, Control, Flexibility, Cleaner Code.**\n",
        "\n",
        "---\n"
      ],
      "metadata": {
        "id": "A2Opzki1fw7x"
      }
    },
    {
      "cell_type": "markdown",
      "source": [
        "#🔹 Encapsulation vs Abstraction\n",
        "| Feature           | **Encapsulation**                                                                                  | **Abstraction**                                                                                               |\n",
        "| ----------------- | -------------------------------------------------------------------------------------------------- | ------------------------------------------------------------------------------------------------------------- |\n",
        "| **Definition**    | Wrapping data (variables) + methods (functions) into a single unit (class) and restricting access. | Hiding the **implementation details** and showing only the essential features.                                |\n",
        "| **Purpose**       | To protect data (data hiding) and control how it’s accessed/modified.                              | To reduce complexity for the user (implementation hiding).                                                    |\n",
        "| **How in Python** | - Private (`__var`) and protected (`_var`) variables <br> - Getter/Setter methods                  | - Abstract classes (`ABC`) <br> - Abstract methods (`@abstractmethod`) <br> - Interfaces (in other languages) |\n",
        "| **Focus**         | **Access control** (who can access the data)                                                       | **Exposure control** (what details are shown/hidden)                                                          |\n",
        "| **Example**       | Making `marks` private and using setter to validate.                                               | User calls `.area()` on a `Shape`, but doesn’t know the formula.                                              |\n"
      ],
      "metadata": {
        "id": "0Xsu20EEUEbH"
      }
    },
    {
      "cell_type": "code",
      "source": [
        "# instance var -> python tutor\n",
        "class Person:\n",
        "\n",
        "  def __init__(self,name_input,country_input):\n",
        "    self.name = name_input\n",
        "    self.country = country_input\n",
        "\n",
        "p1 = Person('nitish','india')\n",
        "p2 = Person('steve','australia')"
      ],
      "metadata": {
        "id": "yLRvYq47fyvp"
      },
      "execution_count": null,
      "outputs": []
    },
    {
      "cell_type": "code",
      "source": [
        "p2.name"
      ],
      "metadata": {
        "colab": {
          "base_uri": "https://localhost:8080/",
          "height": 36
        },
        "id": "myBJr2T_KZmL",
        "outputId": "98f717d2-c600-43fa-c6ba-012f518d0490"
      },
      "execution_count": null,
      "outputs": [
        {
          "output_type": "execute_result",
          "data": {
            "text/plain": [
              "'steve'"
            ],
            "application/vnd.google.colaboratory.intrinsic+json": {
              "type": "string"
            }
          },
          "metadata": {},
          "execution_count": 65
        }
      ]
    },
    {
      "cell_type": "code",
      "source": [
        "class Atm:\n",
        "\n",
        "  # constructor(special function)->superpower ->\n",
        "  def __init__(self):\n",
        "    print(id(self))\n",
        "    self.pin = ''\n",
        "    self.__balance = 0\n",
        "    #self.menu()\n",
        "\n",
        "  def get_balance(self):\n",
        "    return self.__balance\n",
        "\n",
        "  def set_balance(self,new_value):\n",
        "    if type(new_value) == int:\n",
        "      self.__balance = new_value\n",
        "    else:\n",
        "      print('beta bahot maarenge')\n",
        "\n",
        "  def __menu(self):\n",
        "    user_input = input(\"\"\"\n",
        "    Hi how can I help you?\n",
        "    1. Press 1 to create pin\n",
        "    2. Press 2 to change pin\n",
        "    3. Press 3 to check balance\n",
        "    4. Press 4 to withdraw\n",
        "    5. Anything else to exit\n",
        "    \"\"\")\n",
        "\n",
        "    if user_input == '1':\n",
        "      self.create_pin()\n",
        "    elif user_input == '2':\n",
        "      self.change_pin()\n",
        "    elif user_input == '3':\n",
        "      self.check_balance()\n",
        "    elif user_input == '4':\n",
        "      self.withdraw()\n",
        "    else:\n",
        "      exit()\n",
        "\n",
        "  def create_pin(self):\n",
        "    user_pin = input('enter your pin')\n",
        "    self.pin = user_pin\n",
        "\n",
        "    user_balance = int(input('enter balance'))\n",
        "    self.__balance = user_balance\n",
        "\n",
        "    print('pin created successfully')\n",
        "\n",
        "  def change_pin(self):\n",
        "    old_pin = input('enter old pin')\n",
        "\n",
        "    if old_pin == self.pin:\n",
        "      # let him change the pin\n",
        "      new_pin = input('enter new pin')\n",
        "      self.pin = new_pin\n",
        "      print('pin change successful')\n",
        "    else:\n",
        "      print('nai karne de sakta re baba')\n",
        "\n",
        "  def check_balance(self):\n",
        "    user_pin = input('enter your pin')\n",
        "    if user_pin == self.pin:\n",
        "      print('your balance is ',self.__balance)\n",
        "    else:\n",
        "      print('chal nikal yahan se')\n",
        "\n",
        "  def withdraw(self):\n",
        "    user_pin = input('enter the pin')\n",
        "    if user_pin == self.pin:\n",
        "      # allow to withdraw\n",
        "      amount = int(input('enter the amount'))\n",
        "      if amount <= self.__balance:\n",
        "        self.__balance = self.__balance - amount\n",
        "        print('withdrawl successful.balance is',self.__balance)\n",
        "      else:\n",
        "        print('abe garib')\n",
        "    else:\n",
        "      print('sale chor')"
      ],
      "metadata": {
        "id": "HRV0i93nzBtZ"
      },
      "execution_count": null,
      "outputs": []
    },
    {
      "cell_type": "code",
      "source": [
        "obj = Atm()"
      ],
      "metadata": {
        "colab": {
          "base_uri": "https://localhost:8080/"
        },
        "id": "L_5IBTO_LaFO",
        "outputId": "f3e1ac11-942e-4324-b471-d5e9f295fa9c"
      },
      "execution_count": null,
      "outputs": [
        {
          "output_type": "stream",
          "name": "stdout",
          "text": [
            "140655538526416\n"
          ]
        }
      ]
    },
    {
      "cell_type": "code",
      "source": [
        "obj.get_balance()"
      ],
      "metadata": {
        "colab": {
          "base_uri": "https://localhost:8080/"
        },
        "id": "2k4gY5HlLtdE",
        "outputId": "c37806fc-228d-43ab-fa1c-3d3a021666b7"
      },
      "execution_count": null,
      "outputs": [
        {
          "output_type": "execute_result",
          "data": {
            "text/plain": [
              "1000"
            ]
          },
          "metadata": {},
          "execution_count": 100
        }
      ]
    },
    {
      "cell_type": "code",
      "source": [
        "obj.set_balance(1000)"
      ],
      "metadata": {
        "id": "OEDXxBISQeH-"
      },
      "execution_count": null,
      "outputs": []
    },
    {
      "cell_type": "code",
      "source": [
        "obj.withdraw()"
      ],
      "metadata": {
        "colab": {
          "base_uri": "https://localhost:8080/",
          "height": 330
        },
        "id": "MIOrnSeLL4Gi",
        "outputId": "928252c3-ae3b-42ed-fe0c-11e1e6ed7b08"
      },
      "execution_count": null,
      "outputs": [
        {
          "name": "stdout",
          "output_type": "stream",
          "text": [
            "enter the pin\n",
            "enter the amount5000\n"
          ]
        },
        {
          "output_type": "error",
          "ename": "TypeError",
          "evalue": "ignored",
          "traceback": [
            "\u001b[0;31m---------------------------------------------------------------------------\u001b[0m",
            "\u001b[0;31mTypeError\u001b[0m                                 Traceback (most recent call last)",
            "\u001b[0;32m<ipython-input-93-826ea677aa70>\u001b[0m in \u001b[0;36m<module>\u001b[0;34m\u001b[0m\n\u001b[0;32m----> 1\u001b[0;31m \u001b[0mobj\u001b[0m\u001b[0;34m.\u001b[0m\u001b[0mwithdraw\u001b[0m\u001b[0;34m(\u001b[0m\u001b[0;34m)\u001b[0m\u001b[0;34m\u001b[0m\u001b[0;34m\u001b[0m\u001b[0m\n\u001b[0m",
            "\u001b[0;32m<ipython-input-86-f5bffac7e2a0>\u001b[0m in \u001b[0;36mwithdraw\u001b[0;34m(self)\u001b[0m\n\u001b[1;32m     67\u001b[0m       \u001b[0;31m# allow to withdraw\u001b[0m\u001b[0;34m\u001b[0m\u001b[0;34m\u001b[0m\u001b[0;34m\u001b[0m\u001b[0m\n\u001b[1;32m     68\u001b[0m       \u001b[0mamount\u001b[0m \u001b[0;34m=\u001b[0m \u001b[0mint\u001b[0m\u001b[0;34m(\u001b[0m\u001b[0minput\u001b[0m\u001b[0;34m(\u001b[0m\u001b[0;34m'enter the amount'\u001b[0m\u001b[0;34m)\u001b[0m\u001b[0;34m)\u001b[0m\u001b[0;34m\u001b[0m\u001b[0;34m\u001b[0m\u001b[0m\n\u001b[0;32m---> 69\u001b[0;31m       \u001b[0;32mif\u001b[0m \u001b[0mamount\u001b[0m \u001b[0;34m<=\u001b[0m \u001b[0mself\u001b[0m\u001b[0;34m.\u001b[0m\u001b[0m__balance\u001b[0m\u001b[0;34m:\u001b[0m\u001b[0;34m\u001b[0m\u001b[0;34m\u001b[0m\u001b[0m\n\u001b[0m\u001b[1;32m     70\u001b[0m         \u001b[0mself\u001b[0m\u001b[0;34m.\u001b[0m\u001b[0m__balance\u001b[0m \u001b[0;34m=\u001b[0m \u001b[0mself\u001b[0m\u001b[0;34m.\u001b[0m\u001b[0m__balance\u001b[0m \u001b[0;34m-\u001b[0m \u001b[0mamount\u001b[0m\u001b[0;34m\u001b[0m\u001b[0;34m\u001b[0m\u001b[0m\n\u001b[1;32m     71\u001b[0m         \u001b[0mprint\u001b[0m\u001b[0;34m(\u001b[0m\u001b[0;34m'withdrawl successful.balance is'\u001b[0m\u001b[0;34m,\u001b[0m\u001b[0mself\u001b[0m\u001b[0;34m.\u001b[0m\u001b[0m__balance\u001b[0m\u001b[0;34m)\u001b[0m\u001b[0;34m\u001b[0m\u001b[0;34m\u001b[0m\u001b[0m\n",
            "\u001b[0;31mTypeError\u001b[0m: '<=' not supported between instances of 'int' and 'str'"
          ]
        }
      ]
    },
    {
      "cell_type": "markdown",
      "source": [
        "### Collection of objects"
      ],
      "metadata": {
        "id": "2zN_yVYaf0_1"
      }
    },
    {
      "cell_type": "code",
      "source": [],
      "metadata": {
        "id": "UN7FByT3LZSX"
      },
      "execution_count": null,
      "outputs": []
    },
    {
      "cell_type": "code",
      "source": [
        "# list of objects\n",
        "class Person:\n",
        "\n",
        "  def __init__(self,name,gender):\n",
        "    self.name = name\n",
        "    self.gender = gender\n",
        "\n",
        "p1 = Person('nitish','male')\n",
        "p2 = Person('ankit','male')\n",
        "p3 = Person('ankita','female')\n",
        "\n",
        "L = [p1,p2,p3]\n",
        "\n",
        "for i in L:\n",
        "  print(i.name,i.gender)"
      ],
      "metadata": {
        "id": "VdP0aR6Qf4zp",
        "colab": {
          "base_uri": "https://localhost:8080/"
        },
        "outputId": "72deb00b-deae-4536-da36-2bae44d2245c"
      },
      "execution_count": null,
      "outputs": [
        {
          "output_type": "stream",
          "name": "stdout",
          "text": [
            "nitish male\n",
            "ankit male\n",
            "ankita female\n"
          ]
        }
      ]
    },
    {
      "cell_type": "code",
      "source": [
        "# dict of objects\n",
        "# list of objects\n",
        "class Person:\n",
        "\n",
        "  def __init__(self,name,gender):\n",
        "    self.name = name\n",
        "    self.gender = gender\n",
        "\n",
        "p1 = Person('nitish','male')\n",
        "p2 = Person('ankit','male')\n",
        "p3 = Person('ankita','female')\n",
        "\n",
        "d = {'p1':p1,'p2':p2,'p3':p3}\n",
        "\n",
        "for i in d:\n",
        "  print(d[i].gender)"
      ],
      "metadata": {
        "id": "uARXTZTCvt3M",
        "colab": {
          "base_uri": "https://localhost:8080/"
        },
        "outputId": "18e100f5-07a5-43df-d0d9-482ce648f6f5"
      },
      "execution_count": null,
      "outputs": [
        {
          "output_type": "stream",
          "name": "stdout",
          "text": [
            "male\n",
            "male\n",
            "female\n"
          ]
        }
      ]
    },
    {
      "cell_type": "markdown",
      "source": [
        "# Static Variables and Instance variables\n",
        "🔹 1. Instance Variables\n",
        "\n",
        "👉 Definition:\n",
        "\n",
        "* Variables that belong to an object (instance) of a class.\n",
        "\n",
        "* Every object gets its own copy of instance variables.\n",
        "\n",
        "👉 Where defined? Inside the __init__ method (usually with self).\n",
        "\n",
        "👉 Accessed by: object_name.variable\n",
        "\n",
        "Example:\n",
        "\n",
        "\n",
        "```\n",
        "class Student:\n",
        "    def __init__(self, name, roll):\n",
        "        self.name = name        # instance variable\n",
        "        self.roll = roll        # instance variable\n",
        "\n",
        "s1 = Student(\"Rudra\", 101)\n",
        "s2 = Student(\"Amit\", 102)\n",
        "\n",
        "print(s1.name, s1.roll)  # Rudra 101\n",
        "print(s2.name, s2.roll)  # Amit 102\n",
        "\n",
        "```\n",
        "🔹 2. Static Variables (Class Variables)\n",
        "\n",
        "👉 Definition:\n",
        "\n",
        "* Variables that belong to the class itself.\n",
        "\n",
        "* Shared by all objects of that class.\n",
        "\n",
        "* Only one copy exists, no matter how many objects are created.\n",
        "\n",
        "👉 Where defined? Directly inside the class (but outside methods).\n",
        "\n",
        "👉 Accessed by: ClassName.variable OR object_name.variable\n",
        "\n",
        "✅ Example:\n",
        "\n",
        "\n",
        "```\n",
        "class Student:\n",
        "    college = \"MMU\"   # static (class) variable\n",
        "\n",
        "    def __init__(self, name, roll):\n",
        "        self.name = name    # instance variable\n",
        "        self.roll = roll    # instance variable\n",
        "\n",
        "s1 = Student(\"Rudra\", 101)\n",
        "s2 = Student(\"Amit\", 102)\n",
        "\n",
        "print(s1.college)  # MMU\n",
        "print(s2.college)  # MMU\n",
        "\n",
        "# If we change static variable via class\n",
        "Student.college = \"IIT\"\n",
        "\n",
        "print(s1.college)  # IIT\n",
        "print(s2.college)  # IIT\n",
        "\n",
        "```\n",
        "\n",
        "\n",
        "\n",
        "### Static Variables VS Instance variables\n",
        "\n",
        "| Feature      | Instance Variable             | Static Variable                                |\n",
        "| ------------ | ----------------------------- | ---------------------------------------------- |\n",
        "| Belongs to   | Specific **object**           | The **class**                                  |\n",
        "| Storage      | Each object has its own copy  | Only one copy shared                           |\n",
        "| Defined in   | `__init__` method with `self` | Directly inside class                          |\n",
        "| Accessed via | `object_name.variable`        | `ClassName.variable` or `object_name.variable` |\n",
        "| Example      | `s1.name`, `s2.roll`          | `Student.college`                              |\n"
      ],
      "metadata": {
        "id": "TKdM9xIFf8Lt"
      }
    },
    {
      "cell_type": "code",
      "source": [
        "# need for static vars"
      ],
      "metadata": {
        "id": "yQakCFqbf-kB"
      },
      "execution_count": null,
      "outputs": []
    },
    {
      "cell_type": "code",
      "source": [
        "class Atm:\n",
        "\n",
        "  # Static variable to keep track of the number of Atm objects created\n",
        "  __counter = 1\n",
        "\n",
        "  # constructor (special function) - initializes the object\n",
        "  def __init__(self):\n",
        "    # Print the memory address of the object (self)\n",
        "    print(id(self))\n",
        "    self.pin = ''\n",
        "    # Private instance variable for balance (name mangled to _Atm__balance)\n",
        "    self.__balance = 0\n",
        "    # Assign a unique customer ID using the static counter\n",
        "    self.cid = Atm.__counter\n",
        "    # Increment the static counter for the next object\n",
        "    Atm.__counter = Atm.__counter + 1\n",
        "    # self.menu() # Commented out as per original code\n",
        "\n",
        "  # utility functions\n",
        "  @staticmethod\n",
        "  def get_counter():\n",
        "    # Static method to access the private static variable __counter\n",
        "    return Atm.__counter\n",
        "\n",
        "  def get_balance(self):\n",
        "    # Instance method to get the balance (accesses private instance variable)\n",
        "    return self.__balance\n",
        "\n",
        "  def set_balance(self,new_value):\n",
        "    # Instance method to set the balance with type checking\n",
        "    if type(new_value) == int:\n",
        "      self.__balance = new_value\n",
        "    else:\n",
        "      print('beta bahot maarenge')\n",
        "\n",
        "  # Private instance method for the main menu (name mangled to _Atm__menu)\n",
        "  def __menu(self):\n",
        "    user_input = input(\"\"\"\n",
        "    Hi how can I help you?\n",
        "    1. Press 1 to create pin\n",
        "    2. Press 2 to change pin\n",
        "    3. Press 3 to check balance\n",
        "    4. Press 4 to withdraw\n",
        "    5. Anything else to exit\n",
        "    \"\"\")\n",
        "\n",
        "    if user_input == '1':\n",
        "      self.create_pin()\n",
        "    elif user_input == '2':\n",
        "      self.change_pin()\n",
        "    elif user_input == '3':\n",
        "      self.check_balance()\n",
        "    elif user_input == '4':\n",
        "      self.withdraw()\n",
        "    else:\n",
        "      exit()\n",
        "\n",
        "  def create_pin(self):\n",
        "    # Instance method to create a pin and initial balance\n",
        "    user_pin = input('enter your pin')\n",
        "    self.pin = user_pin\n",
        "\n",
        "    user_balance = int(input('enter balance'))\n",
        "    self.__balance = user_balance\n",
        "\n",
        "    print('pin created successfully')\n",
        "\n",
        "  def change_pin(self):\n",
        "    # Instance method to change the pin\n",
        "    old_pin = input('enter old pin')\n",
        "\n",
        "    if old_pin == self.pin:\n",
        "      # let him change the pin\n",
        "      new_pin = input('enter new pin')\n",
        "      self.pin = new_pin\n",
        "      print('pin change successful')\n",
        "    else:\n",
        "      print('nai karne de sakta re baba')\n",
        "\n",
        "  def check_balance(self):\n",
        "    # Instance method to check the balance\n",
        "    user_pin = input('enter your pin')\n",
        "    if user_pin == self.pin:\n",
        "      print('your balance is ',self.__balance)\n",
        "    else:\n",
        "      print('chal nikal yahan se')\n",
        "\n",
        "  def withdraw(self):\n",
        "    # Instance method to withdraw money\n",
        "    user_pin = input('enter the pin')\n",
        "    if user_pin == self.pin:\n",
        "      # allow to withdraw\n",
        "      amount = int(input('enter the amount'))\n",
        "      if amount <= self.__balance:\n",
        "        self.__balance = self.__balance - amount\n",
        "        print('withdrawl successful.balance is',self.__balance)\n",
        "      else:\n",
        "        print('abe garib')\n",
        "    else:\n",
        "      print('sale chor')"
      ],
      "metadata": {
        "id": "5HYjBHv9wZNm"
      },
      "execution_count": null,
      "outputs": []
    },
    {
      "cell_type": "code",
      "source": [
        "# Create an instance of the Atm class\n",
        "c1 = Atm()"
      ],
      "metadata": {
        "id": "uafMrCPewZWY",
        "colab": {
          "base_uri": "https://localhost:8080/"
        },
        "outputId": "b0c914a4-b08b-4aa0-ebcb-9f1b4bacd0ba"
      },
      "execution_count": null,
      "outputs": [
        {
          "output_type": "stream",
          "name": "stdout",
          "text": [
            "140655538287248\n"
          ]
        }
      ]
    },
    {
      "cell_type": "code",
      "source": [
        "# Access the static method get_counter using the class name\n",
        "Atm.get_counter()"
      ],
      "metadata": {
        "id": "f35wRAlXwZa7",
        "colab": {
          "base_uri": "https://localhost:8080/"
        },
        "outputId": "a7a897b2-8262-45b7-b83a-aad207ee102f"
      },
      "execution_count": null,
      "outputs": [
        {
          "output_type": "execute_result",
          "data": {
            "text/plain": [
              "2"
            ]
          },
          "metadata": {},
          "execution_count": 128
        }
      ]
    },
    {
      "cell_type": "code",
      "source": [
        "# Create another instance of the Atm class\n",
        "c3 = Atm()"
      ],
      "metadata": {
        "colab": {
          "base_uri": "https://localhost:8080/"
        },
        "id": "WiCrLBgGTseq",
        "outputId": "9019d462-0b46-4a9d-8837-6a3c31591ad4"
      },
      "execution_count": null,
      "outputs": [
        {
          "output_type": "stream",
          "name": "stdout",
          "text": [
            "140655538226704\n"
          ]
        }
      ]
    },
    {
      "cell_type": "code",
      "source": [
        "# Access the instance variable cid (customer ID) of the c3 object\n",
        "c3.cid"
      ],
      "metadata": {
        "colab": {
          "base_uri": "https://localhost:8080/"
        },
        "id": "YwPU4wRYTuoK",
        "outputId": "cb34a43c-1337-412f-c7ee-e6a2eccd9066"
      },
      "execution_count": null,
      "outputs": [
        {
          "output_type": "execute_result",
          "data": {
            "text/plain": [
              "3"
            ]
          },
          "metadata": {},
          "execution_count": 121
        }
      ]
    },
    {
      "cell_type": "code",
      "source": [
        "# Attempt to access the private static variable __counter directly using the class name\n",
        "# This will result in an AttributeError because of name mangling.\n",
        "# The actual name is _Atm__counter\n",
        "Atm.counter"
      ],
      "metadata": {
        "colab": {
          "base_uri": "https://localhost:8080/"
        },
        "id": "-shiIdW1Vmzd",
        "outputId": "2e1b0468-2e2f-4061-d219-6ee4d818ceea"
      },
      "execution_count": null,
      "outputs": [
        {
          "output_type": "execute_result",
          "data": {
            "text/plain": [
              "4"
            ]
          },
          "metadata": {},
          "execution_count": 122
        }
      ]
    },
    {
      "cell_type": "markdown",
      "source": [
        "# Static methods\n",
        "\n",
        "# 🔹 What is a Static Method?\n",
        "\n",
        "* A **static method** is a method inside a class that **does not depend on the object (`self`) or the class (`cls`)**.\n",
        "* It is used when you want to **group a function inside a class for organization**, but that function does not need to access or modify instance or class variables.\n",
        "\n",
        "👉 Declared using the **`@staticmethod`** decorator.\n",
        "\n",
        "---\n",
        "\n",
        "# 🔹 Rules of Static Method\n",
        "\n",
        "1. Does **not take `self`** (no access to instance variables).\n",
        "2. Does **not take `cls`** (no access to class variables).\n",
        "3. Can be called using the **class name** or the **object**.\n",
        "4. Works just like a normal function, but lives inside a class for **better structure**.\n",
        "\n",
        "---\n",
        "\n",
        "# 🔹 Example: Static Method\n",
        "\n",
        "```python\n",
        "class Math:\n",
        "    @staticmethod\n",
        "    def add(a, b):\n",
        "        return a + b\n",
        "    \n",
        "    @staticmethod\n",
        "    def multiply(a, b):\n",
        "        return a * b\n",
        "\n",
        "# Call without creating object\n",
        "print(Math.add(5, 3))       # 8\n",
        "print(Math.multiply(4, 6))  # 24\n",
        "\n",
        "# Call using object\n",
        "m = Math()\n",
        "print(m.add(10, 20))        # 30\n",
        "```\n",
        "\n",
        "👉 `add` and `multiply` don’t use `self` or `cls`, so they are **static methods**.\n",
        "\n",
        "---\n",
        "\n",
        "# 🔹 When to Use Static Methods?\n",
        "\n",
        "* When the function is **logically related** to the class but doesn’t need object or class data.\n",
        "* For **utility/helper methods**.\n",
        "\n",
        "---\n",
        "\n",
        "# 🔹 Difference Between Methods\n",
        "\n",
        "| Type                | Decorator       | Uses `self`? | Uses `cls`? | Example Use                   |\n",
        "| ------------------- | --------------- | ------------ | ----------- | ----------------------------- |\n",
        "| **Instance Method** | (default)       | ✅ Yes        | ❌ No        | Work with object data         |\n",
        "| **Class Method**    | `@classmethod`  | ❌ No         | ✅ Yes       | Work with class variables     |\n",
        "| **Static Method**   | `@staticmethod` | ❌ No         | ❌ No        | Independent utility functions |\n",
        "\n",
        "---\n",
        "\n",
        "✅ **Shortcut to remember:**\n",
        "\n",
        "* **Instance Method → needs `self` (object data)**\n",
        "* **Class Method → needs `cls` (class data)**\n",
        "* **Static Method → needs nothing (independent helper)**\n",
        "\n",
        "---\n",
        "\n"
      ],
      "metadata": {
        "id": "K9bxHyfBgC3Y"
      }
    },
    {
      "cell_type": "code",
      "source": [],
      "metadata": {
        "id": "_c09xqV9gEf-"
      },
      "execution_count": null,
      "outputs": []
    },
    {
      "cell_type": "markdown",
      "source": [
        "##### Points to remember about static\n",
        "\n",
        "- Static attributes are created at class level.\n",
        "- Static attributes are accessed using ClassName.\n",
        "- Static attributes are object independent. We can access them without creating instance (object) of the class in which they are defined.\n",
        "- The value stored in static attribute is shared between all instances(objects) of the class in which the static attribute is defined."
      ],
      "metadata": {
        "id": "Izqb_9FtwoIZ"
      }
    },
    {
      "cell_type": "code",
      "source": [
        "class Lion:\n",
        "  # Static variable for the water source, marked as private\n",
        "  __water_source=\"well in the circus\"\n",
        "\n",
        "  def __init__(self,name, gender):\n",
        "      # Instance variables for name and gender, marked as private\n",
        "      self.__name=name\n",
        "      self.__gender=gender\n",
        "\n",
        "  def drinks_water(self):\n",
        "      # Instance method accessing instance variables and the static variable\n",
        "      print(self.__name,\n",
        "      \"drinks water from the\",Lion.__water_source)\n",
        "\n",
        "  @staticmethod\n",
        "  def get_water_source():\n",
        "      # Static method to access the private static variable __water_source\n",
        "      return Lion.__water_source\n",
        "\n",
        "# Create an instance of the Lion class\n",
        "simba=Lion(\"Simba\",\"Male\")\n",
        "# Call the instance method drinks_water\n",
        "simba.drinks_water()\n",
        "# Access the static method get_water_source using the class name\n",
        "print( \"Water source of lions:\",Lion.get_water_source())"
      ],
      "metadata": {
        "id": "3u0RdyaFwyaP",
        "colab": {
          "base_uri": "https://localhost:8080/"
        },
        "outputId": "4ea10faf-72b2-483c-e0ac-42f82c0617c4"
      },
      "execution_count": 1,
      "outputs": [
        {
          "output_type": "stream",
          "name": "stdout",
          "text": [
            "Simba drinks water from the well in the circus\n",
            "Water source of lions: well in the circus\n"
          ]
        }
      ]
    }
  ]
}