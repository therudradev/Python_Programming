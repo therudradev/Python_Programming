{
  "nbformat": 4,
  "nbformat_minor": 0,
  "metadata": {
    "colab": {
      "provenance": [],
      "include_colab_link": true
    },
    "kernelspec": {
      "name": "python3",
      "display_name": "Python 3"
    },
    "language_info": {
      "name": "python"
    }
  },
  "cells": [
    {
      "cell_type": "markdown",
      "metadata": {
        "id": "view-in-github",
        "colab_type": "text"
      },
      "source": [
        "<a href=\"https://colab.research.google.com/github/therudradev/Python_Programming/blob/main/Task_1_Solution.ipynb\" target=\"_parent\"><img src=\"https://colab.research.google.com/assets/colab-badge.svg\" alt=\"Open In Colab\"/></a>"
      ]
    },
    {
      "cell_type": "markdown",
      "source": [
        "# Task : Session 1\n",
        "Solve these questions own your own and try to test yourself what you have learned in the session.\n",
        "\n",
        "Happy Learning!"
      ],
      "metadata": {
        "id": "A05OG15VqOPF"
      }
    },
    {
      "cell_type": "markdown",
      "source": [
        "### Q1 :- Print the given strings as per stated format.\n",
        "\n",
        "**Given strings**:\n",
        "```\n",
        "\"Data\" \"Science\" \"And\" \"Python\"\n",
        "\"By\" \"Rudra\"\n",
        "```\n",
        "**Output**:\n",
        "```\n",
        "Data-Science-And-Python-started-By-Rudra\n",
        "```\n",
        "\n",
        "Concept- [Seperator and End]"
      ],
      "metadata": {
        "id": "2doIXf8bqe9_"
      }
    },
    {
      "cell_type": "code",
      "source": [
        "# Write your code here\n",
        "print(\"Data\",\"Science\",\"And\",\"Python\",sep='-',end='-started-')\n",
        "print(\"By\",\"Rudra\",sep='-')"
      ],
      "metadata": {
        "id": "-em6d3KErDtp",
        "colab": {
          "base_uri": "https://localhost:8080/"
        },
        "outputId": "5dd6cdb3-d55f-41b6-b342-14ccba9efa3a"
      },
      "execution_count": null,
      "outputs": [
        {
          "output_type": "stream",
          "name": "stdout",
          "text": [
            "Data-Science-And-Python-started-By-Rudra\n"
          ]
        }
      ]
    },
    {
      "cell_type": "markdown",
      "source": [
        "### Q2:- Write a program that will convert celsius value to fahrenheit."
      ],
      "metadata": {
        "id": "1KUpN7ZTrC3_"
      }
    },
    {
      "cell_type": "code",
      "source": [
        "# Write your code here\n",
        "celsius = float(input(\"Enter temperature in celsius: \"))\n",
        "fahrenheit = (celsius * 9/5) + 32\n",
        "print('%.2f Celsius is: %0.2f Fahrenheit' %(celsius, fahrenheit))"
      ],
      "metadata": {
        "id": "yxKYhYQiqWfj",
        "colab": {
          "base_uri": "https://localhost:8080/"
        },
        "outputId": "f4e5f8e0-9e2e-44cf-84d4-d3a3e17bd80b"
      },
      "execution_count": null,
      "outputs": [
        {
          "output_type": "stream",
          "name": "stdout",
          "text": [
            "Enter temperature in celsius: 0\n",
            "0.00 Celsius is: 32.00 Fahrenheit\n"
          ]
        }
      ]
    },
    {
      "cell_type": "markdown",
      "source": [
        "### Q3:- Take 2 numbers as input from the user.Write a program to swap the numbers without using any special python syntax."
      ],
      "metadata": {
        "id": "RLrOBBJurLB2"
      }
    },
    {
      "cell_type": "code",
      "source": [
        "# Write your code here\n",
        "# we have 3 method, but the question is not asking about the 1st method\n",
        "# method 1\n",
        "x = int(input(\"Enter value of x: \"))\n",
        "y = int(input(\"Enter value of y: \"))\n",
        "print (\"Before swapping: \")\n",
        "print(\"Value of x : \", x, \" and y : \", y)\n",
        "x, y = y, x\n",
        "print (\"After swapping: \")\n",
        "print(\"Value of x : \", x, \" and y : \", y)"
      ],
      "metadata": {
        "id": "yPn7if0TrJ4F",
        "colab": {
          "base_uri": "https://localhost:8080/"
        },
        "outputId": "694e2a15-81ce-47d9-c365-96ee5810c6b3"
      },
      "execution_count": null,
      "outputs": [
        {
          "output_type": "stream",
          "name": "stdout",
          "text": [
            "Enter value of x: 2\n",
            "Enter value of y: 7\n",
            "Before swapping: \n",
            "Value of x :  2  and y :  7\n",
            "After swapping: \n",
            "Value of x :  7  and y :  2\n"
          ]
        }
      ]
    },
    {
      "cell_type": "code",
      "source": [
        "# method 2\n",
        "x = int(input(\"Enter value of x: \"))\n",
        "y = int(input(\"Enter value of y: \"))\n",
        "print (\"Before swapping: \")\n",
        "print(\"Value of x : \", x, \" and y : \", y)\n",
        "temp = x\n",
        "x = y\n",
        "y = temp\n",
        "print (\"After swapping: \")\n",
        "print(\"Value of x : \", x, \" and y : \", y)"
      ],
      "metadata": {
        "colab": {
          "base_uri": "https://localhost:8080/"
        },
        "id": "ZFNaZ-UpiCiZ",
        "outputId": "61e821b0-755b-4539-c235-55e5f7da4805"
      },
      "execution_count": null,
      "outputs": [
        {
          "output_type": "stream",
          "name": "stdout",
          "text": [
            "Enter value of x: 15\n",
            "Enter value of y: 33\n",
            "Before swapping: \n",
            "Value of x :  15  and y :  33\n",
            "After swapping: \n",
            "Value of x :  33  and y :  15\n"
          ]
        }
      ]
    },
    {
      "cell_type": "code",
      "source": [
        "# method 3\n",
        "x = int(input(\"Enter value of x: \"))\n",
        "y = int(input(\"Enter value of y: \"))\n",
        "print (\"Before swapping: \")\n",
        "print(\"Value of x : \", x, \" and y : \", y)\n",
        "x = x + y\n",
        "y = x - y\n",
        "x = x - y\n",
        "print (\"After swapping: \")\n",
        "print(\"Value of x : \", x, \" and y : \", y)"
      ],
      "metadata": {
        "colab": {
          "base_uri": "https://localhost:8080/"
        },
        "id": "eiaAOcS-iHUS",
        "outputId": "1cac2eca-dd0b-4d9a-c0d2-009296b33ed8"
      },
      "execution_count": null,
      "outputs": [
        {
          "output_type": "stream",
          "name": "stdout",
          "text": [
            "Enter value of x: 27\n",
            "Enter value of y: 7\n",
            "Before swapping: \n",
            "Value of x :  27  and y :  7\n",
            "After swapping: \n",
            "Value of x :  7  and y :  27\n"
          ]
        }
      ]
    },
    {
      "cell_type": "markdown",
      "source": [
        "### Q4:- Write a program to find the euclidean distance between two coordinates.Take both the coordinates from the user as input."
      ],
      "metadata": {
        "id": "waLCP1bjr7ML"
      }
    },
    {
      "cell_type": "code",
      "source": [
        "# Write your code here\n",
        "x1 = int(input(\"Enter value of x1: \"))\n",
        "y1 = int(input(\"Enter value of y1: \"))\n",
        "x2 = int(input(\"Enter value of x2: \"))\n",
        "y2 = int(input(\"Enter value of y2: \"))\n",
        "\n",
        "distance = (((x2-x1)**2)+((y2-y1)**2))**0.5\n",
        "\n",
        "print(\"The Euclidean Distance is: \", distance)\n"
      ],
      "metadata": {
        "id": "Pl1Sv-xnrxnH",
        "colab": {
          "base_uri": "https://localhost:8080/"
        },
        "outputId": "269e48f2-7573-4300-cbc2-21c8880e017e"
      },
      "execution_count": null,
      "outputs": [
        {
          "output_type": "stream",
          "name": "stdout",
          "text": [
            "Enter value of x1: 0\n",
            "Enter value of y1: 0\n",
            "Enter value of x2: 2\n",
            "Enter value of y2: 2\n",
            "The Euclidean Distance is:  2.8284271247461903\n"
          ]
        }
      ]
    },
    {
      "cell_type": "markdown",
      "source": [
        "### Q5:- Write a program to find the simple interest when the value of principle,rate of interest and time period is provided by the user.\n"
      ],
      "metadata": {
        "id": "VLrhg-FRsHjR"
      }
    },
    {
      "cell_type": "code",
      "source": [
        "# Write your code here\n",
        "p = float(input(\"Enter the principal amount: \"))\n",
        "r = float(input(\"Enter the rate of interest: \"))\n",
        "t = float(input(\"Enter the time period: \"))\n",
        "si = (p*r*t)/100\n",
        "print(\"The simple interest is: \", si)"
      ],
      "metadata": {
        "id": "s40DlReZsTmY",
        "colab": {
          "base_uri": "https://localhost:8080/"
        },
        "outputId": "a26f3d8c-ea78-4d2e-cbbb-148dceb0eea7"
      },
      "execution_count": null,
      "outputs": [
        {
          "output_type": "stream",
          "name": "stdout",
          "text": [
            "Enter the principal amount: 100\n",
            "Enter the rate of interest: 20\n",
            "Enter the time period: 2\n",
            "The simple interest is:  40.0\n"
          ]
        }
      ]
    },
    {
      "cell_type": "markdown",
      "source": [
        "### Q6:- Write a program that will tell the number of dogs and chicken are there when the user will provide the value of total heads and legs.\n",
        "\n",
        "For example:\n",
        "Input:\n",
        "heads -> 4\n",
        "legs -> 12\n",
        "<br>\n",
        "Output:\n",
        "dogs -> 2\n",
        "chicken -> 2\n",
        "\n",
        "\n",
        "\n"
      ],
      "metadata": {
        "id": "LMy0BTUktYKa"
      }
    },
    {
      "cell_type": "code",
      "source": [
        "# Write your code here\n",
        "heads = int(input(\"Enter the value of head: \"))\n",
        "legs = int(input(\"Enter the value of legs: \"))\n",
        "dog=heads-(4*heads-legs)/2\n",
        "chicken=(4*heads-legs)/2\n",
        "\n",
        "print(\"Number of Dogs \", dog)\n",
        "print(\"Number of Chicken \",chicken)"
      ],
      "metadata": {
        "id": "XSBvJoA4tXaG",
        "colab": {
          "base_uri": "https://localhost:8080/"
        },
        "outputId": "cb99a974-9f90-4d26-c1c5-5c574d601f46"
      },
      "execution_count": 5,
      "outputs": [
        {
          "output_type": "stream",
          "name": "stdout",
          "text": [
            "Enter the value of head: 4\n",
            "Enter the value of legs: 12\n",
            "Number of Dogs  2.0\n",
            "Number of Chicken  2.0\n"
          ]
        }
      ]
    },
    {
      "cell_type": "markdown",
      "source": [
        "### Q7:- Write a program to find the sum of squares of first n natural numbers where n will be provided by the user."
      ],
      "metadata": {
        "id": "gJ7C5kZYt4BP"
      }
    },
    {
      "cell_type": "code",
      "source": [
        "# Write your code here\n",
        "n = int(input(\"Enter the value of n: \"))\n",
        "sum = (n*(n+1)*(2*n+1))/6\n",
        "print(\"The sum of squares of first\", n, \"natural numbers is: \", sum)"
      ],
      "metadata": {
        "id": "_tHsmEHzt2nX",
        "colab": {
          "base_uri": "https://localhost:8080/"
        },
        "outputId": "8e9c993d-9ea5-4aa1-f714-207061a6e20a"
      },
      "execution_count": 3,
      "outputs": [
        {
          "output_type": "stream",
          "name": "stdout",
          "text": [
            "Enter the value of n: 3\n",
            "The sum of squares of first 3 natural numbers is:  14.0\n"
          ]
        }
      ]
    },
    {
      "cell_type": "markdown",
      "source": [
        "### Q8:- Given the first 2 terms of an Arithmetic Series.Find the Nth term of the series. Assume all inputs are provided by the user."
      ],
      "metadata": {
        "id": "FHrMM7g-yG1h"
      }
    },
    {
      "cell_type": "code",
      "source": [
        "# Write your code here\n",
        "a = int(input(\"Enter the first term: \"))\n",
        "b = int(input(\"Enter the second term: \"))\n",
        "n = int(input(\"Enter the value of n: \"))\n",
        "d = b-a\n",
        "nth_term = a+(n-1)*d\n",
        "print(\"The\", n, \"term of the series is: \", nth_term)"
      ],
      "metadata": {
        "id": "go4_kmZmyVSx",
        "colab": {
          "base_uri": "https://localhost:8080/"
        },
        "outputId": "8d5eaa95-7fe4-4f7c-ea01-bdf60a29f289"
      },
      "execution_count": 4,
      "outputs": [
        {
          "output_type": "stream",
          "name": "stdout",
          "text": [
            "Enter the first term: 2\n",
            "Enter the second term: 4\n",
            "Enter the value of n: 5\n",
            "The 5 term of the series is:  10\n"
          ]
        }
      ]
    },
    {
      "cell_type": "markdown",
      "source": [
        "### Q9:- Given 2 fractions, find the sum of those 2 fractions.Take the numerator and denominator values of the fractions from the user."
      ],
      "metadata": {
        "id": "QgyRX_es1oum"
      }
    },
    {
      "cell_type": "code",
      "source": [
        "# Write your code here\n",
        "n1=int(input(\"Enter the numerator of the first fraction: \"))\n",
        "d1=int(input(\"Enter the denominator of the first fraction: \"))\n",
        "n2=int(input(\"Enter the numerator of the second fraction: \"))\n",
        "d2=int(input(\"Enter the denominator of the second fraction: \"))\n",
        "numerator = n1*d2+n2*d1\n",
        "denominator = d1*d2\n",
        "print(\"The sum of {}/{} and {}/{} is {}/{}\".format(n1,d1,n2,d2,numerator,denominator))"
      ],
      "metadata": {
        "id": "X05xqFS1yW16",
        "colab": {
          "base_uri": "https://localhost:8080/"
        },
        "outputId": "7add4982-242c-4c94-a08c-a4a2fc752bec"
      },
      "execution_count": 8,
      "outputs": [
        {
          "output_type": "stream",
          "name": "stdout",
          "text": [
            "Enter the numerator of the first fraction: 2\n",
            "Enter the denominator of the first fraction: 3\n",
            "Enter the numerator of the second fraction: 1\n",
            "Enter the denominator of the second fraction: 3\n",
            "The sum of 2/3 and 1/3 is 9/9\n"
          ]
        }
      ]
    },
    {
      "cell_type": "markdown",
      "source": [
        "### Q10:- Given the height, width and breadth of a milk tank, you have to find out how many glasses of milk can be obtained? Assume all the inputs are provided by the user.\n",
        "\n",
        "\n",
        "\n",
        "Input:<br>\n",
        "Dimensions of the milk tank<br>\n",
        "H = 20cm, L = 20cm, B = 20cm\n",
        "<br><br>\n",
        "Dimensions of the glass<br>\n",
        "h = 3cm, r = 1cm"
      ],
      "metadata": {
        "id": "eaql38ln13u7"
      }
    },
    {
      "cell_type": "code",
      "source": [
        "# Write your code here\n"
      ],
      "metadata": {
        "id": "FePZqno74eWv"
      },
      "execution_count": null,
      "outputs": []
    },
    {
      "cell_type": "code",
      "metadata": {
        "colab": {
          "base_uri": "https://localhost:8080/"
        },
        "id": "5ae58def",
        "outputId": "5496a3ad-c033-4324-dfe4-b825606b9d6c"
      },
      "source": [
        "import math\n",
        "\n",
        "# Dimensions of the milk tank\n",
        "H = int(input(\"Enter the height of the milk tank in cm: \"))\n",
        "L = int(input(\"Enter the length of the milk tank in cm: \"))\n",
        "B = int(input(\"Enter the breadth of the milk tank in cm: \"))\n",
        "\n",
        "# Dimensions of the glass\n",
        "h = int(input(\"Enter the height of the glass in cm: \"))\n",
        "r = int(input(\"Enter the radius of the glass in cm: \"))\n",
        "\n",
        "# Calculate the volume of the milk tank (rectangular prism)\n",
        "tank_volume = H * L * B\n",
        "\n",
        "# Calculate the volume of the glass (cylinder)\n",
        "glass_volume = math.pi * (r**2) * h\n",
        "\n",
        "# Calculate the number of glasses of milk\n",
        "num_glasses = tank_volume / glass_volume\n",
        "\n",
        "print(\"The number of glasses of milk that can be obtained is:\", int(num_glasses))"
      ],
      "execution_count": 11,
      "outputs": [
        {
          "output_type": "stream",
          "name": "stdout",
          "text": [
            "Enter the height of the milk tank in cm: 25\n",
            "Enter the length of the milk tank in cm: 30\n",
            "Enter the breadth of the milk tank in cm: 12\n",
            "Enter the height of the glass in cm: 1\n",
            "Enter the radius of the glass in cm: 2\n",
            "The number of glasses of milk that can be obtained is: 716\n"
          ]
        }
      ]
    }
  ]
}