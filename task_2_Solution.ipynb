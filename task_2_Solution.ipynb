{
  "nbformat": 4,
  "nbformat_minor": 0,
  "metadata": {
    "colab": {
      "provenance": [],
      "include_colab_link": true
    },
    "kernelspec": {
      "name": "python3",
      "display_name": "Python 3"
    },
    "language_info": {
      "name": "python"
    }
  },
  "cells": [
    {
      "cell_type": "markdown",
      "metadata": {
        "id": "view-in-github",
        "colab_type": "text"
      },
      "source": [
        "<a href=\"https://colab.research.google.com/github/therudradev/Python_Programming/blob/main/task_2_Solution.ipynb\" target=\"_parent\"><img src=\"https://colab.research.google.com/assets/colab-badge.svg\" alt=\"Open In Colab\"/></a>"
      ]
    },
    {
      "cell_type": "markdown",
      "source": [
        "### `Problem 1`: Write a program that will give you in hand monthly salary after deduction on CTC - HRA(10%), DA(5%), PF(3%) and taxes deduction as below:\n",
        "\n",
        "> Salary(Lakhs) : Tax(%)\n",
        "\n",
        "*   Below 5 : 0%\n",
        "*   5-10 : 10%\n",
        "*   10-20 : 20%\n",
        "*   aboove 20 : 30%"
      ],
      "metadata": {
        "id": "w6RlOAXV2PWh"
      }
    },
    {
      "cell_type": "code",
      "source": [
        "# Write code here\n",
        "#write your code\n",
        "ctc = int(input('Enter your anual CTC: '))\n",
        "\n",
        "if ctc < 5000000:\n",
        "  salary=ctc*.82  #18 percent from all\n",
        "elif ctc < 10000000:\n",
        "  salary=ctc*.72\n",
        "elif ctc < 20000000:\n",
        "  salary=ctc*.62\n",
        "else:\n",
        "  salary=ctc*.52\n",
        "\n",
        "print(\"You in hand monthly salary will be-\", round(salary/ 12, 2))"
      ],
      "metadata": {
        "id": "7tMHvKYO2etI",
        "colab": {
          "base_uri": "https://localhost:8080/"
        },
        "outputId": "2647d8c0-68a6-4cfa-c6ee-1b2225b7ff69"
      },
      "execution_count": null,
      "outputs": [
        {
          "output_type": "stream",
          "name": "stdout",
          "text": [
            "Enter your anual CTC: 1200000\n",
            "You in hand monthly salary will be- 82000.0\n"
          ]
        }
      ]
    },
    {
      "cell_type": "markdown",
      "source": [
        "### `Problem 2`: Write a program that take a user input of three angles and will find out whether it can form a triangle or not."
      ],
      "metadata": {
        "id": "tYzCGqwl2hfN"
      }
    },
    {
      "cell_type": "code",
      "source": [
        "# Write code here\n",
        "\n",
        "angle1 = float(input(\"Enter the first angle: \"))\n",
        "angle2 = float(input(\"Enter the second angle: \"))\n",
        "angle3 = float(input(\"Enter the third angle: \"))\n",
        "\n",
        "if angle1 + angle2 + angle3 == 180 and angle1 > 0 and angle2 > 0 and angle3 > 0:\n",
        "  print(\"These angles can form a triangle.\")\n",
        "else:\n",
        "  print(\"These angles cannot form a triangle.\")"
      ],
      "metadata": {
        "id": "FYEqln-I2kxV",
        "colab": {
          "base_uri": "https://localhost:8080/"
        },
        "outputId": "e72799ed-b355-4fdb-826d-975743c17020"
      },
      "execution_count": null,
      "outputs": [
        {
          "output_type": "stream",
          "name": "stdout",
          "text": [
            "Enter the first angle: -2\n",
            "Enter the second angle: 60\n",
            "Enter the third angle: 122\n",
            "These angles cannot form a triangle.\n"
          ]
        }
      ]
    },
    {
      "cell_type": "markdown",
      "source": [
        "### `Problem 3`: Write a program that will take user input of cost price and selling price and determines whether its a loss or a profit."
      ],
      "metadata": {
        "id": "5vEpPh8C2pE4"
      }
    },
    {
      "cell_type": "code",
      "source": [
        "# Write code here\n",
        "cost_price = float(input(\"Enter the cost price: \"))\n",
        "selling_price = float(input(\"Enter the selling price: \"))\n",
        "\n",
        "if selling_price > cost_price:\n",
        "  print(\"It is a profit of\", round(selling_price - cost_price, 2))\n",
        "else:\n",
        "  print(\"It is a loss of\", round(cost_price - selling_price, 2))"
      ],
      "metadata": {
        "id": "jDwBXlkO2sfl",
        "colab": {
          "base_uri": "https://localhost:8080/"
        },
        "outputId": "2ecbc655-6a07-43b8-dcfd-f7c1e63e4484"
      },
      "execution_count": null,
      "outputs": [
        {
          "output_type": "stream",
          "name": "stdout",
          "text": [
            "Enter the cost price: 500\n",
            "Enter the selling price: 400\n",
            "It is a loss of 100.0\n"
          ]
        }
      ]
    },
    {
      "cell_type": "markdown",
      "source": [
        "### `Problem 4`: Write a menu-driven program -\n",
        "1. cm to ft\n",
        "2. km to miles\n",
        "3. USD to INR\n",
        "4. exit"
      ],
      "metadata": {
        "id": "J_FG_cJW2ugT"
      }
    },
    {
      "cell_type": "code",
      "source": [
        "# Write code here\n",
        "menu =input(\"\"\"\n",
        "Hii select an option\n",
        "1. cm to ft\n",
        "2. km to miles\n",
        "3. USD to INR\n",
        "4. exit\n",
        "\"\"\")\n",
        "\n",
        "if menu == '1':\n",
        "  cm = float(input(\"Enter the value in cm: \"))\n",
        "  print(\"The value in ft is\", round(0.032*cm, 2))\n",
        "elif menu == '2':\n",
        "  km = float(input(\"Enter the value in km: \"))\n",
        "  print(\"The value in miles is\", round(km*0.62, 2))\n",
        "elif menu == '3':\n",
        "  usd = float(input(\"Enter the value in USD: \"))\n",
        "  print(\"The value in INR is\", round(usd * 80, 2))\n",
        "elif menu == '4':\n",
        "  print(\"Thank you for using our service\")\n",
        "\n"
      ],
      "metadata": {
        "id": "yBHhaCGQ2zpD",
        "colab": {
          "base_uri": "https://localhost:8080/"
        },
        "outputId": "f378ff1a-47ab-46b8-effe-96df556de8fc"
      },
      "execution_count": null,
      "outputs": [
        {
          "output_type": "stream",
          "name": "stdout",
          "text": [
            "\n",
            "Hii select an option\n",
            "1. cm to ft\n",
            "2. km to miles\n",
            "3. USD to INR\n",
            "4. exit\n",
            "1\n",
            "Enter the value in cm: 100\n",
            "The value in ft is 3.2\n"
          ]
        }
      ]
    },
    {
      "cell_type": "code",
      "source": [
        "# problem 4 using switch case\n",
        "def converter():\n",
        "  while True:\n",
        "    menu =input(\"\"\"\n",
        "    Hii select an option\n",
        "    1. cm to ft\n",
        "    2. km to miles\n",
        "    3. USD to INR\n",
        "    4. exit\n",
        "    \"\"\")\n",
        "\n",
        "    match menu:\n",
        "      case '1':\n",
        "        cm = float(input(\"Enter the value in cm: \"))\n",
        "        print(\"The value in ft is\", round(0.032*cm, 2))\n",
        "      case '2':\n",
        "        km = float(input(\"Enter the value in km: \"))\n",
        "        print(\"The value in miles is\", round(km*0.62, 2))\n",
        "      case '3':\n",
        "        usd = float(input(\"Enter the value in USD: \"))\n",
        "        print(\"The value in INR is\", round(usd * 80, 2))\n",
        "      case '4':\n",
        "        print(\"Thank you for using our service\")\n",
        "        break\n",
        "      case _:\n",
        "        print(\"Invalid input\")\n",
        "\n",
        "converter()"
      ],
      "metadata": {
        "colab": {
          "base_uri": "https://localhost:8080/"
        },
        "id": "54mTpNpW546I",
        "outputId": "c5af208e-8df5-469a-d9af-1e9a6c4964ea"
      },
      "execution_count": null,
      "outputs": [
        {
          "output_type": "stream",
          "name": "stdout",
          "text": [
            "\n",
            "    Hii select an option\n",
            "    1. cm to ft\n",
            "    2. km to miles\n",
            "    3. USD to INR\n",
            "    4. exit\n",
            "    2\n",
            "Enter the value in km: 15\n",
            "The value in miles is 9.3\n",
            "\n",
            "    Hii select an option\n",
            "    1. cm to ft\n",
            "    2. km to miles\n",
            "    3. USD to INR\n",
            "    4. exit\n",
            "    1\n",
            "Enter the value in cm: 52\n",
            "The value in ft is 1.66\n",
            "\n",
            "    Hii select an option\n",
            "    1. cm to ft\n",
            "    2. km to miles\n",
            "    3. USD to INR\n",
            "    4. exit\n",
            "    4\n",
            "Thank you for using our service\n"
          ]
        }
      ]
    },
    {
      "cell_type": "markdown",
      "source": [
        "### `Problem 5` - Exercise 12: Display Fibonacci series up to 10 terms.\n",
        "\n",
        "*Note: The Fibonacci Sequence is a series of numbers. The next number is found by adding up the two numbers before it. The first two numbers are 0 and 1. For example, 0, 1, 1, 2, 3, 5, 8, 13, 21. The next number in this series above is 13+21 = 34*"
      ],
      "metadata": {
        "id": "LJJ30_Yw27ZU"
      }
    },
    {
      "cell_type": "code",
      "source": [
        "# Write code here\n",
        "a, b = 0, 1\n",
        "for i in range(10):\n",
        "  print(a, end=\" \")\n",
        "  a, b = b, a+b\n"
      ],
      "metadata": {
        "id": "ae_1rpe52-5R",
        "colab": {
          "base_uri": "https://localhost:8080/"
        },
        "outputId": "c4f02643-e28d-4898-d8d0-99ced9884f4e"
      },
      "execution_count": null,
      "outputs": [
        {
          "output_type": "stream",
          "name": "stdout",
          "text": [
            "0 1 1 2 3 5 8 13 21 34 "
          ]
        }
      ]
    },
    {
      "cell_type": "markdown",
      "source": [
        "### `Problem 6` - Find the factorial of a given number.\n",
        "\n",
        "Write a program to use the loop to find the factorial of a given number.\n",
        "\n",
        "The factorial (symbol: `!`) means to multiply all whole numbers from the chosen number down to 1.\n",
        "\n",
        "For example: calculate the factorial of 5\n",
        "\n",
        "```bash\n",
        "5! = 5 × 4 × 3 × 2 × 1 = 120\n",
        "```\n",
        "\n",
        "Output:\n",
        "\n",
        "```bash\n",
        "120\n",
        "```"
      ],
      "metadata": {
        "id": "pk_I_S4m3PT5"
      }
    },
    {
      "cell_type": "code",
      "source": [
        "# Write code here\n",
        "num = int(input(\"Enter a number: \"))\n",
        "fact = 1\n",
        "for i in range(1, num+1):\n",
        "  fact *= i\n",
        "print(fact)"
      ],
      "metadata": {
        "id": "lzXxHegx3Rkc",
        "colab": {
          "base_uri": "https://localhost:8080/"
        },
        "outputId": "ee0b0761-bdd5-49a0-d3e0-edc473ab641b"
      },
      "execution_count": null,
      "outputs": [
        {
          "output_type": "stream",
          "name": "stdout",
          "text": [
            "Enter a number: 4\n",
            "24\n"
          ]
        }
      ]
    },
    {
      "cell_type": "markdown",
      "source": [
        "### `Problem 7` - Reverse a given integer number.\n",
        "\n",
        "Example:\n",
        "\n",
        "`Input:`\n",
        "\n",
        "```bash\n",
        "76542\n",
        "```\n",
        "\n",
        "`Output:`\n",
        "\n",
        "```bash\n",
        "24567\n",
        "```"
      ],
      "metadata": {
        "id": "-17IOi-g3UpU"
      }
    },
    {
      "cell_type": "code",
      "source": [
        "# Write code here\n",
        "num = int(input(\"Enter a number: \"))\n",
        "# print(num[::-1])\n",
        "\n",
        "rev = 0\n",
        "while num > 0:\n",
        "  last = num % 10\n",
        "  rev = rev * 10 + last\n",
        "  num //= 10\n",
        "\n",
        "print(rev)"
      ],
      "metadata": {
        "id": "wJwLpKCr3aVA",
        "colab": {
          "base_uri": "https://localhost:8080/"
        },
        "outputId": "cc93ea37-322a-4f74-895c-338c07cff2ae"
      },
      "execution_count": null,
      "outputs": [
        {
          "output_type": "stream",
          "name": "stdout",
          "text": [
            "Enter a number: 123\n",
            "321\n"
          ]
        }
      ]
    },
    {
      "cell_type": "markdown",
      "source": [
        "### `Problem 8`: Take a user input as integer N. Find out the sum from 1 to N. If any number if divisible by 5, then skip that number. And if the sum is greater than 300, don't need to calculate the sum further more. Print the final result. And don't use for loop to solve this problem.\n",
        "\n",
        "**Example 1:**\n",
        "\n",
        "`Input:`\n",
        "\n",
        "```bash\n",
        "30\n",
        "```\n",
        "\n",
        "`Output:`\n",
        "\n",
        "```bash\n",
        "276\n",
        "```"
      ],
      "metadata": {
        "id": "-t8PJQaY3sHf"
      }
    },
    {
      "cell_type": "code",
      "source": [
        "# Write code here\n",
        "num = int(input(\"Enter a number: \"))\n",
        "sum = 0\n",
        "i = 1\n",
        "while i <= num:\n",
        "  if i % 5 != 0:\n",
        "    sum += i\n",
        "    if sum > 300:\n",
        "      sum -= i\n",
        "      break\n",
        "  i += 1\n",
        "\n",
        "print(sum)"
      ],
      "metadata": {
        "id": "GZB6mGMP3ujT",
        "colab": {
          "base_uri": "https://localhost:8080/"
        },
        "outputId": "8003ba71-b0ac-4930-83cd-dac2498ada8e"
      },
      "execution_count": null,
      "outputs": [
        {
          "output_type": "stream",
          "name": "stdout",
          "text": [
            "Enter a number: 29\n",
            "276\n"
          ]
        }
      ]
    },
    {
      "cell_type": "markdown",
      "source": [
        "### `Problem 9`: Write a program that keeps on accepting a number from the user until the user enters Zero. Display the sum and average of all the numbers."
      ],
      "metadata": {
        "id": "Q7ggImeA3xm4"
      }
    },
    {
      "cell_type": "code",
      "source": [
        "# Write code here\n",
        "sum = 0\n",
        "count = 0\n",
        "while True:\n",
        "  num = int(input(\"Enter a number: \"))\n",
        "  if num == 0:\n",
        "    break\n",
        "  sum += num\n",
        "  count += 1\n",
        "\n",
        "print(\"Sum:\", sum)\n",
        "print(\"Average:\", sum/count)"
      ],
      "metadata": {
        "id": "t_YDSZDe4Kdo",
        "colab": {
          "base_uri": "https://localhost:8080/"
        },
        "outputId": "5027928e-f046-481c-f484-029e9065ff98"
      },
      "execution_count": null,
      "outputs": [
        {
          "output_type": "stream",
          "name": "stdout",
          "text": [
            "Enter a number: 10\n",
            "Enter a number: 10\n",
            "Enter a number: 20\n",
            "Enter a number: 40\n",
            "Enter a number: 0\n",
            "Sum: 80\n",
            "Average: 20.0\n"
          ]
        }
      ]
    },
    {
      "cell_type": "markdown",
      "source": [
        "###`Problem 9`: Write a program which will find all such numbers which are divisible by 7 but are not a multiple of 5, between 2000 and 3200 (both included). The numbers obtained should be printed in a comma-separated sequence on a single line."
      ],
      "metadata": {
        "id": "6EhvEMvm4R7s"
      }
    },
    {
      "cell_type": "code",
      "source": [
        "# Write code here\n",
        "L=[]\n",
        "for i in range(2000, 3201):\n",
        "  if i % 7 == 0 and i % 5 != 0:\n",
        "    L.append(str(i))\n",
        "\n",
        "print(','.join(L))"
      ],
      "metadata": {
        "id": "d6RgP1B34T6c",
        "colab": {
          "base_uri": "https://localhost:8080/"
        },
        "outputId": "027fa598-5268-416a-bfc4-383d8fa90289"
      },
      "execution_count": null,
      "outputs": [
        {
          "output_type": "stream",
          "name": "stdout",
          "text": [
            "2002,2009,2016,2023,2037,2044,2051,2058,2072,2079,2086,2093,2107,2114,2121,2128,2142,2149,2156,2163,2177,2184,2191,2198,2212,2219,2226,2233,2247,2254,2261,2268,2282,2289,2296,2303,2317,2324,2331,2338,2352,2359,2366,2373,2387,2394,2401,2408,2422,2429,2436,2443,2457,2464,2471,2478,2492,2499,2506,2513,2527,2534,2541,2548,2562,2569,2576,2583,2597,2604,2611,2618,2632,2639,2646,2653,2667,2674,2681,2688,2702,2709,2716,2723,2737,2744,2751,2758,2772,2779,2786,2793,2807,2814,2821,2828,2842,2849,2856,2863,2877,2884,2891,2898,2912,2919,2926,2933,2947,2954,2961,2968,2982,2989,2996,3003,3017,3024,3031,3038,3052,3059,3066,3073,3087,3094,3101,3108,3122,3129,3136,3143,3157,3164,3171,3178,3192,3199\n"
          ]
        }
      ]
    },
    {
      "cell_type": "markdown",
      "source": [
        "###`Problem 10`: Write a program, which will find all such numbers between 1000 and 3000 (both included) such that each digit of the number is an even number. The numbers obtained should be printed in a space-separated sequence on a single line.\n",
        "\n"
      ],
      "metadata": {
        "id": "tYvmRR-G4Vp4"
      }
    },
    {
      "cell_type": "code",
      "source": [
        "# aise number jisaka sare hi digit even ho\n",
        "# Write code here\n",
        "\n",
        "for i in range(1000, 3001):\n",
        "  flag = True\n",
        "\n",
        "  curr = i\n",
        "  while curr > 0:\n",
        "    if curr % 2 != 0:\n",
        "      flag = False\n",
        "      break\n",
        "    curr //= 10\n",
        "\n",
        "  if flag:\n",
        "    print(i, end=\" \")"
      ],
      "metadata": {
        "id": "k6Gs1kIf4k19",
        "colab": {
          "base_uri": "https://localhost:8080/"
        },
        "outputId": "def24b5f-ad83-4e25-f93c-3f2ca3e3c89b"
      },
      "execution_count": 3,
      "outputs": [
        {
          "output_type": "stream",
          "name": "stdout",
          "text": [
            "2000 2002 2004 2006 2008 2020 2022 2024 2026 2028 2040 2042 2044 2046 2048 2060 2062 2064 2066 2068 2080 2082 2084 2086 2088 2200 2202 2204 2206 2208 2220 2222 2224 2226 2228 2240 2242 2244 2246 2248 2260 2262 2264 2266 2268 2280 2282 2284 2286 2288 2400 2402 2404 2406 2408 2420 2422 2424 2426 2428 2440 2442 2444 2446 2448 2460 2462 2464 2466 2468 2480 2482 2484 2486 2488 2600 2602 2604 2606 2608 2620 2622 2624 2626 2628 2640 2642 2644 2646 2648 2660 2662 2664 2666 2668 2680 2682 2684 2686 2688 2800 2802 2804 2806 2808 2820 2822 2824 2826 2828 2840 2842 2844 2846 2848 2860 2862 2864 2866 2868 2880 2882 2884 2886 2888 "
          ]
        }
      ]
    },
    {
      "cell_type": "markdown",
      "source": [
        "###`Problem 11`: A robot moves in a plane starting from the original point (0,0). The robot can move toward UP, DOWN, LEFT and RIGHT with a given steps.\n",
        "The trace of robot movement is shown as the following:\n",
        "```\n",
        "UP 5\n",
        "DOWN 3\n",
        "LEFT 3\n",
        "RIGHT 2\n",
        "!\n",
        "```\n",
        "> The numbers after the direction are steps.\n",
        "\n",
        "> `!` means robot stop there.\n",
        "\n",
        "**Please write a program to compute the distance from current position after a sequence of movement and original point.**\n",
        "\n",
        "*If the distance is a float, then just print the nearest integer.*\n",
        "\n",
        "Example:\n",
        "\n",
        "`Input`:\n",
        "```\n",
        "UP 5\n",
        "DOWN 3\n",
        "LEFT 3\n",
        "RIGHT 2\n",
        "!\n",
        "```\n",
        "`Output`:\n",
        "```\n",
        "2\n",
        "```"
      ],
      "metadata": {
        "id": "GV18IINT4mf5"
      }
    },
    {
      "cell_type": "code",
      "source": [
        "# Write code here\n",
        "pos = [0, 0]\n",
        "while True:\n",
        "  move = input(\"Enter the move: \")\n",
        "  if move == \"!\":\n",
        "    break\n",
        "  direction = move.split()[0]\n",
        "  steps = int(move.split()[1])\n",
        "\n",
        "  if direction == \"UP\":\n",
        "    pos[0] += steps\n",
        "  elif direction == \"DOWN\":\n",
        "    pos[0] -= steps\n",
        "  elif direction == \"LEFT\":\n",
        "    pos[1] -= steps\n",
        "  elif direction == \"RIGHT\":\n",
        "    pos[1] += steps\n",
        "\n",
        "print(int(round((pos[0]**2 + pos[1]**2)**0.5)))"
      ],
      "metadata": {
        "id": "6UNMC2aR4w5x",
        "colab": {
          "base_uri": "https://localhost:8080/"
        },
        "outputId": "a01b3cc0-dca2-4c6b-fbe2-573f0cb68fef"
      },
      "execution_count": 11,
      "outputs": [
        {
          "output_type": "stream",
          "name": "stdout",
          "text": [
            "Enter the move: UP 5\n",
            "Enter the move: DOWN 5\n",
            "Enter the move: LEFT 5\n",
            "Enter the move: RIGHT 5\n",
            "Enter the move: !\n",
            "0\n"
          ]
        }
      ]
    },
    {
      "cell_type": "markdown",
      "source": [
        "###`Problem 12`:Write a program to print whether a given number is a prime number or not"
      ],
      "metadata": {
        "id": "3fsAIAhK5GYY"
      }
    },
    {
      "cell_type": "code",
      "source": [
        "# Write code here\n",
        "num = int(input(\"Enter a number: \"))\n",
        "if num > 1:\n",
        "  for i in range(2, num):\n",
        "    if num % i == 0:\n",
        "      print(num, \"is not a prime number\")\n",
        "      break\n",
        "  else:\n",
        "    print(num, \"is a prime number\")"
      ],
      "metadata": {
        "id": "j6y91lxy5LZs",
        "colab": {
          "base_uri": "https://localhost:8080/"
        },
        "outputId": "ba89a0bd-da39-45e0-ffb3-5ad31d4f9083"
      },
      "execution_count": 3,
      "outputs": [
        {
          "output_type": "stream",
          "name": "stdout",
          "text": [
            "Enter a number: 4\n",
            "4 is not a prime number\n"
          ]
        }
      ]
    },
    {
      "cell_type": "markdown",
      "source": [
        "###`Problem 13`:Print all the Armstrong numbers in a given range.\n",
        "Range will be provided by the user<br>\n",
        "Armstrong number is a number that is equal to the sum of cubes of its digits. For example 0, 1, 153, 370, 371 and 407 are the Armstrong numbers."
      ],
      "metadata": {
        "id": "asAbmbK-5NHv"
      }
    },
    {
      "cell_type": "code",
      "source": [
        "# Write code here\n",
        "\n",
        "# function armstrong\n",
        "def armstrong(n):\n",
        "\n",
        "    # converting to string\n",
        "    number = str(n)\n",
        "\n",
        "    # number of digits\n",
        "    digits = len(number)\n",
        "    output = 0\n",
        "\n",
        "    # sum of each digit raised to the power of number of digits\n",
        "    for i in number:\n",
        "        output += int(i) ** digits\n",
        "\n",
        "    # check if equal to original number\n",
        "    return output == n\n",
        "\n",
        "\n",
        "lower_range = int(input('Enter the Lower Range'))\n",
        "upper_range = int(input('Enter the Upper Range'))\n",
        "\n",
        "for i in range(lower_range,upper_range+1):\n",
        "    if armstrong(i):\n",
        "        print(i)\n"
      ],
      "metadata": {
        "id": "PZuI67pm5jCT",
        "colab": {
          "base_uri": "https://localhost:8080/"
        },
        "outputId": "e486474b-1411-4b94-c3f7-f8f0003fd7aa"
      },
      "execution_count": 1,
      "outputs": [
        {
          "output_type": "stream",
          "name": "stdout",
          "text": [
            "Enter the Lower Range0\n",
            "Enter the Upper Range500\n",
            "0\n",
            "1\n",
            "2\n",
            "3\n",
            "4\n",
            "5\n",
            "6\n",
            "7\n",
            "8\n",
            "9\n",
            "153\n",
            "370\n",
            "371\n",
            "407\n"
          ]
        }
      ]
    },
    {
      "cell_type": "markdown",
      "source": [
        "###`Problem 14`:Calculate the angle between the hour hand and minute hand.\n",
        "\n",
        "Note: There can be two angles between hands; we need to print a minimum of two. Also, we need to print the floor of the final result angle. For example, if the final angle is 10.61, we need to print 10.\n",
        "\n",
        "Input:<br>\n",
        "H = 9 , M = 0<br>\n",
        "Output:<br>\n",
        "90<br>\n",
        "Explanation:<br>\n",
        "The minimum angle between hour and minute\n",
        "hand when the time is 9 is 90 degress."
      ],
      "metadata": {
        "id": "ClCQZMqT7gK0"
      }
    },
    {
      "cell_type": "code",
      "source": [
        "# Write code here\n",
        "import math\n",
        "\n",
        "def clock_angle(H, M):\n",
        "    # Convert extra minutes into hours\n",
        "    H = (H + M // 60) % 12\n",
        "    M = M % 60\n",
        "    3\n",
        "    # Calculate angles\n",
        "    hour_angle = 30 * H + 0.5 * M\n",
        "    minute_angle = 6 * M\n",
        "\n",
        "    # Find the absolute difference\n",
        "    angle = abs(hour_angle - minute_angle)\n",
        "\n",
        "    # Choose the smaller angle\n",
        "    final_angle = min(angle, 360 - angle)\n",
        "\n",
        "    # Floor of the angle\n",
        "    return math.floor(final_angle)\n",
        "\n",
        "\n",
        "\n",
        "H=int(input('Enter the hour '))\n",
        "M=int(input('Enter the minute '))\n",
        "print(clock_angle(H, M))"
      ],
      "metadata": {
        "id": "tNBTCZML7jy_",
        "colab": {
          "base_uri": "https://localhost:8080/"
        },
        "outputId": "0813611b-94c3-4638-cb50-387c6a5a86f3"
      },
      "execution_count": 17,
      "outputs": [
        {
          "output_type": "stream",
          "name": "stdout",
          "text": [
            "Enter the hour 13\n",
            "Enter the minute 120\n",
            "90\n"
          ]
        }
      ]
    },
    {
      "cell_type": "markdown",
      "source": [
        "###`Problem 15`:Given two rectangles, find if the given two rectangles overlap or not. A rectangle is denoted by providing the x and y coordinates of two points: the left top corner and the right bottom corner of the rectangle. Two rectangles sharing a side are considered overlapping. (L1 and R1 are the extreme points of the first rectangle and L2 and R2 are the extreme points of the second rectangle).\n",
        "\n",
        "Note: It may be assumed that the rectangles are parallel to the coordinate axis.\n",
        "\n",
        "<img src='https://www.geeksforgeeks.org/wp-content/uploads/rectanglesOverlap.png' width='300' height='200'>"
      ],
      "metadata": {
        "id": "GwacF9Co72Qc"
      }
    },
    {
      "cell_type": "code",
      "source": [
        "# Write code here\n",
        "class Point:\n",
        "    def __init__(self, x, y):\n",
        "        self.x = x\n",
        "        self.y = y\n",
        "\n",
        "def do_overlap(l1, r1, l2, r2):\n",
        "    # If one rectangle is to the left of the other\n",
        "    if l1.x > r2.x or l2.x > r1.x:\n",
        "        return False\n",
        "\n",
        "    # If one rectangle is above the other\n",
        "    if r1.y > l2.y or r2.y > l1.y:\n",
        "        return False\n",
        "\n",
        "    return True\n",
        "\n",
        "# Driver code\n",
        "if __name__ == \"__main__\":\n",
        "    l1 = Point(0, 10)\n",
        "    r1 = Point(10, 0)\n",
        "    l2 = Point(5, 5)\n",
        "    r2 = Point(15, 0)\n",
        "\n",
        "    if do_overlap(l1, r1, l2, r2):\n",
        "        print(\"Rectangles Overlap\")\n",
        "    else:\n",
        "        print(\"Rectangles Don't Overlap\")"
      ],
      "metadata": {
        "id": "6rrw_lpH78Rs",
        "colab": {
          "base_uri": "https://localhost:8080/"
        },
        "outputId": "9cfa3310-2073-4048-aa7d-62c613fa86f9"
      },
      "execution_count": 18,
      "outputs": [
        {
          "output_type": "stream",
          "name": "stdout",
          "text": [
            "Rectangles Overlap\n"
          ]
        }
      ]
    }
  ]
}