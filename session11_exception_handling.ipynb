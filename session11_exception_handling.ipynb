{
  "nbformat": 4,
  "nbformat_minor": 0,
  "metadata": {
    "colab": {
      "provenance": [],
      "include_colab_link": true
    },
    "kernelspec": {
      "name": "python3",
      "display_name": "Python 3"
    },
    "language_info": {
      "name": "python"
    }
  },
  "cells": [
    {
      "cell_type": "markdown",
      "metadata": {
        "id": "view-in-github",
        "colab_type": "text"
      },
      "source": [
        "<a href=\"https://colab.research.google.com/github/therudradev/Python_Programming/blob/main/session11_exception_handling.ipynb\" target=\"_parent\"><img src=\"https://colab.research.google.com/assets/colab-badge.svg\" alt=\"Open In Colab\"/></a>"
      ]
    },
    {
      "cell_type": "markdown",
      "source": [
        "There are 2 stages where error may happen in a program\n",
        "\n",
        "- During compilation -> Syntax Error\n",
        "- During execution -> Exceptions"
      ],
      "metadata": {
        "id": "xh7vgT_4-gdB"
      }
    },
    {
      "cell_type": "markdown",
      "source": [
        "### Syntax Error\n",
        "\n",
        "- Something in the program is not written according to the program grammar.\n",
        "- Error is raised by the interpreter/compiler\n",
        "- You can solve it by rectifying the program\n"
      ],
      "metadata": {
        "id": "U9R2vn5c-2RE"
      }
    },
    {
      "cell_type": "code",
      "source": [
        "# Examples of syntax error\n",
        "print 'hello world'"
      ],
      "metadata": {
        "colab": {
          "base_uri": "https://localhost:8080/",
          "height": 133
        },
        "id": "sgsgNEc--1ux",
        "outputId": "f973a81c-d579-4259-dcea-19d380fbaaa8"
      },
      "execution_count": null,
      "outputs": [
        {
          "output_type": "error",
          "ename": "SyntaxError",
          "evalue": "ignored",
          "traceback": [
            "\u001b[0;36m  File \u001b[0;32m\"<ipython-input-3-4655b84ba7b7>\"\u001b[0;36m, line \u001b[0;32m2\u001b[0m\n\u001b[0;31m    print 'hello world'\u001b[0m\n\u001b[0m                      ^\u001b[0m\n\u001b[0;31mSyntaxError\u001b[0m\u001b[0;31m:\u001b[0m Missing parentheses in call to 'print'. Did you mean print('hello world')?\n"
          ]
        }
      ]
    },
    {
      "cell_type": "markdown",
      "source": [
        "### Other examples of syntax error\n",
        "\n",
        "- Leaving symbols like colon,brackets\n",
        "- Misspelling a keyword\n",
        "- Incorrect indentation\n",
        "- empty if/else/loops/class/functions"
      ],
      "metadata": {
        "id": "502wvB8BGO0K"
      }
    },
    {
      "cell_type": "code",
      "source": [
        "a = 5\n",
        "if a==3\n",
        "  print('hello')"
      ],
      "metadata": {
        "colab": {
          "base_uri": "https://localhost:8080/",
          "height": 133
        },
        "id": "gd_SjrGDGTcU",
        "outputId": "5623d424-d264-45ec-cbc9-6ad6834f89ea"
      },
      "execution_count": null,
      "outputs": [
        {
          "output_type": "error",
          "ename": "SyntaxError",
          "evalue": "ignored",
          "traceback": [
            "\u001b[0;36m  File \u001b[0;32m\"<ipython-input-68-efc58c10458d>\"\u001b[0;36m, line \u001b[0;32m2\u001b[0m\n\u001b[0;31m    if a==3\u001b[0m\n\u001b[0m           ^\u001b[0m\n\u001b[0;31mSyntaxError\u001b[0m\u001b[0;31m:\u001b[0m invalid syntax\n"
          ]
        }
      ]
    },
    {
      "cell_type": "code",
      "source": [
        "a = 5\n",
        "iff a==3:\n",
        "  print('hello')"
      ],
      "metadata": {
        "colab": {
          "base_uri": "https://localhost:8080/",
          "height": 133
        },
        "id": "eq0Y-v_MGTmR",
        "outputId": "9ccfb071-fc71-4540-fda7-05542f9b26d3"
      },
      "execution_count": null,
      "outputs": [
        {
          "output_type": "error",
          "ename": "SyntaxError",
          "evalue": "ignored",
          "traceback": [
            "\u001b[0;36m  File \u001b[0;32m\"<ipython-input-69-d1e6fae154d5>\"\u001b[0;36m, line \u001b[0;32m2\u001b[0m\n\u001b[0;31m    iff a==3:\u001b[0m\n\u001b[0m        ^\u001b[0m\n\u001b[0;31mSyntaxError\u001b[0m\u001b[0;31m:\u001b[0m invalid syntax\n"
          ]
        }
      ]
    },
    {
      "cell_type": "code",
      "source": [
        "a = 5\n",
        "if a==3:\n",
        "print('hello')"
      ],
      "metadata": {
        "colab": {
          "base_uri": "https://localhost:8080/",
          "height": 133
        },
        "id": "Llm9KioiGTwe",
        "outputId": "04702c51-21de-4138-9402-4d8ef3a59c8f"
      },
      "execution_count": null,
      "outputs": [
        {
          "output_type": "error",
          "ename": "IndentationError",
          "evalue": "ignored",
          "traceback": [
            "\u001b[0;36m  File \u001b[0;32m\"<ipython-input-70-ccc702dc036c>\"\u001b[0;36m, line \u001b[0;32m3\u001b[0m\n\u001b[0;31m    print('hello')\u001b[0m\n\u001b[0m        ^\u001b[0m\n\u001b[0;31mIndentationError\u001b[0m\u001b[0;31m:\u001b[0m expected an indented block\n"
          ]
        }
      ]
    },
    {
      "cell_type": "code",
      "source": [
        "# IndexError\n",
        "# The IndexError is thrown when trying to access an item at an invalid index.\n",
        "L = [1,2,3]\n",
        "L[100]"
      ],
      "metadata": {
        "colab": {
          "base_uri": "https://localhost:8080/",
          "height": 205
        },
        "id": "KZQFu9zdEuFC",
        "outputId": "546e9247-b4a2-4c14-b822-4c6c00264f30"
      },
      "execution_count": null,
      "outputs": [
        {
          "output_type": "error",
          "ename": "IndexError",
          "evalue": "ignored",
          "traceback": [
            "\u001b[0;31m---------------------------------------------------------------------------\u001b[0m",
            "\u001b[0;31mIndexError\u001b[0m                                Traceback (most recent call last)",
            "\u001b[0;32m<ipython-input-71-c90668d2b194>\u001b[0m in \u001b[0;36m<module>\u001b[0;34m\u001b[0m\n\u001b[1;32m      2\u001b[0m \u001b[0;31m# The IndexError is thrown when trying to access an item at an invalid index.\u001b[0m\u001b[0;34m\u001b[0m\u001b[0;34m\u001b[0m\u001b[0;34m\u001b[0m\u001b[0m\n\u001b[1;32m      3\u001b[0m \u001b[0mL\u001b[0m \u001b[0;34m=\u001b[0m \u001b[0;34m[\u001b[0m\u001b[0;36m1\u001b[0m\u001b[0;34m,\u001b[0m\u001b[0;36m2\u001b[0m\u001b[0;34m,\u001b[0m\u001b[0;36m3\u001b[0m\u001b[0;34m]\u001b[0m\u001b[0;34m\u001b[0m\u001b[0;34m\u001b[0m\u001b[0m\n\u001b[0;32m----> 4\u001b[0;31m \u001b[0mL\u001b[0m\u001b[0;34m[\u001b[0m\u001b[0;36m100\u001b[0m\u001b[0;34m]\u001b[0m\u001b[0;34m\u001b[0m\u001b[0;34m\u001b[0m\u001b[0m\n\u001b[0m",
            "\u001b[0;31mIndexError\u001b[0m: list index out of range"
          ]
        }
      ]
    },
    {
      "cell_type": "code",
      "source": [
        "# ModuleNotFoundError\n",
        "# The ModuleNotFoundError is thrown when a module could not be found.\n",
        "import mathi\n",
        "math.floor(5.3)"
      ],
      "metadata": {
        "colab": {
          "base_uri": "https://localhost:8080/",
          "height": 366
        },
        "id": "FfoXlpAGE1rW",
        "outputId": "b5800421-3a3d-4293-fad6-fb49227da0e6"
      },
      "execution_count": null,
      "outputs": [
        {
          "output_type": "error",
          "ename": "ModuleNotFoundError",
          "evalue": "ignored",
          "traceback": [
            "\u001b[0;31m---------------------------------------------------------------------------\u001b[0m",
            "\u001b[0;31mModuleNotFoundError\u001b[0m                       Traceback (most recent call last)",
            "\u001b[0;32m<ipython-input-73-cbdaf00191df>\u001b[0m in \u001b[0;36m<module>\u001b[0;34m\u001b[0m\n\u001b[1;32m      1\u001b[0m \u001b[0;31m# ModuleNotFoundError\u001b[0m\u001b[0;34m\u001b[0m\u001b[0;34m\u001b[0m\u001b[0;34m\u001b[0m\u001b[0m\n\u001b[1;32m      2\u001b[0m \u001b[0;31m# The ModuleNotFoundError is thrown when a module could not be found.\u001b[0m\u001b[0;34m\u001b[0m\u001b[0;34m\u001b[0m\u001b[0;34m\u001b[0m\u001b[0m\n\u001b[0;32m----> 3\u001b[0;31m \u001b[0;32mimport\u001b[0m \u001b[0mmathi\u001b[0m\u001b[0;34m\u001b[0m\u001b[0;34m\u001b[0m\u001b[0m\n\u001b[0m\u001b[1;32m      4\u001b[0m \u001b[0mmath\u001b[0m\u001b[0;34m.\u001b[0m\u001b[0mfloor\u001b[0m\u001b[0;34m(\u001b[0m\u001b[0;36m5.3\u001b[0m\u001b[0;34m)\u001b[0m\u001b[0;34m\u001b[0m\u001b[0;34m\u001b[0m\u001b[0m\n",
            "\u001b[0;31mModuleNotFoundError\u001b[0m: No module named 'mathi'",
            "",
            "\u001b[0;31m---------------------------------------------------------------------------\u001b[0;32m\nNOTE: If your import is failing due to a missing package, you can\nmanually install dependencies using either !pip or !apt.\n\nTo view examples of installing some common dependencies, click the\n\"Open Examples\" button below.\n\u001b[0;31m---------------------------------------------------------------------------\u001b[0m\n"
          ],
          "errorDetails": {
            "actions": [
              {
                "action": "open_url",
                "actionText": "Open Examples",
                "url": "/notebooks/snippets/importing_libraries.ipynb"
              }
            ]
          }
        }
      ]
    },
    {
      "cell_type": "code",
      "source": [
        "# KeyError\n",
        "# The KeyError is thrown when a key is not found\n",
        "\n",
        "d = {'name':'nitish'}\n",
        "d['age']"
      ],
      "metadata": {
        "colab": {
          "base_uri": "https://localhost:8080/",
          "height": 205
        },
        "id": "IP2CycVwE66e",
        "outputId": "430034d1-08f0-4e37-baeb-486eeb121b43"
      },
      "execution_count": null,
      "outputs": [
        {
          "output_type": "error",
          "ename": "KeyError",
          "evalue": "ignored",
          "traceback": [
            "\u001b[0;31m---------------------------------------------------------------------------\u001b[0m",
            "\u001b[0;31mKeyError\u001b[0m                                  Traceback (most recent call last)",
            "\u001b[0;32m<ipython-input-74-453afa1c9765>\u001b[0m in \u001b[0;36m<module>\u001b[0;34m\u001b[0m\n\u001b[1;32m      3\u001b[0m \u001b[0;34m\u001b[0m\u001b[0m\n\u001b[1;32m      4\u001b[0m \u001b[0md\u001b[0m \u001b[0;34m=\u001b[0m \u001b[0;34m{\u001b[0m\u001b[0;34m'name'\u001b[0m\u001b[0;34m:\u001b[0m\u001b[0;34m'nitish'\u001b[0m\u001b[0;34m}\u001b[0m\u001b[0;34m\u001b[0m\u001b[0;34m\u001b[0m\u001b[0m\n\u001b[0;32m----> 5\u001b[0;31m \u001b[0md\u001b[0m\u001b[0;34m[\u001b[0m\u001b[0;34m'age'\u001b[0m\u001b[0;34m]\u001b[0m\u001b[0;34m\u001b[0m\u001b[0;34m\u001b[0m\u001b[0m\n\u001b[0m",
            "\u001b[0;31mKeyError\u001b[0m: 'age'"
          ]
        }
      ]
    },
    {
      "cell_type": "code",
      "source": [
        "# TypeError\n",
        "# The TypeError is thrown when an operation or function is applied to an object of an inappropriate type.\n",
        "1 + 'a'"
      ],
      "metadata": {
        "colab": {
          "base_uri": "https://localhost:8080/",
          "height": 205
        },
        "id": "meGU1o_VE-Y5",
        "outputId": "e8b62d30-5c0e-411e-cd60-4cd7fa42ecfd"
      },
      "execution_count": null,
      "outputs": [
        {
          "output_type": "error",
          "ename": "TypeError",
          "evalue": "ignored",
          "traceback": [
            "\u001b[0;31m---------------------------------------------------------------------------\u001b[0m",
            "\u001b[0;31mTypeError\u001b[0m                                 Traceback (most recent call last)",
            "\u001b[0;32m<ipython-input-78-2a3eb3f5bb0a>\u001b[0m in \u001b[0;36m<module>\u001b[0;34m\u001b[0m\n\u001b[1;32m      1\u001b[0m \u001b[0;31m# TypeError\u001b[0m\u001b[0;34m\u001b[0m\u001b[0;34m\u001b[0m\u001b[0;34m\u001b[0m\u001b[0m\n\u001b[1;32m      2\u001b[0m \u001b[0;31m# The TypeError is thrown when an operation or function is applied to an object of an inappropriate type.\u001b[0m\u001b[0;34m\u001b[0m\u001b[0;34m\u001b[0m\u001b[0;34m\u001b[0m\u001b[0m\n\u001b[0;32m----> 3\u001b[0;31m \u001b[0;36m1\u001b[0m \u001b[0;34m+\u001b[0m \u001b[0;34m'a'\u001b[0m\u001b[0;34m\u001b[0m\u001b[0;34m\u001b[0m\u001b[0m\n\u001b[0m",
            "\u001b[0;31mTypeError\u001b[0m: unsupported operand type(s) for +: 'int' and 'str'"
          ]
        }
      ]
    },
    {
      "cell_type": "code",
      "source": [
        "# ValueError\n",
        "# The ValueError is thrown when a function's argument is of an inappropriate type.\n",
        "int('a')"
      ],
      "metadata": {
        "colab": {
          "base_uri": "https://localhost:8080/",
          "height": 205
        },
        "id": "ZE_r2WsaFF6f",
        "outputId": "a8f34b54-b1e3-47d9-cd32-7eeee19b4d47"
      },
      "execution_count": null,
      "outputs": [
        {
          "output_type": "error",
          "ename": "ValueError",
          "evalue": "ignored",
          "traceback": [
            "\u001b[0;31m---------------------------------------------------------------------------\u001b[0m",
            "\u001b[0;31mValueError\u001b[0m                                Traceback (most recent call last)",
            "\u001b[0;32m<ipython-input-76-e419d2a084b4>\u001b[0m in \u001b[0;36m<module>\u001b[0;34m\u001b[0m\n\u001b[1;32m      1\u001b[0m \u001b[0;31m# ValueError\u001b[0m\u001b[0;34m\u001b[0m\u001b[0;34m\u001b[0m\u001b[0;34m\u001b[0m\u001b[0m\n\u001b[1;32m      2\u001b[0m \u001b[0;31m# The ValueError is thrown when a function's argument is of an inappropriate type.\u001b[0m\u001b[0;34m\u001b[0m\u001b[0;34m\u001b[0m\u001b[0;34m\u001b[0m\u001b[0m\n\u001b[0;32m----> 3\u001b[0;31m \u001b[0mint\u001b[0m\u001b[0;34m(\u001b[0m\u001b[0;34m'a'\u001b[0m\u001b[0;34m)\u001b[0m\u001b[0;34m\u001b[0m\u001b[0;34m\u001b[0m\u001b[0m\n\u001b[0m",
            "\u001b[0;31mValueError\u001b[0m: invalid literal for int() with base 10: 'a'"
          ]
        }
      ]
    },
    {
      "cell_type": "code",
      "source": [
        "# NameError\n",
        "# The NameError is thrown when an object could not be found.\n",
        "print(k)"
      ],
      "metadata": {
        "colab": {
          "base_uri": "https://localhost:8080/",
          "height": 205
        },
        "id": "yr7eRF2xFPo7",
        "outputId": "617b5a0c-2e8d-4e9d-e441-aa14c013bfa5"
      },
      "execution_count": null,
      "outputs": [
        {
          "output_type": "error",
          "ename": "NameError",
          "evalue": "ignored",
          "traceback": [
            "\u001b[0;31m---------------------------------------------------------------------------\u001b[0m",
            "\u001b[0;31mNameError\u001b[0m                                 Traceback (most recent call last)",
            "\u001b[0;32m<ipython-input-79-e3e8aaa4ec45>\u001b[0m in \u001b[0;36m<module>\u001b[0;34m\u001b[0m\n\u001b[1;32m      1\u001b[0m \u001b[0;31m# NameError\u001b[0m\u001b[0;34m\u001b[0m\u001b[0;34m\u001b[0m\u001b[0;34m\u001b[0m\u001b[0m\n\u001b[1;32m      2\u001b[0m \u001b[0;31m# The NameError is thrown when an object could not be found.\u001b[0m\u001b[0;34m\u001b[0m\u001b[0;34m\u001b[0m\u001b[0;34m\u001b[0m\u001b[0m\n\u001b[0;32m----> 3\u001b[0;31m \u001b[0mprint\u001b[0m\u001b[0;34m(\u001b[0m\u001b[0mk\u001b[0m\u001b[0;34m)\u001b[0m\u001b[0;34m\u001b[0m\u001b[0;34m\u001b[0m\u001b[0m\n\u001b[0m",
            "\u001b[0;31mNameError\u001b[0m: name 'k' is not defined"
          ]
        }
      ]
    },
    {
      "cell_type": "code",
      "source": [
        "# AttributeError\n",
        "L = [1,2,3]\n",
        "L.upper()\n",
        "\n",
        "# Stacktrace"
      ],
      "metadata": {
        "colab": {
          "base_uri": "https://localhost:8080/",
          "height": 205
        },
        "id": "VHVKtWwWFUhK",
        "outputId": "6d84d92c-f2c1-4abc-f4ed-6cf8ebd0cb1e"
      },
      "execution_count": null,
      "outputs": [
        {
          "output_type": "error",
          "ename": "AttributeError",
          "evalue": "ignored",
          "traceback": [
            "\u001b[0;31m---------------------------------------------------------------------------\u001b[0m",
            "\u001b[0;31mAttributeError\u001b[0m                            Traceback (most recent call last)",
            "\u001b[0;32m<ipython-input-80-dd5a29625ddc>\u001b[0m in \u001b[0;36m<module>\u001b[0;34m\u001b[0m\n\u001b[1;32m      1\u001b[0m \u001b[0;31m# AttributeError\u001b[0m\u001b[0;34m\u001b[0m\u001b[0;34m\u001b[0m\u001b[0;34m\u001b[0m\u001b[0m\n\u001b[1;32m      2\u001b[0m \u001b[0mL\u001b[0m \u001b[0;34m=\u001b[0m \u001b[0;34m[\u001b[0m\u001b[0;36m1\u001b[0m\u001b[0;34m,\u001b[0m\u001b[0;36m2\u001b[0m\u001b[0;34m,\u001b[0m\u001b[0;36m3\u001b[0m\u001b[0;34m]\u001b[0m\u001b[0;34m\u001b[0m\u001b[0;34m\u001b[0m\u001b[0m\n\u001b[0;32m----> 3\u001b[0;31m \u001b[0mL\u001b[0m\u001b[0;34m.\u001b[0m\u001b[0mupper\u001b[0m\u001b[0;34m(\u001b[0m\u001b[0;34m)\u001b[0m\u001b[0;34m\u001b[0m\u001b[0;34m\u001b[0m\u001b[0m\n\u001b[0m",
            "\u001b[0;31mAttributeError\u001b[0m: 'list' object has no attribute 'upper'"
          ]
        }
      ]
    },
    {
      "cell_type": "markdown",
      "source": [
        "### Exceptions\n",
        "\n",
        "If things go wrong during the execution of the program(runtime). It generally happens when something unforeseen has happened.\n",
        "\n",
        "- Exceptions are raised by python runtime\n",
        "- You have to takle is on the fly\n",
        "\n",
        "#### **Examples**\n",
        "\n",
        "- Memory overflow\n",
        "- Divide by 0 -> logical error\n",
        "- Database error"
      ],
      "metadata": {
        "id": "l6JrgCrHA2Tq"
      }
    },
    {
      "cell_type": "code",
      "source": [
        "# Why is it important to handle exceptions\n",
        "# how to handle exceptions\n",
        "# -> Try except block"
      ],
      "metadata": {
        "id": "rfzG2r9DAfDf"
      },
      "execution_count": null,
      "outputs": []
    },
    {
      "cell_type": "code",
      "source": [
        "# let's create a file\n",
        "with open('sample.txt','w') as f:\n",
        "  f.write('hello world')"
      ],
      "metadata": {
        "id": "S_VIvkx9Hnxb"
      },
      "execution_count": null,
      "outputs": []
    },
    {
      "cell_type": "code",
      "source": [
        "# try catch demo\n",
        "try:\n",
        "  with open('sample1.txt','r') as f:\n",
        "    print(f.read())\n",
        "except:\n",
        "  print('sorry file not found')"
      ],
      "metadata": {
        "colab": {
          "base_uri": "https://localhost:8080/"
        },
        "id": "9WItdkURHtvM",
        "outputId": "b14ed0bd-1d46-426b-ab81-42e24608ec4e"
      },
      "execution_count": null,
      "outputs": [
        {
          "output_type": "stream",
          "name": "stdout",
          "text": [
            "sorry file not found\n"
          ]
        }
      ]
    },
    {
      "cell_type": "code",
      "source": [
        "# catching specific exception\n",
        "try:\n",
        "  m=5\n",
        "  f = open('sample1.txt','r')\n",
        "  print(f.read())\n",
        "  print(m)\n",
        "  print(5/2)\n",
        "  L = [1,2,3]\n",
        "  L[100]\n",
        "except FileNotFoundError:\n",
        "  print('file not found')\n",
        "except NameError:\n",
        "  print('variable not defined')\n",
        "except ZeroDivisionError:\n",
        "  print(\"can't divide by 0\")\n",
        "except Exception as e:\n",
        "  print(e)"
      ],
      "metadata": {
        "colab": {
          "base_uri": "https://localhost:8080/"
        },
        "id": "px7mJhmvH0pd",
        "outputId": "a0052ee7-73f4-44cb-c7f9-2c6756a83fb3"
      },
      "execution_count": null,
      "outputs": [
        {
          "output_type": "stream",
          "name": "stdout",
          "text": [
            "[Errno 2] No such file or directory: 'sample1.txt'\n"
          ]
        }
      ]
    },
    {
      "cell_type": "code",
      "source": [
        "# else\n",
        "try:\n",
        "  f = open('sample1.txt','r')\n",
        "except FileNotFoundError:\n",
        "  print('file nai mili')\n",
        "except Exception:\n",
        "  print('kuch to lafda hai')\n",
        "else:\n",
        "  print(f.read())\n",
        "\n"
      ],
      "metadata": {
        "colab": {
          "base_uri": "https://localhost:8080/"
        },
        "id": "nn-_EK1TKvno",
        "outputId": "311f3b30-b641-43f3-f99f-59f97d5e388c"
      },
      "execution_count": null,
      "outputs": [
        {
          "output_type": "stream",
          "name": "stdout",
          "text": [
            "file nai mili\n"
          ]
        }
      ]
    },
    {
      "cell_type": "code",
      "source": [
        "# finally\n",
        "# else\n",
        "try:\n",
        "  f = open('sample1.txt','r')\n",
        "except FileNotFoundError:\n",
        "  print('file nai mili')\n",
        "except Exception:\n",
        "  print('kuch to lafda hai')\n",
        "else:\n",
        "  print(f.read())\n",
        "finally:\n",
        "  print('ye to print hoga hi')"
      ],
      "metadata": {
        "colab": {
          "base_uri": "https://localhost:8080/"
        },
        "id": "VKzyyGTUKwm5",
        "outputId": "e986811f-3009-451e-91ac-7b59f1db33e5"
      },
      "execution_count": null,
      "outputs": [
        {
          "output_type": "stream",
          "name": "stdout",
          "text": [
            "file nai mili\n",
            "ye to print hoga hi\n"
          ]
        }
      ]
    },
    {
      "cell_type": "code",
      "source": [
        "# raise Exception\n",
        "# In Python programming, exceptions are raised when errors occur at runtime.\n",
        "# We can also manually raise exceptions using the raise keyword.\n",
        "\n",
        "# We can optionally pass values to the exception to clarify why that exception was raised"
      ],
      "metadata": {
        "id": "weTHAgttKxaJ"
      },
      "execution_count": null,
      "outputs": []
    },
    {
      "cell_type": "code",
      "source": [
        "raise ZeroDivisionError('aise hi try kar raha hu')\n",
        "# Java\n",
        "# try -> try\n",
        "# except -> catch\n",
        "# raise -> throw"
      ],
      "metadata": {
        "colab": {
          "base_uri": "https://localhost:8080/",
          "height": 169
        },
        "id": "IH51eIy5K9Yc",
        "outputId": "c7f361a1-35f3-4b11-86fb-b4d1f7e3932c"
      },
      "execution_count": null,
      "outputs": [
        {
          "output_type": "error",
          "ename": "ZeroDivisionError",
          "evalue": "ignored",
          "traceback": [
            "\u001b[0;31m---------------------------------------------------------------------------\u001b[0m",
            "\u001b[0;31mZeroDivisionError\u001b[0m                         Traceback (most recent call last)",
            "\u001b[0;32m<ipython-input-106-5a07d7d89433>\u001b[0m in \u001b[0;36m<module>\u001b[0;34m\u001b[0m\n\u001b[0;32m----> 1\u001b[0;31m \u001b[0;32mraise\u001b[0m \u001b[0mZeroDivisionError\u001b[0m\u001b[0;34m(\u001b[0m\u001b[0;34m'aise hi try kar raha hu'\u001b[0m\u001b[0;34m)\u001b[0m\u001b[0;34m\u001b[0m\u001b[0;34m\u001b[0m\u001b[0m\n\u001b[0m",
            "\u001b[0;31mZeroDivisionError\u001b[0m: aise hi try kar raha hu"
          ]
        }
      ]
    },
    {
      "cell_type": "code",
      "source": [
        "class Bank:\n",
        "\n",
        "  def __init__(self,balance):\n",
        "    self.balance = balance\n",
        "\n",
        "  def withdraw(self,amount):\n",
        "    if amount < 0:\n",
        "      raise Exception('amount cannot be -ve')\n",
        "    if self.balance < amount:\n",
        "      raise Exception('paise nai hai tere paas')\n",
        "    self.balance = self.balance - amount\n",
        "\n",
        "obj = Bank(10000)\n",
        "try:\n",
        "  obj.withdraw(15000)\n",
        "except Exception as e:\n",
        "  print(e)\n",
        "else:\n",
        "  print(obj.balance)"
      ],
      "metadata": {
        "colab": {
          "base_uri": "https://localhost:8080/"
        },
        "id": "0qLD1KYj_LPm",
        "outputId": "8753ccce-bb47-4e38-ce32-ce00f4c508f8"
      },
      "execution_count": null,
      "outputs": [
        {
          "output_type": "stream",
          "name": "stdout",
          "text": [
            "paise nai hai tere paas\n"
          ]
        }
      ]
    },
    {
      "cell_type": "markdown",
      "source": [
        "### Custom Exception Handling by Inherite Exception class![Screenshot 2025-09-11 224945.png](data:image/png;base64,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)"
      ],
      "metadata": {
        "id": "s7XCSEwlxUEI"
      }
    },
    {
      "cell_type": "code",
      "source": [
        "class MyException(Exception):\n",
        "  def __init__(self,message):\n",
        "    print(message)\n",
        "\n",
        "class Bank:\n",
        "\n",
        "  def __init__(self,balance):\n",
        "    self.balance = balance\n",
        "\n",
        "  def withdraw(self,amount):\n",
        "    if amount < 0:\n",
        "      raise MyException('amount cannot be -ve')\n",
        "    if self.balance < amount:\n",
        "      raise MyException('paise nai hai tere paas')\n",
        "    self.balance = self.balance - amount\n",
        "\n",
        "obj = Bank(10000)\n",
        "try:\n",
        "  obj.withdraw(5000)\n",
        "except MyException as e:\n",
        "  pass\n",
        "else:\n",
        "  print(obj.balance)"
      ],
      "metadata": {
        "colab": {
          "base_uri": "https://localhost:8080/"
        },
        "id": "DLzBsX5eBSNs",
        "outputId": "4b8d711a-43a7-45e1-9cd5-1ee6cf0633d9"
      },
      "execution_count": null,
      "outputs": [
        {
          "output_type": "stream",
          "name": "stdout",
          "text": [
            "5000\n"
          ]
        }
      ]
    },
    {
      "cell_type": "code",
      "source": [
        "# creating custom exceptions\n",
        "# exception hierarchy in python"
      ],
      "metadata": {
        "id": "VTaMY8stXLaT"
      },
      "execution_count": null,
      "outputs": []
    },
    {
      "cell_type": "code",
      "source": [
        "# simple example"
      ],
      "metadata": {
        "id": "E9f2B-J_cNJF"
      },
      "execution_count": null,
      "outputs": []
    },
    {
      "cell_type": "code",
      "source": [
        "# example of account login, raise exception when try to login in another device\n",
        "\n",
        "class SecurityError(Exception):\n",
        "\n",
        "  def __init__(self,message):\n",
        "    print(message)\n",
        "\n",
        "  def logout(self):\n",
        "    print('logout')\n",
        "\n",
        "class Google:\n",
        "\n",
        "  def __init__(self,name,email,password,device):\n",
        "    self.name = name\n",
        "    self.email = email\n",
        "    self.password = password\n",
        "    self.device = device\n",
        "\n",
        "  def login(self,email,password,device):\n",
        "    if device != self.device:\n",
        "      raise SecurityError('bhai teri to lag gayi')\n",
        "    if email == self.email and password == self.password:\n",
        "      print('welcome')\n",
        "    else:\n",
        "      print('login error')\n",
        "\n",
        "\n",
        "\n",
        "obj = Google('nitish','nitish@gmail.com','1234','android')\n",
        "\n",
        "try:\n",
        "  obj.login('nitish@gmail.com','1234','windows')\n",
        "except SecurityError as e:\n",
        "  e.logout()\n",
        "else:\n",
        "  print(obj.name)\n",
        "finally:\n",
        "  print('database connection closed')\n",
        "\n"
      ],
      "metadata": {
        "colab": {
          "base_uri": "https://localhost:8080/"
        },
        "id": "YMIbhy3acWX4",
        "outputId": "1008e800-2a8c-4e47-e041-65a366503cc2"
      },
      "execution_count": null,
      "outputs": [
        {
          "output_type": "stream",
          "name": "stdout",
          "text": [
            "bhai teri to lag gayi\n",
            "logout\n",
            "database connection closed\n"
          ]
        }
      ]
    },
    {
      "cell_type": "markdown",
      "source": [
        "\n",
        "##-----END OF CODE-----\n"
      ],
      "metadata": {
        "id": "s3JZE5AZ0rW5"
      }
    },
    {
      "cell_type": "markdown",
      "source": [
        "# Quick Look\n",
        "\n",
        "---\n",
        "\n",
        "# 🔹 What is an Exception?\n",
        "\n",
        "👉 An **exception** is an **error** that occurs during program execution which disrupts the normal flow.\n",
        "\n",
        "Example:\n",
        "\n",
        "```python\n",
        "print(10 / 0)   # ❌ ZeroDivisionError\n",
        "```\n",
        "\n",
        "Here, dividing by zero raises an **exception**.\n",
        "\n",
        "---\n",
        "\n",
        "# 🔹 Why do we need Exception Handling?\n",
        "\n",
        "* To **prevent program crashes**.\n",
        "* To **handle errors gracefully** (show user-friendly messages).\n",
        "* To **continue program execution** even if something goes wrong.\n",
        "\n",
        "---\n",
        "\n",
        "# 🔹 Exception Handling Keywords\n",
        "\n",
        "| Keyword   | Meaning                          |\n",
        "| --------- | -------------------------------- |\n",
        "| `try`     | Code that may raise an exception |\n",
        "| `except`  | Code to handle the exception     |\n",
        "| `else`    | Runs if no exception occurs      |\n",
        "| `finally` | Always runs (cleanup code)       |\n",
        "\n",
        "---\n",
        "\n",
        "# 🔹 Basic Example\n",
        "\n",
        "```python\n",
        "try:\n",
        "    num = int(input(\"Enter a number: \"))\n",
        "    result = 10 / num\n",
        "    print(\"Result:\", result)\n",
        "except ZeroDivisionError:\n",
        "    print(\"❌ You cannot divide by zero!\")\n",
        "except ValueError:\n",
        "    print(\"❌ Please enter a valid number!\")\n",
        "```\n",
        "\n",
        "👉 If you enter `0` → ZeroDivisionError handled\n",
        "👉 If you enter `\"abc\"` → ValueError handled\n",
        "\n",
        "---\n",
        "\n",
        "# 🔹 Using `else` and `finally`\n",
        "\n",
        "```python\n",
        "try:\n",
        "    num = int(input(\"Enter a number: \"))\n",
        "    print(\"Result:\", 10 / num)\n",
        "except ZeroDivisionError:\n",
        "    print(\"❌ Cannot divide by zero\")\n",
        "else:\n",
        "    print(\"✅ No exception occurred\")\n",
        "finally:\n",
        "    print(\"🔒 Program finished (finally always runs)\")\n",
        "```\n",
        "\n",
        "👉 `else` executes only if **no exception**.\n",
        "👉 `finally` executes **always** (good for closing files, releasing resources).\n",
        "\n",
        "---\n",
        "\n",
        "# 🔹 Handling Multiple Exceptions Together\n",
        "\n",
        "```python\n",
        "try:\n",
        "    x = int(\"abc\")  # ValueError\n",
        "    y = 10 / 0      # ZeroDivisionError\n",
        "except (ValueError, ZeroDivisionError) as e:\n",
        "    print(\"Error:\", e)\n",
        "```\n",
        "\n",
        "---\n",
        "\n",
        "# 🔹 Raising Exceptions Manually\n",
        "\n",
        "👉 Sometimes you want to **raise your own errors**.\n",
        "\n",
        "```python\n",
        "age = -5\n",
        "if age < 0:\n",
        "    raise ValueError(\"Age cannot be negative\")\n",
        "```\n",
        "\n",
        "---\n",
        "\n",
        "# 🔹 Custom Exceptions\n",
        "\n",
        "👉 You can also **define your own exception classes**.\n",
        "\n",
        "```python\n",
        "class MyError(Exception):\n",
        "    pass\n",
        "\n",
        "try:\n",
        "    raise MyError(\"Something went wrong!\")\n",
        "except MyError as e:\n",
        "    print(\"Custom Exception:\", e)\n",
        "```\n",
        "\n",
        "---\n",
        "\n",
        "# ✅ Summary\n",
        "\n",
        "* **Exception** = runtime error.\n",
        "* **try–except** → handle errors.\n",
        "* **else** → runs if no error.\n",
        "* **finally** → always runs (cleanup).\n",
        "* Can **raise exceptions manually** or create **custom exceptions**.\n",
        "\n",
        "---\n"
      ],
      "metadata": {
        "id": "ew-UrTwl0Olq"
      }
    }
  ]
}