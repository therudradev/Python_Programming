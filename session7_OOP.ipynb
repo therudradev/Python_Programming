{
  "nbformat": 4,
  "nbformat_minor": 0,
  "metadata": {
    "colab": {
      "provenance": [],
      "include_colab_link": true
    },
    "kernelspec": {
      "name": "python3",
      "display_name": "Python 3"
    },
    "language_info": {
      "name": "python"
    }
  },
  "cells": [
    {
      "cell_type": "markdown",
      "metadata": {
        "id": "view-in-github",
        "colab_type": "text"
      },
      "source": [
        "<a href=\"https://colab.research.google.com/github/therudradev/Python_Programming/blob/main/session7_OOP.ipynb\" target=\"_parent\"><img src=\"https://colab.research.google.com/assets/colab-badge.svg\" alt=\"Open In Colab\"/></a>"
      ]
    },
    {
      "cell_type": "code",
      "execution_count": null,
      "metadata": {
        "colab": {
          "base_uri": "https://localhost:8080/",
          "height": 205
        },
        "id": "3rwuRliDnX7y",
        "outputId": "6115092b-d6f7-4ef3-91fc-4d46ca119b09"
      },
      "outputs": [
        {
          "output_type": "error",
          "ename": "AttributeError",
          "evalue": "ignored",
          "traceback": [
            "\u001b[0;31m---------------------------------------------------------------------------\u001b[0m",
            "\u001b[0;31mAttributeError\u001b[0m                            Traceback (most recent call last)",
            "\u001b[0;32m<ipython-input-1-af1f83522ab7>\u001b[0m in \u001b[0;36m<module>\u001b[0;34m\u001b[0m\n\u001b[1;32m      1\u001b[0m \u001b[0mL\u001b[0m \u001b[0;34m=\u001b[0m \u001b[0;34m[\u001b[0m\u001b[0;36m1\u001b[0m\u001b[0;34m,\u001b[0m\u001b[0;36m2\u001b[0m\u001b[0;34m,\u001b[0m\u001b[0;36m3\u001b[0m\u001b[0;34m]\u001b[0m\u001b[0;34m\u001b[0m\u001b[0;34m\u001b[0m\u001b[0m\n\u001b[1;32m      2\u001b[0m \u001b[0;34m\u001b[0m\u001b[0m\n\u001b[0;32m----> 3\u001b[0;31m \u001b[0mL\u001b[0m\u001b[0;34m.\u001b[0m\u001b[0mupper\u001b[0m\u001b[0;34m(\u001b[0m\u001b[0;34m)\u001b[0m\u001b[0;34m\u001b[0m\u001b[0;34m\u001b[0m\u001b[0m\n\u001b[0m",
            "\u001b[0;31mAttributeError\u001b[0m: 'list' object has no attribute 'upper'"
          ]
        }
      ],
      "source": [
        "L = [1,2,3]\n",
        "\n",
        "L.upper()"
      ]
    },
    {
      "cell_type": "code",
      "source": [
        "s = 'hello'\n",
        "s.append('x')"
      ],
      "metadata": {
        "colab": {
          "base_uri": "https://localhost:8080/",
          "height": 187
        },
        "id": "96Kwr6nLnyDM",
        "outputId": "9845bb6f-e342-4054-d1ca-bb790b8da96d"
      },
      "execution_count": null,
      "outputs": [
        {
          "output_type": "error",
          "ename": "AttributeError",
          "evalue": "ignored",
          "traceback": [
            "\u001b[0;31m---------------------------------------------------------------------------\u001b[0m",
            "\u001b[0;31mAttributeError\u001b[0m                            Traceback (most recent call last)",
            "\u001b[0;32m<ipython-input-2-2cb7c5babec0>\u001b[0m in \u001b[0;36m<module>\u001b[0;34m\u001b[0m\n\u001b[1;32m      1\u001b[0m \u001b[0ms\u001b[0m \u001b[0;34m=\u001b[0m \u001b[0;34m'hello'\u001b[0m\u001b[0;34m\u001b[0m\u001b[0;34m\u001b[0m\u001b[0m\n\u001b[0;32m----> 2\u001b[0;31m \u001b[0ms\u001b[0m\u001b[0;34m.\u001b[0m\u001b[0mappend\u001b[0m\u001b[0;34m(\u001b[0m\u001b[0;34m'x'\u001b[0m\u001b[0;34m)\u001b[0m\u001b[0;34m\u001b[0m\u001b[0;34m\u001b[0m\u001b[0m\n\u001b[0m",
            "\u001b[0;31mAttributeError\u001b[0m: 'str' object has no attribute 'append'"
          ]
        }
      ]
    },
    {
      "cell_type": "code",
      "source": [
        "L = [1,2,3]\n",
        "print(type(L))"
      ],
      "metadata": {
        "colab": {
          "base_uri": "https://localhost:8080/"
        },
        "id": "mmHow1wwn9TG",
        "outputId": "ab6a35e4-e395-4fe2-f9fb-b236eefc3526"
      },
      "execution_count": null,
      "outputs": [
        {
          "output_type": "stream",
          "name": "stdout",
          "text": [
            "<class 'list'>\n"
          ]
        }
      ]
    },
    {
      "cell_type": "code",
      "source": [
        "s = [1,2,3]"
      ],
      "metadata": {
        "id": "uYaUUd8uqh8G"
      },
      "execution_count": null,
      "outputs": []
    },
    {
      "cell_type": "markdown",
      "source": [
        "#🔹 What is OOPs?\n",
        "\n",
        "Object-Oriented Programming (OOP) is a way of writing programs where we think in terms of objects (real-world things) instead of just instructions.\n",
        "\n",
        "👉 In simple words:\n",
        "OOP means organizing your code like real life — where everything is an \"object\" with properties (data) and behaviors (actions)."
      ],
      "metadata": {
        "id": "OmqynWyasqeG"
      }
    },
    {
      "cell_type": "markdown",
      "source": [
        "Class → A blueprint/template. <br>\n",
        "Example: \"Car\" is a class.\n",
        "\n",
        "Object → A real thing created from a class. <br>\n",
        "Example: \"My red BMW\" is an object of the Car class.\n",
        "\n",
        "Attributes (Variables) → Properties of an object. <br>\n",
        "Example: color = \"red\", speed = 120.\n",
        "\n",
        "Methods (Functions inside a class) → Actions an object can perform. <br>\n",
        "Example: start(), stop()."
      ],
      "metadata": {
        "id": "3kS98zgJs0KW"
      }
    },
    {
      "cell_type": "markdown",
      "source": [
        "## Glossary\n",
        "`class:` <br>\n",
        "A programmer-defined type. A class definition creates a new class object. <br>\n",
        "\n",
        "`class object:` <br>\n",
        "An object that contains information about a programmer-defined type. The class object can be used to create instances of the type. <br>\n",
        "\n",
        "`instance:` <br>\n",
        "An object that belongs to a class. <br>\n",
        "\n",
        "`instantiate:` <br>\n",
        "To create a new object. <br>\n",
        "\n",
        "`attribute:` <br>\n",
        "One of the named values associated with an object. <br>\n",
        "\n",
        "`embedded object:` <br>\n",
        "An object that is stored as an attribute of another object. <br>\n",
        "\n",
        "`shallow copy:` <br>\n",
        "To copy the contents of an object, including any references to embedded objects; implemented by the copy function in the copy module. <br>\n",
        "\n",
        "`deep copy:` <br>\n",
        "To copy the contents of an object as well as any embedded objects, and any objects embedded in them, and so on; implemented by the deepcopy function in the copy module. <br>\n",
        "\n",
        "`object diagram:` <br>\n",
        "A diagram that shows objects, their attributes, and the values of the attributes. <br>\n"
      ],
      "metadata": {
        "id": "hmWAK_O3vg39"
      }
    },
    {
      "cell_type": "markdown",
      "source": [
        "# What is a Class Diagram?\n",
        "\n",
        "A class diagram is a picture/blueprint that shows how classes are designed in OOP.\n",
        "\n",
        "It tells us:\n",
        "\n",
        "1. Class Name\n",
        "2. Attributes (variables/data)\n",
        "3. Methods (functions inside the class)\n",
        "4. Relationships between classes (like inheritance).\n",
        "\n",
        "\n",
        "##🔹 Structure of a Class Diagram\n",
        "\n",
        "A class is shown as a rectangle divided into 3 parts:\n",
        "\n",
        "`| Class Name |` <br>\n",
        "`| attributes / variables |` <br>\n",
        "`| methods / functions |` <br>\n",
        "\n",
        "\n",
        " ![FEPtPVgXoAM_sDV.png](data:image/png;base64,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)\n"
      ],
      "metadata": {
        "id": "ykh3GuvRxpLO"
      }
    },
    {
      "cell_type": "code",
      "source": [
        "# syntax to create an object\n",
        "\n",
        "#objectname = classname()"
      ],
      "metadata": {
        "id": "UrQCJI-xqkyX"
      },
      "execution_count": null,
      "outputs": []
    },
    {
      "cell_type": "code",
      "source": [
        "# object literal\n",
        "L = [1,2,3]"
      ],
      "metadata": {
        "id": "BE1pbysesWlD"
      },
      "execution_count": null,
      "outputs": []
    },
    {
      "cell_type": "code",
      "source": [
        "L = list()\n",
        "L"
      ],
      "metadata": {
        "colab": {
          "base_uri": "https://localhost:8080/"
        },
        "id": "EuMPro8hsbB3",
        "outputId": "aad19e46-44ad-4b86-86b2-ded54a6a4a29"
      },
      "execution_count": null,
      "outputs": [
        {
          "output_type": "execute_result",
          "data": {
            "text/plain": [
              "[]"
            ]
          },
          "metadata": {},
          "execution_count": 7
        }
      ]
    },
    {
      "cell_type": "code",
      "source": [
        "s = str()\n",
        "s"
      ],
      "metadata": {
        "colab": {
          "base_uri": "https://localhost:8080/",
          "height": 36
        },
        "id": "F_pB8wsPsdA9",
        "outputId": "ca758fc3-330c-4ec4-bb4f-5863c7c03d7a"
      },
      "execution_count": null,
      "outputs": [
        {
          "output_type": "execute_result",
          "data": {
            "text/plain": [
              "''"
            ],
            "application/vnd.google.colaboratory.intrinsic+json": {
              "type": "string"
            }
          },
          "metadata": {},
          "execution_count": 8
        }
      ]
    },
    {
      "cell_type": "markdown",
      "source": [
        "## Methods Vs Functions\n",
        "\n",
        "| **Function**                                       | **Method**                                          |\n",
        "| -------------------------------------------------- | --------------------------------------------------- |\n",
        "| Written **independently** (outside classes).       | Written **inside a class**.                         |\n",
        "| Called by its **name directly** (e.g., `greet()`). | Called using an **object** (e.g., `p.greet()`).     |\n",
        "| Works with inputs we pass.                         | Works with inputs + the object’s own data (`self`). |\n",
        "| Example: `print()`, `len()`.                       | Example: `list.append()`, `str.upper()`.            |\n"
      ],
      "metadata": {
        "id": "MIRObybouFIe"
      }
    },
    {
      "cell_type": "markdown",
      "source": [
        "#🔹 What are Magic Methods / Dunder Methods?\n",
        "\n",
        "M:agic methods are special methods that start and end with double underscores (`__method__`).\n",
        "\n",
        "They are built-in hooks that make objects behave in certain ways.\n",
        "\n",
        "You don’t call them directly (usually). Instead, Python calls them automatically when you use operators or built-in functions.\n",
        "\n",
        "👉 That’s why they’re also called dunder methods (short for “Double UNDERscore”)."
      ],
      "metadata": {
        "id": "2reQNEYYu8Pu"
      }
    },
    {
      "cell_type": "code",
      "source": [
        "# Simple Example\n",
        "class Book:\n",
        "    def __init__(self, title, pages):\n",
        "        self.title = title\n",
        "        self.pages = pages\n",
        "\n",
        "    # magic method\n",
        "    def __str__(self):\n",
        "        return f\"{self.title} has {self.pages} pages\"\n",
        "\n",
        "# create object\n",
        "b1 = Book(\"Python Basics\", 250)\n",
        "\n",
        "print(b1)   # Output: Python Basics has 250 pages\n"
      ],
      "metadata": {
        "id": "RmxsGdt9vWBf"
      },
      "execution_count": null,
      "outputs": []
    },
    {
      "cell_type": "markdown",
      "source": [
        "## Common Magic Methods in Python\n",
        "| Magic Method  | Triggered When…              | Example                    |\n",
        "| ------------- | ---------------------------- | -------------------------- |\n",
        "| `__init__`    | Object is created            | `b1 = Book(\"Python\", 200)` |\n",
        "| `__str__`     | `print()` or `str()` is used | `print(b1)`                |\n",
        "| `__len__`     | `len()` is used              | `len(b1)`                  |\n",
        "| `__add__`     | `+` operator is used         | `obj1 + obj2`              |\n",
        "| `__eq__`      | `==` comparison              | `obj1 == obj2`             |\n",
        "| `__lt__`      | `<` comparison               | `obj1 < obj2`              |\n",
        "| `__getitem__` | Using square brackets        | `obj[0]`                   |\n"
      ],
      "metadata": {
        "id": "MB4N_2DIvdb6"
      }
    },
    {
      "cell_type": "markdown",
      "source": [
        "#🔹 What is a Constructor?\n",
        "\n",
        "A constructor is a special method in a class that is automatically called when you create an object.\n",
        "\n",
        "🔹 Key Points\n",
        "\n",
        "1. `__init__` is the constructor in Python.\n",
        "2. It runs automatically when we create an object.\n",
        "3. It is mainly used to initialize attributes.\n",
        "4. self refers to the current object.\n",
        "\n",
        "# Use of Constructor\n",
        "The constructor is used to write **configuration-related** code because it automatically sets up the object with the required initial values and default settings when the object is created. <br>\n",
        "\n",
        "> constructor ka control user ke pass nahi hota, its automatically triggred when application start.\n",
        "\n",
        "\n"
      ],
      "metadata": {
        "id": "8CLJHPxS2MQZ"
      }
    },
    {
      "cell_type": "code",
      "source": [
        "# Pascal Case\n",
        "\n",
        "HelloWorld"
      ],
      "metadata": {
        "id": "ffVNGUBhtMrL"
      },
      "execution_count": null,
      "outputs": []
    },
    {
      "cell_type": "code",
      "source": [
        "class Atm:\n",
        "\n",
        "  # constructor(special function)->superpower ->\n",
        "  def __init__(self):\n",
        "    print(id(self))\n",
        "    self.pin = ''\n",
        "    self.balance = 0\n",
        "    #self.menu()\n",
        "\n",
        "  def menu(self):\n",
        "    user_input = input(\"\"\"\n",
        "    Hi how can I help you?\n",
        "    1. Press 1 to create pin\n",
        "    2. Press 2 to change pin\n",
        "    3. Press 3 to check balance\n",
        "    4. Press 4 to withdraw\n",
        "    5. Anything else to exit\n",
        "    \"\"\")\n",
        "\n",
        "    if user_input == '1':\n",
        "      self.create_pin()\n",
        "    elif user_input == '2':\n",
        "      self.change_pin()\n",
        "    elif user_input == '3':\n",
        "      self.check_balance()\n",
        "    elif user_input == '4':\n",
        "      self.withdraw()\n",
        "    else:\n",
        "      exit()\n",
        "\n",
        "  def create_pin(self):\n",
        "    user_pin = input('enter your pin')\n",
        "    self.pin = user_pin\n",
        "\n",
        "    user_balance = int(input('enter balance'))\n",
        "    self.balance = user_balance\n",
        "\n",
        "    print('pin created successfully')\n",
        "    self.menu()\n",
        "\n",
        "  def change_pin():\n",
        "    old_pin = input('enter old pin')\n",
        "\n",
        "    if old_pin == self.pin:\n",
        "      # let him change the pin\n",
        "      new_pin = input('enter new pin')\n",
        "      self.pin = new_pin\n",
        "      print('pin change successful')\n",
        "      self.menu()\n",
        "    else:\n",
        "      print('nai karne de sakta re baba')\n",
        "      self.menu()\n",
        "\n",
        "  def check_balance(self):\n",
        "    user_pin = input('enter your pin')\n",
        "    if user_pin == self.pin:\n",
        "      print('your balance is ',self.balance)\n",
        "    else:\n",
        "      print('chal nikal yahan se')\n",
        "\n",
        "  def withdraw(self):\n",
        "    user_pin = input('enter the pin')\n",
        "    if user_pin == self.pin:\n",
        "      # allow to withdraw\n",
        "      amount = int(input('enter the amount'))\n",
        "      if amount <= self.balance:\n",
        "        self.balance = self.balance - amount\n",
        "        print('withdrawl successful.balance is',self.balance)\n",
        "      else:\n",
        "        print('abe garib')\n",
        "    else:\n",
        "      print('sale chor')\n",
        "    self.menu()\n",
        "\n",
        "\n"
      ],
      "metadata": {
        "id": "76IAiCrBshyW"
      },
      "execution_count": 3,
      "outputs": []
    },
    {
      "cell_type": "code",
      "source": [
        "obj1 = Atm()"
      ],
      "metadata": {
        "colab": {
          "base_uri": "https://localhost:8080/"
        },
        "id": "nT1VdlNauFYf",
        "outputId": "10f7573a-baec-4876-9719-8488460f4e42"
      },
      "execution_count": 4,
      "outputs": [
        {
          "output_type": "stream",
          "name": "stdout",
          "text": [
            "132446843114304\n"
          ]
        }
      ]
    },
    {
      "cell_type": "code",
      "source": [
        "id(obj1)"
      ],
      "metadata": {
        "colab": {
          "base_uri": "https://localhost:8080/"
        },
        "id": "zfF7WE1LuWzp",
        "outputId": "ca330fc6-326e-4a8a-b105-e3ae34ad90c0"
      },
      "execution_count": 5,
      "outputs": [
        {
          "output_type": "execute_result",
          "data": {
            "text/plain": [
              "132446843114304"
            ]
          },
          "metadata": {},
          "execution_count": 5
        }
      ]
    },
    {
      "cell_type": "code",
      "source": [
        "obj2 = Atm()"
      ],
      "metadata": {
        "colab": {
          "base_uri": "https://localhost:8080/"
        },
        "id": "NHJEFG6CuY1v",
        "outputId": "eedc9ef9-9d50-4b26-9eee-cf75caca923c"
      },
      "execution_count": 6,
      "outputs": [
        {
          "output_type": "stream",
          "name": "stdout",
          "text": [
            "132446842750976\n"
          ]
        }
      ]
    },
    {
      "cell_type": "code",
      "source": [
        "id(obj2)"
      ],
      "metadata": {
        "colab": {
          "base_uri": "https://localhost:8080/"
        },
        "id": "2RmYPjp0-m5F",
        "outputId": "97254bb1-549c-4b7c-8396-493cd5553046"
      },
      "execution_count": 7,
      "outputs": [
        {
          "output_type": "execute_result",
          "data": {
            "text/plain": [
              "132446842750976"
            ]
          },
          "metadata": {},
          "execution_count": 7
        }
      ]
    },
    {
      "cell_type": "markdown",
      "source": [
        "#🔹 The Golden Rule of OOPS\n",
        "\n",
        "👉 **Only the object of a class can access the class’s data (attributes) and methods.**\n",
        "\n",
        "\n",
        "📌 Explanation\n",
        "\n",
        "* A class is just a blueprint (it doesn’t do anything by itself).\n",
        "* An object is the real thing created from the class.\n",
        "* Only through the object, we can use the class’s data and methods.\n",
        "<br>\n",
        "\n",
        "📌 Example in Python\n",
        "\n",
        "```\n",
        "class Car:\n",
        "    def __init__(self, brand, color):\n",
        "        self.brand = brand\n",
        "        self.color = color\n",
        "\n",
        "    def start(self):\n",
        "        print(f\"{self.color} {self.brand} is starting...\")\n",
        "\n",
        "# Create object\n",
        "car1 = Car(\"BMW\", \"Red\")\n",
        "\n",
        "# Access data & methods using object\n",
        "print(car1.brand)   # ✅ Red\n",
        "car1.start()        # ✅ Red BMW is starting...\n",
        "```\n",
        "\n",
        "👉 Here:\n",
        "\n",
        "* `Car` (class) cannot directly start.\n",
        "* But `car1` (object) can access both the data (`brand`, `color`) and the method (`start`)."
      ],
      "metadata": {
        "id": "saCRm40q0CWO"
      }
    },
    {
      "cell_type": "markdown",
      "source": [
        "# **Self**\n",
        "## 🔹 What is self in Python?\n",
        "\n",
        "1. self represents the current object (the object being created or used).\n",
        "2. It is like saying \"me\" inside the class.\n",
        "3. When we write methods in a class, self lets us access the object’s attributes (data) and methods (functions).\n",
        "\n",
        "👉 In simple words:\n",
        "\n",
        "  `self = the object itself.`"
      ],
      "metadata": {
        "id": "Z_HkpTrhMry4"
      }
    },
    {
      "cell_type": "markdown",
      "source": [
        "###🔹 Rule in Python\n",
        "\n",
        "* Every instance method in a class must have at least one parameter (by convention named self).\n",
        "\n",
        "* When you call a method using an object, Python automatically passes the object itself as the first argument.\n",
        "\n",
        "So, if you forget self, Python gets confused because it doesn’t know where to put the object reference.\n",
        "\n",
        "##🔹 Example 1: Forgetting self\n",
        "\n",
        "\n",
        "```\n",
        "class Demo:\n",
        "    def show():   # ❌ missing self\n",
        "        print(\"Hello\")\n",
        "\n",
        "obj = Demo()\n",
        "obj.show()\n",
        "\n",
        "```\n",
        "👉 Output:\n",
        "`TypeError: Demo.show() takes 0 positional arguments but 1 was given`\n",
        "\n",
        "⚡ Error happens because:\n",
        "\n",
        "* When you write obj.show(), Python internally does → Demo.show(obj).\n",
        "* But your method definition doesn’t expect any parameter → mismatch!\n",
        "\n",
        "##🔹 Example 2: Correct Way with self\n",
        "\n",
        "\n",
        "```\n",
        "class Demo:\n",
        "    def show(self):   # ✅ with self\n",
        "        print(\"Hello\")\n",
        "\n",
        "obj = Demo()\n",
        "obj.show()   # works fine\n",
        "\n",
        "```\n",
        "\n",
        "Output: `Hello`\n",
        "\n",
        "Here, self automatically received obj.\n",
        "\n",
        "#🔹 Important Notes about self\n",
        "\n",
        "1. `self` is not a keyword → it’s just a convention. <br>\n",
        "You could write this:\n",
        "```\n",
        "class Demo:\n",
        "    def show(this):   # using \"this\" instead of self\n",
        "        print(\"Hello\")\n",
        "```\n",
        "👉 Works the same, but everyone uses self for clarity.\n",
        "\n",
        "2. If you remove self, methods can still work as static methods (but then you must decorate with @staticmethod).\n",
        "\n",
        "```\n",
        "class Demo:\n",
        "    @staticmethod\n",
        "    def greet():\n",
        "        print(\"Hello without self\")\n",
        "\n",
        "Demo.greet()   # works fine\n",
        "```\n"
      ],
      "metadata": {
        "id": "9yW3DV7KM-em"
      }
    },
    {
      "cell_type": "code",
      "source": [
        "L = [1,2,3]\n",
        "len(L) # function ->bcos it is outside the list class\n",
        "L.append()# method -> bcos it is inside the list class"
      ],
      "metadata": {
        "id": "qMYm7tYJv_s2"
      },
      "execution_count": null,
      "outputs": []
    },
    {
      "cell_type": "code",
      "source": [
        "class Temp:\n",
        "\n",
        "  def __init__(self):\n",
        "    print('hello')\n",
        "\n",
        "obj = Temp()"
      ],
      "metadata": {
        "colab": {
          "base_uri": "https://localhost:8080/"
        },
        "id": "FT63LIRB4YQM",
        "outputId": "64520926-5f6c-4491-e71d-83b1f63b4cd3"
      },
      "execution_count": null,
      "outputs": [
        {
          "output_type": "stream",
          "name": "stdout",
          "text": [
            "hello\n"
          ]
        }
      ]
    },
    {
      "cell_type": "code",
      "source": [
        "3/4*1/2"
      ],
      "metadata": {
        "colab": {
          "base_uri": "https://localhost:8080/"
        },
        "id": "w52ABPIX4dbv",
        "outputId": "c35dae21-2ab4-4a1f-ec98-05d962bdf12c"
      },
      "execution_count": null,
      "outputs": [
        {
          "output_type": "execute_result",
          "data": {
            "text/plain": [
              "0.375"
            ]
          },
          "metadata": {},
          "execution_count": 7
        }
      ]
    },
    {
      "cell_type": "code",
      "source": [
        "class Fraction:\n",
        "\n",
        "  # parameterized constructor\n",
        "  def __init__(self,x,y):\n",
        "    self.num = x\n",
        "    self.den = y\n",
        "\n",
        "  def __str__(self):\n",
        "    return '{}/{}'.format(self.num,self.den)\n",
        "\n",
        "  def __add__(self,other):\n",
        "    new_num = self.num*other.den + other.num*self.den\n",
        "    new_den = self.den*other.den\n",
        "\n",
        "    return '{}/{}'.format(new_num,new_den)\n",
        "\n",
        "  def __sub__(self,other):\n",
        "    new_num = self.num*other.den - other.num*self.den\n",
        "    new_den = self.den*other.den\n",
        "\n",
        "    return '{}/{}'.format(new_num,new_den)\n",
        "\n",
        "  def __mul__(self,other):\n",
        "    new_num = self.num*other.num\n",
        "    new_den = self.den*other.den\n",
        "\n",
        "    return '{}/{}'.format(new_num,new_den)\n",
        "\n",
        "  def __truediv__(self,other):\n",
        "    new_num = self.num*other.den\n",
        "    new_den = self.den*other.num\n",
        "\n",
        "    return '{}/{}'.format(new_num,new_den)\n",
        "\n",
        "  def convert_to_decimal(self):\n",
        "    return self.num/self.den\n",
        "\n",
        "\n",
        "\n",
        "\n"
      ],
      "metadata": {
        "id": "Q19W8x5Y-KHv"
      },
      "execution_count": null,
      "outputs": []
    },
    {
      "cell_type": "code",
      "source": [
        "fr1 = Fraction(3,4)\n",
        "fr2 = Fraction(1,2)"
      ],
      "metadata": {
        "id": "CpmYQ8mm_N1X"
      },
      "execution_count": null,
      "outputs": []
    },
    {
      "cell_type": "code",
      "source": [
        "fr1.convert_to_decimal()\n",
        "# 3/4"
      ],
      "metadata": {
        "colab": {
          "base_uri": "https://localhost:8080/"
        },
        "id": "-DW3uyJq_XAa",
        "outputId": "b8aac211-28f6-463f-aee1-10f5e93590ce"
      },
      "execution_count": null,
      "outputs": [
        {
          "output_type": "execute_result",
          "data": {
            "text/plain": [
              "0.75"
            ]
          },
          "metadata": {},
          "execution_count": 45
        }
      ]
    },
    {
      "cell_type": "code",
      "source": [
        "print(fr1 + fr2)\n",
        "print(fr1 - fr2)\n",
        "print(fr1 * fr2)\n",
        "print(fr1 / fr2)"
      ],
      "metadata": {
        "colab": {
          "base_uri": "https://localhost:8080/"
        },
        "id": "TkfFpVlj_hdf",
        "outputId": "86461b66-070a-4491-a626-a8a0fe9b6e2e"
      },
      "execution_count": null,
      "outputs": [
        {
          "output_type": "stream",
          "name": "stdout",
          "text": [
            "10/8\n",
            "2/8\n",
            "3/8\n",
            "6/4\n"
          ]
        }
      ]
    },
    {
      "cell_type": "code",
      "source": [
        "s1={1,2,3}\n",
        "s2={3,4,5}\n",
        "\n",
        "s1 + s2"
      ],
      "metadata": {
        "colab": {
          "base_uri": "https://localhost:8080/",
          "height": 205
        },
        "id": "85oS9Z7ZAys4",
        "outputId": "c4e8344f-ed23-43ce-ca93-ff973f757680"
      },
      "execution_count": null,
      "outputs": [
        {
          "output_type": "error",
          "ename": "TypeError",
          "evalue": "ignored",
          "traceback": [
            "\u001b[0;31m---------------------------------------------------------------------------\u001b[0m",
            "\u001b[0;31mTypeError\u001b[0m                                 Traceback (most recent call last)",
            "\u001b[0;32m<ipython-input-32-3a417afc75fb>\u001b[0m in \u001b[0;36m<module>\u001b[0;34m\u001b[0m\n\u001b[1;32m      2\u001b[0m \u001b[0ms2\u001b[0m\u001b[0;34m=\u001b[0m\u001b[0;34m{\u001b[0m\u001b[0;36m3\u001b[0m\u001b[0;34m,\u001b[0m\u001b[0;36m4\u001b[0m\u001b[0;34m,\u001b[0m\u001b[0;36m5\u001b[0m\u001b[0;34m}\u001b[0m\u001b[0;34m\u001b[0m\u001b[0;34m\u001b[0m\u001b[0m\n\u001b[1;32m      3\u001b[0m \u001b[0;34m\u001b[0m\u001b[0m\n\u001b[0;32m----> 4\u001b[0;31m \u001b[0ms1\u001b[0m \u001b[0;34m+\u001b[0m \u001b[0ms2\u001b[0m\u001b[0;34m\u001b[0m\u001b[0;34m\u001b[0m\u001b[0m\n\u001b[0m",
            "\u001b[0;31mTypeError\u001b[0m: unsupported operand type(s) for +: 'set' and 'set'"
          ]
        }
      ]
    },
    {
      "cell_type": "code",
      "source": [
        "print(fr1 - fr2)"
      ],
      "metadata": {
        "colab": {
          "base_uri": "https://localhost:8080/",
          "height": 169
        },
        "id": "op-qgssMA48a",
        "outputId": "0e2058d7-d5ef-4f55-ea8c-6495ae9bd0c4"
      },
      "execution_count": null,
      "outputs": [
        {
          "output_type": "error",
          "ename": "TypeError",
          "evalue": "ignored",
          "traceback": [
            "\u001b[0;31m---------------------------------------------------------------------------\u001b[0m",
            "\u001b[0;31mTypeError\u001b[0m                                 Traceback (most recent call last)",
            "\u001b[0;32m<ipython-input-39-929bcd8b32dc>\u001b[0m in \u001b[0;36m<module>\u001b[0;34m\u001b[0m\n\u001b[0;32m----> 1\u001b[0;31m \u001b[0mprint\u001b[0m\u001b[0;34m(\u001b[0m\u001b[0mfr1\u001b[0m \u001b[0;34m-\u001b[0m \u001b[0mfr2\u001b[0m\u001b[0;34m)\u001b[0m\u001b[0;34m\u001b[0m\u001b[0;34m\u001b[0m\u001b[0m\n\u001b[0m",
            "\u001b[0;31mTypeError\u001b[0m: unsupported operand type(s) for -: 'Fraction' and 'Fraction'"
          ]
        }
      ]
    }
  ]
}