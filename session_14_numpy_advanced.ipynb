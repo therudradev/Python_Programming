{
  "nbformat": 4,
  "nbformat_minor": 0,
  "metadata": {
    "colab": {
      "provenance": [],
      "include_colab_link": true
    },
    "kernelspec": {
      "name": "python3",
      "display_name": "Python 3"
    },
    "language_info": {
      "name": "python"
    }
  },
  "cells": [
    {
      "cell_type": "markdown",
      "metadata": {
        "id": "view-in-github",
        "colab_type": "text"
      },
      "source": [
        "<a href=\"https://colab.research.google.com/github/therudradev/Python_Programming/blob/main/session_14_numpy_advanced.ipynb\" target=\"_parent\"><img src=\"https://colab.research.google.com/assets/colab-badge.svg\" alt=\"Open In Colab\"/></a>"
      ]
    },
    {
      "cell_type": "markdown",
      "source": [
        "### Numpy array vs Python lists"
      ],
      "metadata": {
        "id": "exouV4nxLocj"
      }
    },
    {
      "cell_type": "code",
      "source": [
        "# speed\n",
        "# list\n",
        "a = [i for i in range(10000000)]\n",
        "b = [i for i in range(10000000,20000000)]\n",
        "\n",
        "c = []\n",
        "import time\n",
        "\n",
        "start = time.time()\n",
        "for i in range(len(a)):\n",
        "  c.append(a[i] + b[i])\n",
        "print(time.time()-start)"
      ],
      "metadata": {
        "colab": {
          "base_uri": "https://localhost:8080/"
        },
        "id": "9ITuYx0tLnbc",
        "outputId": "90071af9-ec7e-4983-9a35-9da9b7fe1add"
      },
      "execution_count": 3,
      "outputs": [
        {
          "output_type": "stream",
          "name": "stdout",
          "text": [
            "1.6955451965332031\n"
          ]
        }
      ]
    },
    {
      "cell_type": "code",
      "source": [
        "# numpy\n",
        "import numpy as np\n",
        "a = np.arange(10000000)\n",
        "b = np.arange(10000000,20000000)\n",
        "\n",
        "start = time.time()\n",
        "c = a + b\n",
        "print(time.time()-start)"
      ],
      "metadata": {
        "colab": {
          "base_uri": "https://localhost:8080/"
        },
        "id": "EW6ISYk6ZifP",
        "outputId": "b22289a5-c4d7-4bb3-968e-db65f2df4221"
      },
      "execution_count": 4,
      "outputs": [
        {
          "output_type": "stream",
          "name": "stdout",
          "text": [
            "0.18179845809936523\n"
          ]
        }
      ]
    },
    {
      "cell_type": "code",
      "source": [
        "3.26/0.06"
      ],
      "metadata": {
        "colab": {
          "base_uri": "https://localhost:8080/"
        },
        "id": "D0rcBlxZB5tb",
        "outputId": "e459d12e-5aac-46b9-b8ea-81a151a386fb"
      },
      "execution_count": null,
      "outputs": [
        {
          "output_type": "execute_result",
          "data": {
            "text/plain": [
              "54.33333333333333"
            ]
          },
          "metadata": {},
          "execution_count": 62
        }
      ]
    },
    {
      "cell_type": "code",
      "source": [
        "# memory\n",
        "a = [i for i in range(10000000)]\n",
        "import sys\n",
        "\n",
        "sys.getsizeof(a)"
      ],
      "metadata": {
        "colab": {
          "base_uri": "https://localhost:8080/"
        },
        "id": "PSC79592SIZz",
        "outputId": "09dbb0be-1d55-403f-907d-6324163af4c1"
      },
      "execution_count": 4,
      "outputs": [
        {
          "output_type": "execute_result",
          "data": {
            "text/plain": [
              "89095160"
            ]
          },
          "metadata": {},
          "execution_count": 4
        }
      ]
    },
    {
      "cell_type": "code",
      "source": [
        "a = np.arange(10000000,dtype=np.int8)\n",
        "sys.getsizeof(a)"
      ],
      "metadata": {
        "colab": {
          "base_uri": "https://localhost:8080/"
        },
        "id": "mk_U1oHuaOSo",
        "outputId": "e3bba7da-aa4e-4e32-e5fb-6862d706c569"
      },
      "execution_count": 5,
      "outputs": [
        {
          "output_type": "execute_result",
          "data": {
            "text/plain": [
              "10000112"
            ]
          },
          "metadata": {},
          "execution_count": 5
        }
      ]
    },
    {
      "cell_type": "code",
      "source": [
        "# convenience"
      ],
      "metadata": {
        "id": "MiDnJvwBSJUt"
      },
      "execution_count": null,
      "outputs": []
    },
    {
      "cell_type": "markdown",
      "source": [
        "### Advanced Indexing"
      ],
      "metadata": {
        "id": "G7gJ1-8fLLEI"
      }
    },
    {
      "cell_type": "code",
      "source": [
        "# Normal Indexing and slicing\n",
        "\n",
        "a = np.arange(24).reshape(6,4)\n",
        "a"
      ],
      "metadata": {
        "colab": {
          "base_uri": "https://localhost:8080/"
        },
        "id": "vTt8xIaa1I1Y",
        "outputId": "23644ea0-c0f0-434f-c412-b33443436178"
      },
      "execution_count": 6,
      "outputs": [
        {
          "output_type": "execute_result",
          "data": {
            "text/plain": [
              "array([[ 0,  1,  2,  3],\n",
              "       [ 4,  5,  6,  7],\n",
              "       [ 8,  9, 10, 11],\n",
              "       [12, 13, 14, 15],\n",
              "       [16, 17, 18, 19],\n",
              "       [20, 21, 22, 23]])"
            ]
          },
          "metadata": {},
          "execution_count": 6
        }
      ]
    },
    {
      "cell_type": "code",
      "source": [
        "a[1,2]"
      ],
      "metadata": {
        "colab": {
          "base_uri": "https://localhost:8080/"
        },
        "id": "cl0vYVxEEOLs",
        "outputId": "76c9e3de-1840-4008-aa35-abf6b3835b15"
      },
      "execution_count": 7,
      "outputs": [
        {
          "output_type": "execute_result",
          "data": {
            "text/plain": [
              "np.int64(6)"
            ]
          },
          "metadata": {},
          "execution_count": 7
        }
      ]
    },
    {
      "cell_type": "code",
      "source": [
        "a[1:3,1:3]"
      ],
      "metadata": {
        "colab": {
          "base_uri": "https://localhost:8080/"
        },
        "id": "-4fMAMjwET20",
        "outputId": "69165b24-aaae-4dde-f40d-f55476a61a70"
      },
      "execution_count": 8,
      "outputs": [
        {
          "output_type": "execute_result",
          "data": {
            "text/plain": [
              "array([[ 5,  6],\n",
              "       [ 9, 10]])"
            ]
          },
          "metadata": {},
          "execution_count": 8
        }
      ]
    },
    {
      "cell_type": "markdown",
      "source": [
        "### Fancy indexing"
      ],
      "metadata": {
        "id": "2ngDcQASK8Fi"
      }
    },
    {
      "cell_type": "code",
      "source": [
        "# Fancy Indexing\n",
        "# jab normal indexing/slicing se baat na bane to fancy indexing use karenge.\n",
        "# Ex.:- if we need 1st,2nd and 3rd row\n",
        "# Fancy indexing jo bhi row/column chahiye ek list me dal do.\n",
        "\n",
        "a[:,[0,2,3]] # 0th, 2nd and 3rd column"
      ],
      "metadata": {
        "colab": {
          "base_uri": "https://localhost:8080/"
        },
        "id": "qxCgXTRo1Lk8",
        "outputId": "27b25b2a-b019-4ff0-eeee-d3fcf99cc610"
      },
      "execution_count": 9,
      "outputs": [
        {
          "output_type": "execute_result",
          "data": {
            "text/plain": [
              "array([[ 0,  2,  3],\n",
              "       [ 4,  6,  7],\n",
              "       [ 8, 10, 11],\n",
              "       [12, 14, 15],\n",
              "       [16, 18, 19],\n",
              "       [20, 22, 23]])"
            ]
          },
          "metadata": {},
          "execution_count": 9
        }
      ]
    },
    {
      "cell_type": "code",
      "source": [],
      "metadata": {
        "id": "1BIkbzQCFUft"
      },
      "execution_count": null,
      "outputs": []
    },
    {
      "cell_type": "code",
      "source": [
        "# Boolean Indexing (return 1D array)\n",
        "a = np.random.randint(1,100,24).reshape(6,4)\n",
        "a"
      ],
      "metadata": {
        "colab": {
          "base_uri": "https://localhost:8080/"
        },
        "id": "3hrTxRuy1Noi",
        "outputId": "0fe3f0ad-3b25-4c1c-cd60-6175fcd0d9c2"
      },
      "execution_count": null,
      "outputs": [
        {
          "output_type": "execute_result",
          "data": {
            "text/plain": [
              "array([[76, 98, 99, 39],\n",
              "       [91, 46, 88, 23],\n",
              "       [45,  6, 83,  1],\n",
              "       [37, 43, 78, 85],\n",
              "       [54, 73, 61, 53],\n",
              "       [40, 93, 85, 77]])"
            ]
          },
          "metadata": {},
          "execution_count": 88
        }
      ]
    },
    {
      "cell_type": "code",
      "source": [
        "# find all numbers greater than 50\n",
        "a[a > 50]"
      ],
      "metadata": {
        "colab": {
          "base_uri": "https://localhost:8080/"
        },
        "id": "zMvMQcm01mcG",
        "outputId": "608dfc5b-1457-40ba-d706-70f220bd582c"
      },
      "execution_count": null,
      "outputs": [
        {
          "output_type": "execute_result",
          "data": {
            "text/plain": [
              "array([76, 98, 99, 91, 88, 83, 78, 85, 54, 73, 61, 53, 93, 85, 77])"
            ]
          },
          "metadata": {},
          "execution_count": 90
        }
      ]
    },
    {
      "cell_type": "code",
      "source": [
        "# find out even numbers\n",
        "a[a % 2 == 0]"
      ],
      "metadata": {
        "colab": {
          "base_uri": "https://localhost:8080/"
        },
        "id": "_4BwwwxEG68r",
        "outputId": "0bc7ef64-a860-4c39-b1bb-98d8f73ad999"
      },
      "execution_count": null,
      "outputs": [
        {
          "output_type": "execute_result",
          "data": {
            "text/plain": [
              "array([76, 98, 46, 88,  6, 78, 54, 40])"
            ]
          },
          "metadata": {},
          "execution_count": 92
        }
      ]
    },
    {
      "cell_type": "code",
      "source": [
        "# find all numbers greater than 50 and are even\n",
        "# we use here '&' insted of 'and'.\n",
        "#  because when ever we work on bollean value use '&' operator for comparision.\n",
        "\n",
        "a[(a > 50) & (a % 2 == 0)]\n",
        "a[(a > 50) and (a % 2 == 0)]"
      ],
      "metadata": {
        "colab": {
          "base_uri": "https://localhost:8080/",
          "height": 205
        },
        "id": "MIk_GnwQ1sS2",
        "outputId": "0b3e8ed7-0354-4a93-c4e8-e3901e395ced"
      },
      "execution_count": null,
      "outputs": [
        {
          "output_type": "error",
          "ename": "ValueError",
          "evalue": "ignored",
          "traceback": [
            "\u001b[0;31m---------------------------------------------------------------------------\u001b[0m",
            "\u001b[0;31mValueError\u001b[0m                                Traceback (most recent call last)",
            "\u001b[0;32m<ipython-input-97-0e69559201d8>\u001b[0m in \u001b[0;36m<module>\u001b[0;34m\u001b[0m\n\u001b[1;32m      1\u001b[0m \u001b[0;31m# find all numbers greater than 50 and are even\u001b[0m\u001b[0;34m\u001b[0m\u001b[0;34m\u001b[0m\u001b[0;34m\u001b[0m\u001b[0m\n\u001b[1;32m      2\u001b[0m \u001b[0;34m\u001b[0m\u001b[0m\n\u001b[0;32m----> 3\u001b[0;31m \u001b[0ma\u001b[0m\u001b[0;34m[\u001b[0m\u001b[0;34m(\u001b[0m\u001b[0ma\u001b[0m \u001b[0;34m>\u001b[0m \u001b[0;36m50\u001b[0m\u001b[0;34m)\u001b[0m \u001b[0;32mand\u001b[0m \u001b[0;34m(\u001b[0m\u001b[0ma\u001b[0m \u001b[0;34m%\u001b[0m \u001b[0;36m2\u001b[0m \u001b[0;34m==\u001b[0m \u001b[0;36m0\u001b[0m\u001b[0;34m)\u001b[0m\u001b[0;34m]\u001b[0m\u001b[0;34m\u001b[0m\u001b[0;34m\u001b[0m\u001b[0m\n\u001b[0m",
            "\u001b[0;31mValueError\u001b[0m: The truth value of an array with more than one element is ambiguous. Use a.any() or a.all()"
          ]
        }
      ]
    },
    {
      "cell_type": "code",
      "source": [
        "# find all numbers not divisible by 7\n",
        "a[~(a % 7 == 0)]"
      ],
      "metadata": {
        "colab": {
          "base_uri": "https://localhost:8080/"
        },
        "id": "rhGQtwkl6W7k",
        "outputId": "f6f525b9-9556-4c9c-aa9c-bd56bb7cab0c"
      },
      "execution_count": null,
      "outputs": [
        {
          "output_type": "execute_result",
          "data": {
            "text/plain": [
              "array([76, 99, 39, 46, 88, 23, 45,  6, 83,  1, 37, 43, 78, 85, 54, 73, 61,\n",
              "       53, 40, 93, 85])"
            ]
          },
          "metadata": {},
          "execution_count": 96
        }
      ]
    },
    {
      "cell_type": "markdown",
      "source": [
        "### Broadcasting\n",
        "\n",
        "The term broadcasting describes how NumPy treats arrays with different shapes during arithmetic operations.\n",
        "\n",
        "The smaller array is “broadcast” across the larger array so that they have compatible shapes."
      ],
      "metadata": {
        "id": "n2UP2iZTLPR5"
      }
    },
    {
      "cell_type": "code",
      "source": [
        "# same shape\n",
        "a = np.arange(6).reshape(2,3)\n",
        "b = np.arange(6,12).reshape(2,3)\n",
        "\n",
        "print(a)\n",
        "print(b)\n",
        "\n",
        "print(a+b)"
      ],
      "metadata": {
        "id": "tJTrjKxoCYhT",
        "colab": {
          "base_uri": "https://localhost:8080/"
        },
        "outputId": "04cff222-a8c8-4d3c-9e77-084963f56df1"
      },
      "execution_count": null,
      "outputs": [
        {
          "output_type": "stream",
          "name": "stdout",
          "text": [
            "[[0 1 2]\n",
            " [3 4 5]]\n",
            "[[ 6  7  8]\n",
            " [ 9 10 11]]\n",
            "[[ 6  8 10]\n",
            " [12 14 16]]\n"
          ]
        }
      ]
    },
    {
      "cell_type": "code",
      "source": [
        "# diff shape\n",
        "a = np.arange(6).reshape(2,3)\n",
        "b = np.arange(3).reshape(1,3)\n",
        "\n",
        "print(a)\n",
        "print(b)\n",
        "print()\n",
        "\n",
        "# is it possible to add two array of diffrent shape?\n",
        "print(a+b) # yes"
      ],
      "metadata": {
        "colab": {
          "base_uri": "https://localhost:8080/"
        },
        "id": "f-mVhFT-N3jF",
        "outputId": "9592459f-bad2-4b46-84c9-fd54f9d6871d"
      },
      "execution_count": 10,
      "outputs": [
        {
          "output_type": "stream",
          "name": "stdout",
          "text": [
            "[[0 1 2]\n",
            " [3 4 5]]\n",
            "[[0 1 2]]\n",
            "\n",
            "[[0 2 4]\n",
            " [3 5 7]]\n"
          ]
        }
      ]
    },
    {
      "cell_type": "markdown",
      "source": [
        "#### Broadcasting Rules (three rules)\n",
        "\n",
        "**1. Make the two arrays have the same number of dimensions.**<br>\n",
        "- If the numbers of dimensions of the two arrays are different, add new dimensions with size 1 to the head of the array with the smaller dimension.<br>"
      ],
      "metadata": {
        "id": "XXzDHsndO70t"
      }
    },
    {
      "cell_type": "markdown",
      "source": [
        "**2. Make each dimension of the two arrays the same size.**<br>\n",
        "- If the sizes of each dimension of the two arrays do not match, dimensions with size 1 are stretched to the size of the other array.\n",
        "- If there is a dimension whose size is not 1 in either of the two arrays, it cannot be broadcasted, and an error is raised."
      ],
      "metadata": {
        "id": "M_ZI1gpEPdwi"
      }
    },
    {
      "cell_type": "markdown",
      "source": [
        "<img src = \"https://jakevdp.github.io/PythonDataScienceHandbook/figures/02.05-broadcasting.png\">"
      ],
      "metadata": {
        "id": "6YxVl8iZVLEh"
      }
    },
    {
      "cell_type": "code",
      "source": [
        "# More examples\n",
        "\n",
        "a = np.arange(12).reshape(4,3)\n",
        "b = np.arange(3)\n",
        "\n",
        "print(a)\n",
        "print(b)\n",
        "\n",
        "print(a+b)"
      ],
      "metadata": {
        "colab": {
          "base_uri": "https://localhost:8080/"
        },
        "id": "0WKia_sDRaNm",
        "outputId": "20e7fd8a-f8f5-4650-f3ef-8d014e8e7c27"
      },
      "execution_count": null,
      "outputs": [
        {
          "output_type": "stream",
          "name": "stdout",
          "text": [
            "[[ 0  1  2]\n",
            " [ 3  4  5]\n",
            " [ 6  7  8]\n",
            " [ 9 10 11]]\n",
            "[0 1 2]\n",
            "[[ 0  2  4]\n",
            " [ 3  5  7]\n",
            " [ 6  8 10]\n",
            " [ 9 11 13]]\n"
          ]
        }
      ]
    },
    {
      "cell_type": "code",
      "source": [
        "a = np.arange(12).reshape(3,4)\n",
        "b = np.arange(3)\n",
        "\n",
        "print(a)\n",
        "print(b)\n",
        "\n",
        "print(a+b)"
      ],
      "metadata": {
        "colab": {
          "base_uri": "https://localhost:8080/",
          "height": 277
        },
        "id": "SqtTHUngRhss",
        "outputId": "37a5dc7b-75b7-4cb3-9348-26197ccdf97c"
      },
      "execution_count": null,
      "outputs": [
        {
          "output_type": "stream",
          "name": "stdout",
          "text": [
            "[[ 0  1  2  3]\n",
            " [ 4  5  6  7]\n",
            " [ 8  9 10 11]]\n",
            "[0 1 2]\n"
          ]
        },
        {
          "output_type": "error",
          "ename": "ValueError",
          "evalue": "ignored",
          "traceback": [
            "\u001b[0;31m---------------------------------------------------------------------------\u001b[0m",
            "\u001b[0;31mValueError\u001b[0m                                Traceback (most recent call last)",
            "\u001b[0;32m<ipython-input-104-fa6cbb589166>\u001b[0m in \u001b[0;36m<module>\u001b[0;34m\u001b[0m\n\u001b[1;32m      5\u001b[0m \u001b[0mprint\u001b[0m\u001b[0;34m(\u001b[0m\u001b[0mb\u001b[0m\u001b[0;34m)\u001b[0m\u001b[0;34m\u001b[0m\u001b[0;34m\u001b[0m\u001b[0m\n\u001b[1;32m      6\u001b[0m \u001b[0;34m\u001b[0m\u001b[0m\n\u001b[0;32m----> 7\u001b[0;31m \u001b[0mprint\u001b[0m\u001b[0;34m(\u001b[0m\u001b[0ma\u001b[0m\u001b[0;34m+\u001b[0m\u001b[0mb\u001b[0m\u001b[0;34m)\u001b[0m\u001b[0;34m\u001b[0m\u001b[0;34m\u001b[0m\u001b[0m\n\u001b[0m",
            "\u001b[0;31mValueError\u001b[0m: operands could not be broadcast together with shapes (3,4) (3,) "
          ]
        }
      ]
    },
    {
      "cell_type": "code",
      "source": [
        "a = np.arange(3).reshape(1,3)\n",
        "b = np.arange(3).reshape(3,1)\n",
        "\n",
        "print(a)\n",
        "print(b)\n",
        "\n",
        "print(a+b)"
      ],
      "metadata": {
        "colab": {
          "base_uri": "https://localhost:8080/"
        },
        "id": "5hQ269ncQedR",
        "outputId": "b6f1ed7f-95da-4e52-cb8e-a58f41a34add"
      },
      "execution_count": null,
      "outputs": [
        {
          "output_type": "stream",
          "name": "stdout",
          "text": [
            "[[0 1 2]]\n",
            "[[0]\n",
            " [1]\n",
            " [2]]\n",
            "[[0 1 2]\n",
            " [1 2 3]\n",
            " [2 3 4]]\n"
          ]
        }
      ]
    },
    {
      "cell_type": "code",
      "source": [
        "a = np.arange(3).reshape(1,3)\n",
        "b = np.arange(4).reshape(4,1)\n",
        "\n",
        "print(a)\n",
        "print(b)\n",
        "\n",
        "print(a + b)"
      ],
      "metadata": {
        "colab": {
          "base_uri": "https://localhost:8080/"
        },
        "id": "sc4X7IQVRujU",
        "outputId": "97a1aad8-1827-4038-ea8d-1d4516359d36"
      },
      "execution_count": null,
      "outputs": [
        {
          "output_type": "stream",
          "name": "stdout",
          "text": [
            "[[0 1 2]]\n",
            "[[0]\n",
            " [1]\n",
            " [2]\n",
            " [3]]\n",
            "[[0 1 2]\n",
            " [1 2 3]\n",
            " [2 3 4]\n",
            " [3 4 5]]\n"
          ]
        }
      ]
    },
    {
      "cell_type": "code",
      "source": [
        "a = np.array([1])\n",
        "# shape -> (1,1)\n",
        "b = np.arange(4).reshape(2,2)\n",
        "# shape -> (2,2)\n",
        "\n",
        "print(a)\n",
        "print(b)\n",
        "\n",
        "print(a+b)"
      ],
      "metadata": {
        "colab": {
          "base_uri": "https://localhost:8080/"
        },
        "id": "v6EwwULkQuvs",
        "outputId": "48990123-6b83-414c-c42f-5f0b593a4967"
      },
      "execution_count": null,
      "outputs": [
        {
          "output_type": "stream",
          "name": "stdout",
          "text": [
            "[1]\n",
            "[[0 1]\n",
            " [2 3]]\n",
            "[[1 2]\n",
            " [3 4]]\n"
          ]
        }
      ]
    },
    {
      "cell_type": "code",
      "source": [
        "a = np.arange(12).reshape(3,4)\n",
        "b = np.arange(12).reshape(4,3)\n",
        "\n",
        "print(a)\n",
        "print(b)\n",
        "\n",
        "print(a+b)"
      ],
      "metadata": {
        "colab": {
          "base_uri": "https://localhost:8080/",
          "height": 330
        },
        "id": "nEgUi7tnRGI4",
        "outputId": "8de08148-7f3e-4a03-823c-0c4e157a556e"
      },
      "execution_count": null,
      "outputs": [
        {
          "output_type": "stream",
          "name": "stdout",
          "text": [
            "[[ 0  1  2  3]\n",
            " [ 4  5  6  7]\n",
            " [ 8  9 10 11]]\n",
            "[[ 0  1  2]\n",
            " [ 3  4  5]\n",
            " [ 6  7  8]\n",
            " [ 9 10 11]]\n"
          ]
        },
        {
          "output_type": "error",
          "ename": "ValueError",
          "evalue": "ignored",
          "traceback": [
            "\u001b[0;31m---------------------------------------------------------------------------\u001b[0m",
            "\u001b[0;31mValueError\u001b[0m                                Traceback (most recent call last)",
            "\u001b[0;32m<ipython-input-109-c590a65467e5>\u001b[0m in \u001b[0;36m<module>\u001b[0;34m\u001b[0m\n\u001b[1;32m      5\u001b[0m \u001b[0mprint\u001b[0m\u001b[0;34m(\u001b[0m\u001b[0mb\u001b[0m\u001b[0;34m)\u001b[0m\u001b[0;34m\u001b[0m\u001b[0;34m\u001b[0m\u001b[0m\n\u001b[1;32m      6\u001b[0m \u001b[0;34m\u001b[0m\u001b[0m\n\u001b[0;32m----> 7\u001b[0;31m \u001b[0mprint\u001b[0m\u001b[0;34m(\u001b[0m\u001b[0ma\u001b[0m\u001b[0;34m+\u001b[0m\u001b[0mb\u001b[0m\u001b[0;34m)\u001b[0m\u001b[0;34m\u001b[0m\u001b[0;34m\u001b[0m\u001b[0m\n\u001b[0m",
            "\u001b[0;31mValueError\u001b[0m: operands could not be broadcast together with shapes (3,4) (4,3) "
          ]
        }
      ]
    },
    {
      "cell_type": "code",
      "source": [
        "a = np.arange(16).reshape(4,4)\n",
        "b = np.arange(4).reshape(2,2)\n",
        "\n",
        "print(a)\n",
        "print(b)\n",
        "\n",
        "print(a+b)"
      ],
      "metadata": {
        "colab": {
          "base_uri": "https://localhost:8080/",
          "height": 312
        },
        "id": "kelF0GRBR3--",
        "outputId": "233ef62e-b775-4f00-c61d-dd9131067183"
      },
      "execution_count": null,
      "outputs": [
        {
          "output_type": "stream",
          "name": "stdout",
          "text": [
            "[[ 0  1  2  3]\n",
            " [ 4  5  6  7]\n",
            " [ 8  9 10 11]\n",
            " [12 13 14 15]]\n",
            "[[0 1]\n",
            " [2 3]]\n"
          ]
        },
        {
          "output_type": "error",
          "ename": "ValueError",
          "evalue": "ignored",
          "traceback": [
            "\u001b[0;31m---------------------------------------------------------------------------\u001b[0m",
            "\u001b[0;31mValueError\u001b[0m                                Traceback (most recent call last)",
            "\u001b[0;32m<ipython-input-110-57df50a0058a>\u001b[0m in \u001b[0;36m<module>\u001b[0;34m\u001b[0m\n\u001b[1;32m      5\u001b[0m \u001b[0mprint\u001b[0m\u001b[0;34m(\u001b[0m\u001b[0mb\u001b[0m\u001b[0;34m)\u001b[0m\u001b[0;34m\u001b[0m\u001b[0;34m\u001b[0m\u001b[0m\n\u001b[1;32m      6\u001b[0m \u001b[0;34m\u001b[0m\u001b[0m\n\u001b[0;32m----> 7\u001b[0;31m \u001b[0mprint\u001b[0m\u001b[0;34m(\u001b[0m\u001b[0ma\u001b[0m\u001b[0;34m+\u001b[0m\u001b[0mb\u001b[0m\u001b[0;34m)\u001b[0m\u001b[0;34m\u001b[0m\u001b[0;34m\u001b[0m\u001b[0m\n\u001b[0m",
            "\u001b[0;31mValueError\u001b[0m: operands could not be broadcast together with shapes (4,4) (2,2) "
          ]
        }
      ]
    },
    {
      "cell_type": "markdown",
      "source": [
        "### Working with mathematical formulas"
      ],
      "metadata": {
        "id": "UNqpEw03LSl6"
      }
    },
    {
      "cell_type": "code",
      "source": [
        "a = np.arange(10)\n",
        "np.sin(a)"
      ],
      "metadata": {
        "colab": {
          "base_uri": "https://localhost:8080/"
        },
        "id": "U01nMTh-N-h_",
        "outputId": "f78780bf-cea2-4234-f03f-38df6c36f812"
      },
      "execution_count": null,
      "outputs": [
        {
          "output_type": "execute_result",
          "data": {
            "text/plain": [
              "array([ 0.        ,  0.84147098,  0.90929743,  0.14112001, -0.7568025 ,\n",
              "       -0.95892427, -0.2794155 ,  0.6569866 ,  0.98935825,  0.41211849])"
            ]
          },
          "metadata": {},
          "execution_count": 114
        }
      ]
    },
    {
      "cell_type": "code",
      "source": [
        "# sigmoid\n",
        "\n",
        "def sigmoid(array):\n",
        "  return 1/(1 + np.exp(-(array)))\n",
        "\n",
        "\n",
        "a = np.arange(100)\n",
        "\n",
        "sigmoid(a)"
      ],
      "metadata": {
        "id": "Sf6T8s8VCZum",
        "colab": {
          "base_uri": "https://localhost:8080/"
        },
        "outputId": "976e4793-59c8-4590-bc57-5c3df210c1c3"
      },
      "execution_count": null,
      "outputs": [
        {
          "output_type": "execute_result",
          "data": {
            "text/plain": [
              "array([0.5       , 0.73105858, 0.88079708, 0.95257413, 0.98201379,\n",
              "       0.99330715, 0.99752738, 0.99908895, 0.99966465, 0.99987661,\n",
              "       0.9999546 , 0.9999833 , 0.99999386, 0.99999774, 0.99999917,\n",
              "       0.99999969, 0.99999989, 0.99999996, 0.99999998, 0.99999999,\n",
              "       1.        , 1.        , 1.        , 1.        , 1.        ,\n",
              "       1.        , 1.        , 1.        , 1.        , 1.        ,\n",
              "       1.        , 1.        , 1.        , 1.        , 1.        ,\n",
              "       1.        , 1.        , 1.        , 1.        , 1.        ,\n",
              "       1.        , 1.        , 1.        , 1.        , 1.        ,\n",
              "       1.        , 1.        , 1.        , 1.        , 1.        ,\n",
              "       1.        , 1.        , 1.        , 1.        , 1.        ,\n",
              "       1.        , 1.        , 1.        , 1.        , 1.        ,\n",
              "       1.        , 1.        , 1.        , 1.        , 1.        ,\n",
              "       1.        , 1.        , 1.        , 1.        , 1.        ,\n",
              "       1.        , 1.        , 1.        , 1.        , 1.        ,\n",
              "       1.        , 1.        , 1.        , 1.        , 1.        ,\n",
              "       1.        , 1.        , 1.        , 1.        , 1.        ,\n",
              "       1.        , 1.        , 1.        , 1.        , 1.        ,\n",
              "       1.        , 1.        , 1.        , 1.        , 1.        ,\n",
              "       1.        , 1.        , 1.        , 1.        , 1.        ])"
            ]
          },
          "metadata": {},
          "execution_count": 117
        }
      ]
    },
    {
      "cell_type": "code",
      "source": [
        "# mean squared error\n",
        "\n",
        "actual = np.random.randint(1,50,25)\n",
        "predicted = np.random.randint(1,50,25)"
      ],
      "metadata": {
        "id": "3jaule_JOcdc"
      },
      "execution_count": null,
      "outputs": []
    },
    {
      "cell_type": "code",
      "source": [
        "def mse(actual,predicted):\n",
        "  return np.mean((actual - predicted)**2)\n",
        "\n",
        "mse(actual,predicted)"
      ],
      "metadata": {
        "colab": {
          "base_uri": "https://localhost:8080/"
        },
        "id": "qfoOOAAUQzhY",
        "outputId": "25d8bc85-fc80-49ef-9e75-196a5a0ff0c5"
      },
      "execution_count": null,
      "outputs": [
        {
          "output_type": "execute_result",
          "data": {
            "text/plain": [
              "500.12"
            ]
          },
          "metadata": {},
          "execution_count": 122
        }
      ]
    },
    {
      "cell_type": "code",
      "source": [
        "# binary cross entropy\n",
        "np.mean((actual - predicted)**2)"
      ],
      "metadata": {
        "colab": {
          "base_uri": "https://localhost:8080/"
        },
        "id": "3O6WqXi-OdIO",
        "outputId": "5f32815f-893e-4654-9285-6ef9af6def5f"
      },
      "execution_count": null,
      "outputs": [
        {
          "output_type": "execute_result",
          "data": {
            "text/plain": [
              "500.12"
            ]
          },
          "metadata": {},
          "execution_count": 125
        }
      ]
    },
    {
      "cell_type": "code",
      "source": [
        "actual"
      ],
      "metadata": {
        "colab": {
          "base_uri": "https://localhost:8080/"
        },
        "id": "plXemGIXQfmR",
        "outputId": "de7b1bb0-b763-49ca-8b99-94d248f2a54d"
      },
      "execution_count": null,
      "outputs": [
        {
          "output_type": "execute_result",
          "data": {
            "text/plain": [
              "array([ 5,  3,  9,  7,  3, 36, 49, 28, 20, 40,  2, 23, 29, 18, 30, 23,  7,\n",
              "       40, 15, 11, 27, 44, 32, 28, 10])"
            ]
          },
          "metadata": {},
          "execution_count": 119
        }
      ]
    },
    {
      "cell_type": "markdown",
      "source": [
        "### Working with missing values"
      ],
      "metadata": {
        "id": "d9olU9IoLX8P"
      }
    },
    {
      "cell_type": "code",
      "source": [
        "# Working with missing values -> np.nan\n",
        "# nan and None are not same\n",
        "# nan is used for missing value\n",
        "\n",
        "a = np.array([1,2,3,4,np.nan,6])\n",
        "a"
      ],
      "metadata": {
        "id": "LhrsmaIfChjL",
        "colab": {
          "base_uri": "https://localhost:8080/"
        },
        "outputId": "7e2c55af-6e86-4dfb-adbb-1f6a0d62099e"
      },
      "execution_count": null,
      "outputs": [
        {
          "output_type": "execute_result",
          "data": {
            "text/plain": [
              "array([ 1.,  2.,  3.,  4., nan,  6.])"
            ]
          },
          "metadata": {},
          "execution_count": 126
        }
      ]
    },
    {
      "cell_type": "code",
      "source": [
        "a[~np.isnan(a)]"
      ],
      "metadata": {
        "colab": {
          "base_uri": "https://localhost:8080/"
        },
        "id": "dYI5z7g6S_TI",
        "outputId": "2238d623-f056-497c-844a-e38bd204821f"
      },
      "execution_count": null,
      "outputs": [
        {
          "output_type": "execute_result",
          "data": {
            "text/plain": [
              "array([1., 2., 3., 4., 6.])"
            ]
          },
          "metadata": {},
          "execution_count": 130
        }
      ]
    },
    {
      "cell_type": "markdown",
      "source": [
        "### Plotting Graphs"
      ],
      "metadata": {
        "id": "LdVWeHyeLdw5"
      }
    },
    {
      "cell_type": "code",
      "source": [
        "# plotting a 2D plot\n",
        "# x = y\n",
        "import matplotlib.pyplot as plt\n",
        "\n",
        "x = np.linspace(-10,10,100)\n",
        "y = x\n",
        "\n",
        "plt.plot(x,y)"
      ],
      "metadata": {
        "id": "2XjXkt9JCm9q",
        "colab": {
          "base_uri": "https://localhost:8080/",
          "height": 283
        },
        "outputId": "3cf8071a-7fc5-48be-ece4-2b7896fd8a63"
      },
      "execution_count": null,
      "outputs": [
        {
          "output_type": "execute_result",
          "data": {
            "text/plain": [
              "[<matplotlib.lines.Line2D at 0x7f6f78e18f70>]"
            ]
          },
          "metadata": {},
          "execution_count": 134
        },
        {
          "output_type": "display_data",
          "data": {
            "text/plain": [
              "<Figure size 432x288 with 1 Axes>"
            ],
            "image/png": "[encoded data removed]"
          },
          "metadata": {
            "needs_background": "light"
          }
        }
      ]
    },
    {
      "cell_type": "code",
      "source": [
        "# y = x^2\n",
        "x = np.linspace(-10,10,100)\n",
        "y = x**2\n",
        "\n",
        "plt.plot(x,y)"
      ],
      "metadata": {
        "colab": {
          "base_uri": "https://localhost:8080/",
          "height": 283
        },
        "id": "SyYCKM--V7Uw",
        "outputId": "ef8c3245-56e0-4210-e4d3-4f4f784f39ab"
      },
      "execution_count": null,
      "outputs": [
        {
          "output_type": "execute_result",
          "data": {
            "text/plain": [
              "[<matplotlib.lines.Line2D at 0x7f6f87acf100>]"
            ]
          },
          "metadata": {},
          "execution_count": 135
        },
        {
          "output_type": "display_data",
          "data": {
            "text/plain": [
              "<Figure size 432x288 with 1 Axes>"
            ],
            "image/png": "[encoded data removed]"
          },
          "metadata": {
            "needs_background": "light"
          }
        }
      ]
    },
    {
      "cell_type": "code",
      "source": [
        "# y = sin(x)\n",
        "x = np.linspace(-10,10,100)\n",
        "y = np.sin(x)\n",
        "\n",
        "plt.plot(x,y)"
      ],
      "metadata": {
        "colab": {
          "base_uri": "https://localhost:8080/",
          "height": 283
        },
        "id": "lG-QRoWdWHxp",
        "outputId": "11b66200-e2f0-4d23-8b42-02b9d8573e4a"
      },
      "execution_count": null,
      "outputs": [
        {
          "output_type": "execute_result",
          "data": {
            "text/plain": [
              "[<matplotlib.lines.Line2D at 0x7f6f5d1d0100>]"
            ]
          },
          "metadata": {},
          "execution_count": 136
        },
        {
          "output_type": "display_data",
          "data": {
            "text/plain": [
              "<Figure size 432x288 with 1 Axes>"
            ],
            "image/png": "[encoded data removed]"
          },
          "metadata": {
            "needs_background": "light"
          }
        }
      ]
    },
    {
      "cell_type": "code",
      "source": [
        "# y = xlog(x)\n",
        "x = np.linspace(-10,10,100)\n",
        "y = x * np.log(x)\n",
        "\n",
        "plt.plot(x,y)"
      ],
      "metadata": {
        "colab": {
          "base_uri": "https://localhost:8080/",
          "height": 319
        },
        "id": "EpuzrF8YWUqD",
        "outputId": "3e61f24d-a9f9-4d28-a303-3ff9390899cb"
      },
      "execution_count": null,
      "outputs": [
        {
          "output_type": "stream",
          "name": "stderr",
          "text": [
            "<ipython-input-137-4b3958c08378>:3: RuntimeWarning: invalid value encountered in log\n",
            "  y = x * np.log(x)\n"
          ]
        },
        {
          "output_type": "execute_result",
          "data": {
            "text/plain": [
              "[<matplotlib.lines.Line2D at 0x7f6f57ab62e0>]"
            ]
          },
          "metadata": {},
          "execution_count": 137
        },
        {
          "output_type": "display_data",
          "data": {
            "text/plain": [
              "<Figure size 432x288 with 1 Axes>"
            ],
            "image/png": "[encoded data removed]"
          },
          "metadata": {
            "needs_background": "light"
          }
        }
      ]
    },
    {
      "cell_type": "code",
      "source": [
        "# sigmoid\n",
        "x = np.linspace(-10,10,100)\n",
        "y = 1/(1+np.exp(-x))\n",
        "\n",
        "plt.plot(x,y)"
      ],
      "metadata": {
        "colab": {
          "base_uri": "https://localhost:8080/",
          "height": 283
        },
        "id": "LidUuDKVW5De",
        "outputId": "651766f0-8f17-4b64-d436-1aca8ad7ee73"
      },
      "execution_count": null,
      "outputs": [
        {
          "output_type": "execute_result",
          "data": {
            "text/plain": [
              "[<matplotlib.lines.Line2D at 0x7f6f5401e100>]"
            ]
          },
          "metadata": {},
          "execution_count": 138
        },
        {
          "output_type": "display_data",
          "data": {
            "text/plain": [
              "<Figure size 432x288 with 1 Axes>"
            ],
            "image/png": "[encoded data removed]"
          },
          "metadata": {
            "needs_background": "light"
          }
        }
      ]
    },
    {
      "cell_type": "markdown",
      "source": [
        "### Meshgrids"
      ],
      "metadata": {
        "id": "1sw0TeY7LiGK"
      }
    },
    {
      "cell_type": "markdown",
      "source": [
        "# 🔹 What is a Meshgrid?\n",
        "\n",
        "👉 A **meshgrid** takes **two 1D arrays (x, y)** and produces **two 2D grids (X, Y)** that represent all coordinate pairs in the plane.\n",
        "\n",
        "* `X` → repeats `x` values across rows.\n",
        "* `Y` → repeats `y` values across columns."
      ],
      "metadata": {
        "id": "8F4XLp-3eGJX"
      }
    },
    {
      "cell_type": "code",
      "source": [
        "# 🔹 Example\n",
        "\n",
        "x = np.array([1, 2, 3])   # x-coordinates\n",
        "y = np.array([10, 20])    # y-coordinates\n",
        "\n",
        "X, Y = np.meshgrid(x, y)\n",
        "\n",
        "print(\"X:\\n\", X)\n",
        "print(\"Y:\\n\", Y)"
      ],
      "metadata": {
        "id": "SFUA-QTXeUTy",
        "outputId": "0eba4c7a-b12c-4ee4-a46d-e64544b3e6bb",
        "colab": {
          "base_uri": "https://localhost:8080/"
        }
      },
      "execution_count": 5,
      "outputs": [
        {
          "output_type": "stream",
          "name": "stdout",
          "text": [
            "X:\n",
            " [[1 2 3]\n",
            " [1 2 3]]\n",
            "Y:\n",
            " [[10 10 10]\n",
            " [20 20 20]]\n"
          ]
        }
      ]
    },
    {
      "cell_type": "markdown",
      "source": [
        "👉 Interpretation:\n",
        "\n",
        "Points generated are: (1,10), (2,10), (3,10), (1,20), (2,20), (3,20)"
      ],
      "metadata": {
        "id": "5DvzUjgefCRp"
      }
    },
    {
      "cell_type": "markdown",
      "source": [
        "# 🔹 Why use Meshgrids?\n",
        "\n",
        "They’re useful for:\n",
        "\n",
        "* Plotting 2D/3D functions.\n",
        "* Contour plots, surface plots.\n",
        "* Creating coordinate systems for simulations."
      ],
      "metadata": {
        "id": "RfOxBCpvfJxK"
      }
    },
    {
      "cell_type": "code",
      "source": [
        "# 🔹 Example: Function on Meshgrid\n",
        "\n",
        "import numpy as np\n",
        "\n",
        "x = np.linspace(-2, 2, 5)   # [-2, -1, 0, 1, 2]\n",
        "y = np.linspace(-2, 2, 5)\n",
        "\n",
        "X, Y = np.meshgrid(x, y)\n",
        "\n",
        "Z = X**2 + Y**2   # function: x² + y²\n",
        "\n",
        "print(\"Z:\\n\", Z)\n",
        "\n",
        "# ✅ `Z` holds values of function at each grid point.\n"
      ],
      "metadata": {
        "id": "xb0424yifYHE",
        "outputId": "6839fa21-16e3-4d9a-dfad-7f48016c93c0",
        "colab": {
          "base_uri": "https://localhost:8080/"
        }
      },
      "execution_count": 6,
      "outputs": [
        {
          "output_type": "stream",
          "name": "stdout",
          "text": [
            "Z:\n",
            " [[8. 5. 4. 5. 8.]\n",
            " [5. 2. 1. 2. 5.]\n",
            " [4. 1. 0. 1. 4.]\n",
            " [5. 2. 1. 2. 5.]\n",
            " [8. 5. 4. 5. 8.]]\n"
          ]
        }
      ]
    },
    {
      "cell_type": "code",
      "source": [
        "#  🔹 Visualization Example\n",
        "\n",
        "import matplotlib.pyplot as plt\n",
        "\n",
        "x = np.linspace(-3, 3, 100)\n",
        "y = np.linspace(-3, 3, 100)\n",
        "X, Y = np.meshgrid(x, y)\n",
        "\n",
        "Z = np.sin(np.sqrt(X**2 + Y**2))\n",
        "\n",
        "plt.contourf(X, Y, Z, cmap=\"viridis\")\n",
        "plt.colorbar()\n",
        "plt.show()\n",
        "\n",
        "# 👉 This makes a **2D heatmap** of the function."
      ],
      "metadata": {
        "id": "cB1eXva-fdWy",
        "outputId": "25bb9b53-e8fe-45e9-8671-9dca21a8e2fe",
        "colab": {
          "base_uri": "https://localhost:8080/",
          "height": 435
        }
      },
      "execution_count": 7,
      "outputs": [
        {
          "output_type": "display_data",
          "data": {
            "text/plain": [
              "<Figure size 640x480 with 2 Axes>"
            ],
            "image/png": "[encoded data removed]"
          },
          "metadata": {}
        }
      ]
    },
    {
      "cell_type": "code",
      "source": [
        "# Meshgrids"
      ],
      "metadata": {
        "id": "xQP6c_ISE75r"
      },
      "execution_count": null,
      "outputs": []
    },
    {
      "cell_type": "markdown",
      "source": [
        "#  Quick Summary\n",
        "\n",
        "---\n",
        "\n",
        "# 🔹 1. NumPy Array vs Python List\n",
        "\n",
        "| Feature         | **Python List**                                             | **NumPy Array**                                                   |\n",
        "| --------------- | ----------------------------------------------------------- | ----------------------------------------------------------------- |\n",
        "| **Type**        | General-purpose container (can store different data types). | Homogeneous (all elements must be of same type, usually numbers). |\n",
        "| **Performance** | Slower (no fixed type, extra checks).                       | Faster (uses C backend, contiguous memory).                       |\n",
        "| **Operations**  | Element-wise operations need loops.                         | Vectorized operations (e.g. `a+b` works directly).                |\n",
        "| **Memory**      | More memory.                                                | Less memory (compact).                                            |\n",
        "| **Functions**   | Limited math functions.                                     | Rich set of mathematical/statistical functions.                   |\n",
        "\n",
        "### Example:\n",
        "\n",
        "```python\n",
        "import numpy as np\n",
        "\n",
        "# Python list\n",
        "lst = [1, 2, 3, 4]\n",
        "print([x*2 for x in lst])   # [2, 4, 6, 8]\n",
        "\n",
        "# NumPy array\n",
        "arr = np.array([1, 2, 3, 4])\n",
        "print(arr * 2)              # [2 4 6 8]\n",
        "```\n",
        "\n",
        "👉 NumPy avoids loops → **much faster**.\n",
        "\n",
        "---\n",
        "\n",
        "# 🔹 2. Advanced Indexing\n",
        "\n",
        "NumPy arrays allow powerful ways of selecting elements beyond just `[i][j]`.\n",
        "\n",
        "### (a) Slicing (like Python, but more powerful)\n",
        "\n",
        "```python\n",
        "arr = np.array([10, 20, 30, 40, 50])\n",
        "print(arr[1:4])    # [20 30 40]\n",
        "print(arr[::-1])   # [50 40 30 20 10] (reverse)\n",
        "```\n",
        "\n",
        "### (b) Boolean Indexing\n",
        "\n",
        "Select elements based on conditions.\n",
        "\n",
        "```python\n",
        "arr = np.array([1, 2, 3, 4, 5])\n",
        "print(arr[arr > 2])   # [3 4 5]\n",
        "```\n",
        "\n",
        "---\n",
        "\n",
        "# 🔹 3. Fancy Indexing\n",
        "\n",
        "👉 Fancy indexing = selecting multiple elements using lists/arrays of indices.\n",
        "\n",
        "### Example:\n",
        "\n",
        "```python\n",
        "arr = np.array([10, 20, 30, 40, 50])\n",
        "indices = [0, 2, 4]\n",
        "print(arr[indices])   # [10 30 50]\n",
        "```\n",
        "\n",
        "### 2D Fancy Indexing\n",
        "\n",
        "```python\n",
        "arr2d = np.array([[1, 2, 3],\n",
        "                  [4, 5, 6],\n",
        "                  [7, 8, 9]])\n",
        "\n",
        "print(arr2d[[0, 2], [1, 2]])  \n",
        "# Picks (0,1)=2 and (2,2)=9 → [2 9]\n",
        "```\n",
        "\n",
        "---\n",
        "\n",
        "# 🔹 4. Broadcasting\n",
        "\n",
        "👉 **Broadcasting** = NumPy’s ability to perform operations on arrays of different shapes **without copying data**.\n",
        "\n",
        "Rules:\n",
        "\n",
        "* Compare shapes from **right to left**.\n",
        "* If dimensions are equal OR one of them is `1`, they are compatible.\n",
        "\n",
        "Example:\n",
        "\n",
        "```python\n",
        "import numpy as np\n",
        "\n",
        "a = np.array([1, 2, 3])\n",
        "b = 2   # scalar\n",
        "\n",
        "print(a + b)   # [3 4 5]  (scalar b is broadcasted)\n",
        "```\n",
        "\n",
        "Matrix example:\n",
        "\n",
        "```python\n",
        "A = np.array([[1, 2, 3],\n",
        "              [4, 5, 6]])\n",
        "b = np.array([10, 20, 30])\n",
        "\n",
        "print(A + b)\n",
        "```\n",
        "\n",
        "✅ Output:\n",
        "\n",
        "```\n",
        "[[11 22 33]\n",
        " [14 25 36]]\n",
        "```\n",
        "\n",
        "👉 Row `b` is **broadcasted** to match A’s shape.\n",
        "\n",
        "---\n",
        "\n",
        "# 🔹 5. Sigmoid Function\n",
        "\n",
        "👉 Sigmoid squashes any number into range `(0,1)` → often used in ML for probabilities.\n",
        "\n",
        "Formula:\n",
        "[\n",
        "\\sigma(x) = \\frac{1}{1 + e^{-x}}\n",
        "]\n",
        "\n",
        "Example in NumPy:\n",
        "\n",
        "```python\n",
        "def sigmoid(x):\n",
        "    return 1 / (1 + np.exp(-x))\n",
        "\n",
        "x = np.array([-2, -1, 0, 1, 2])\n",
        "print(sigmoid(x))\n",
        "```\n",
        "\n",
        "✅ Output:\n",
        "\n",
        "```\n",
        "[0.119 0.269 0.5 0.731 0.881]\n",
        "```\n",
        "\n",
        "---\n",
        "\n",
        "# 🔹 6. Mean Squared Error (MSE)\n",
        "\n",
        "👉 Measures error between predicted values (`y_pred`) and actual values (`y_true`).\n",
        "\n",
        "Formula:\n",
        "[\n",
        "MSE = \\frac{1}{n} \\sum (y_{true} - y_{pred})^2\n",
        "]\n",
        "\n",
        "Example:\n",
        "\n",
        "```python\n",
        "y_true = np.array([1, 2, 3])\n",
        "y_pred = np.array([1.1, 1.9, 3.2])\n",
        "\n",
        "mse = np.mean((y_true - y_pred) ** 2)\n",
        "print(\"MSE:\", mse)\n",
        "```\n",
        "\n",
        "✅ Output:\n",
        "\n",
        "```\n",
        "MSE: 0.02\n",
        "```\n",
        "\n",
        "---\n",
        "\n",
        "# 🔹 7. Binary Cross Entropy (BCE)\n",
        "\n",
        "👉 Used as loss function in binary classification (logistic regression, neural nets).\n",
        "\n",
        "Formula:\n",
        "[\n",
        "BCE = - \\frac{1}{n} \\sum \\big[ y \\cdot \\log(p) + (1-y) \\cdot \\log(1-p) \\big]\n",
        "]\n",
        "\n",
        "* `y` = true labels (0 or 1)\n",
        "* `p` = predicted probabilities (between 0 and 1)\n",
        "\n",
        "Example:\n",
        "\n",
        "```python\n",
        "y_true = np.array([1, 0, 1, 0])            # true labels\n",
        "y_pred = np.array([0.9, 0.1, 0.8, 0.3])    # predicted probs\n",
        "\n",
        "bce = -np.mean(y_true * np.log(y_pred) + (1 - y_true) * np.log(1 - y_pred))\n",
        "print(\"Binary Cross Entropy:\", bce)\n",
        "```\n",
        "\n",
        "✅ Output:\n",
        "\n",
        "```\n",
        "Binary Cross Entropy: 0.164...\n",
        "```\n",
        "\n",
        "---\n",
        "\n",
        "# ✅ Quick Summary\n",
        "\n",
        "* **Broadcasting** → NumPy automatically expands shapes.\n",
        "* **Sigmoid** → squashes values to `(0,1)` (probabilities).\n",
        "* **MSE** → average squared error between predictions and labels.\n",
        "* **BCE** → loss for binary classification.\n",
        "* **meshgrid** = creates coordinate grid from x and y.\n",
        "* Useful for evaluating functions over a grid → especially in plots and ML visualizations.\n",
        "\n",
        "---\n"
      ],
      "metadata": {
        "id": "m2WsIL8hLUF0"
      }
    }
  ]
}