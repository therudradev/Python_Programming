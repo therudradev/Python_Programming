{
  "cells": [
    {
      "cell_type": "markdown",
      "metadata": {
        "id": "view-in-github",
        "colab_type": "text"
      },
      "source": [
        "<a href=\"https://colab.research.google.com/github/therudradev/Python_Programming/blob/main/Iterators.ipynb\" target=\"_parent\"><img src=\"https://colab.research.google.com/assets/colab-badge.svg\" alt=\"Open In Colab\"/></a>"
      ]
    },
    {
      "cell_type": "markdown",
      "id": "2d9e8884",
      "metadata": {
        "id": "2d9e8884"
      },
      "source": [
        "## What is an Iteration\n",
        "\n",
        "Iteration is a general term for taking each item of something, one after another. Any time you use a loop, explicit or implicit, to go over a group of items, that is iteration."
      ]
    },
    {
      "cell_type": "code",
      "execution_count": null,
      "id": "26fadf7e",
      "metadata": {
        "id": "26fadf7e",
        "outputId": "cc40cce2-5638-418c-8353-9cc2d1bdb57b"
      },
      "outputs": [
        {
          "name": "stdout",
          "output_type": "stream",
          "text": [
            "1\n",
            "2\n",
            "3\n"
          ]
        }
      ],
      "source": [
        "# Example\n",
        "num = [1,2,3]\n",
        "\n",
        "for i in num:\n",
        "    print(i)"
      ]
    },
    {
      "cell_type": "markdown",
      "id": "c7ea3a1a",
      "metadata": {
        "id": "c7ea3a1a"
      },
      "source": [
        "## What is Iterator\n",
        "\n",
        "An Iterator is an object that allows the programmer to traverse through a sequence of data without having to store the entire data in the memory"
      ]
    },
    {
      "cell_type": "code",
      "execution_count": null,
      "id": "ff765a6c",
      "metadata": {
        "id": "ff765a6c",
        "outputId": "29af6bea-55e7-4f37-e911-cf65ad9d200f"
      },
      "outputs": [
        {
          "name": "stdout",
          "output_type": "stream",
          "text": [
            "1369.0\n",
            "0.75\n"
          ]
        }
      ],
      "source": [
        "# Example\n",
        "L = [x for x in range(1,10000)]\n",
        "\n",
        "#for i in L:\n",
        "    #print(i*2)\n",
        "\n",
        "import sys\n",
        "\n",
        "print(sys.getsizeof(L)/64)\n",
        "\n",
        "x = range(1,10000000000)\n",
        "\n",
        "#for i in x:\n",
        "    #print(i*2)\n",
        "\n",
        "print(sys.getsizeof(x)/64)\n",
        "\n"
      ]
    },
    {
      "cell_type": "markdown",
      "id": "99fff65f",
      "metadata": {
        "id": "99fff65f"
      },
      "source": [
        "## What is Iterable\n",
        "Iterable is an object, which one can iterate over\n",
        "\n",
        " It generates an Iterator when passed to iter() method."
      ]
    },
    {
      "cell_type": "code",
      "execution_count": null,
      "id": "77650fa6",
      "metadata": {
        "id": "77650fa6",
        "outputId": "73b24e5b-4421-4e1b-bfb0-83ef28a90307"
      },
      "outputs": [
        {
          "data": {
            "text/plain": [
              "list_iterator"
            ]
          },
          "execution_count": 32,
          "metadata": {},
          "output_type": "execute_result"
        }
      ],
      "source": [
        "# Example\n",
        "\n",
        "L = [1,2,3]\n",
        "type(L)\n",
        "\n",
        "\n",
        "# L is an iterable\n",
        "type(iter(L))\n",
        "\n",
        "# iter(L) --> iterator"
      ]
    },
    {
      "cell_type": "markdown",
      "id": "f9482d80",
      "metadata": {
        "id": "f9482d80"
      },
      "source": [
        "## Point to remember\n",
        "\n",
        "- Every **Iterator** is also and **Iterable**\n",
        "- Not all **Iterables** are **Iterators**"
      ]
    },
    {
      "cell_type": "markdown",
      "id": "9c4c52a7",
      "metadata": {
        "id": "9c4c52a7"
      },
      "source": [
        "## Trick\n",
        "- Every Iterable has an **iter function**\n",
        "- Every Iterator has both **iter function** as well as a **next function**"
      ]
    },
    {
      "cell_type": "code",
      "execution_count": null,
      "id": "802be65a",
      "metadata": {
        "id": "802be65a",
        "outputId": "c501a52c-2ce9-4584-e16c-321ef8fa5af0"
      },
      "outputs": [
        {
          "data": {
            "text/plain": [
              "['__abs__',\n",
              " '__add__',\n",
              " '__and__',\n",
              " '__bool__',\n",
              " '__ceil__',\n",
              " '__class__',\n",
              " '__delattr__',\n",
              " '__dir__',\n",
              " '__divmod__',\n",
              " '__doc__',\n",
              " '__eq__',\n",
              " '__float__',\n",
              " '__floor__',\n",
              " '__floordiv__',\n",
              " '__format__',\n",
              " '__ge__',\n",
              " '__getattribute__',\n",
              " '__getnewargs__',\n",
              " '__gt__',\n",
              " '__hash__',\n",
              " '__index__',\n",
              " '__init__',\n",
              " '__init_subclass__',\n",
              " '__int__',\n",
              " '__invert__',\n",
              " '__le__',\n",
              " '__lshift__',\n",
              " '__lt__',\n",
              " '__mod__',\n",
              " '__mul__',\n",
              " '__ne__',\n",
              " '__neg__',\n",
              " '__new__',\n",
              " '__or__',\n",
              " '__pos__',\n",
              " '__pow__',\n",
              " '__radd__',\n",
              " '__rand__',\n",
              " '__rdivmod__',\n",
              " '__reduce__',\n",
              " '__reduce_ex__',\n",
              " '__repr__',\n",
              " '__rfloordiv__',\n",
              " '__rlshift__',\n",
              " '__rmod__',\n",
              " '__rmul__',\n",
              " '__ror__',\n",
              " '__round__',\n",
              " '__rpow__',\n",
              " '__rrshift__',\n",
              " '__rshift__',\n",
              " '__rsub__',\n",
              " '__rtruediv__',\n",
              " '__rxor__',\n",
              " '__setattr__',\n",
              " '__sizeof__',\n",
              " '__str__',\n",
              " '__sub__',\n",
              " '__subclasshook__',\n",
              " '__truediv__',\n",
              " '__trunc__',\n",
              " '__xor__',\n",
              " 'as_integer_ratio',\n",
              " 'bit_length',\n",
              " 'conjugate',\n",
              " 'denominator',\n",
              " 'from_bytes',\n",
              " 'imag',\n",
              " 'numerator',\n",
              " 'real',\n",
              " 'to_bytes']"
            ]
          },
          "execution_count": 35,
          "metadata": {},
          "output_type": "execute_result"
        }
      ],
      "source": [
        "a = 2\n",
        "a\n",
        "\n",
        "#for i in a:\n",
        "    #print(i)\n",
        "\n",
        "dir(a)"
      ]
    },
    {
      "cell_type": "code",
      "execution_count": null,
      "id": "2daf8b0a",
      "metadata": {
        "id": "2daf8b0a",
        "outputId": "f154545a-7cf3-44e4-9ff4-4211a48728e8"
      },
      "outputs": [
        {
          "data": {
            "text/plain": [
              "['__class__',\n",
              " '__contains__',\n",
              " '__delattr__',\n",
              " '__delitem__',\n",
              " '__dir__',\n",
              " '__doc__',\n",
              " '__eq__',\n",
              " '__format__',\n",
              " '__ge__',\n",
              " '__getattribute__',\n",
              " '__getitem__',\n",
              " '__gt__',\n",
              " '__hash__',\n",
              " '__init__',\n",
              " '__init_subclass__',\n",
              " '__iter__',\n",
              " '__le__',\n",
              " '__len__',\n",
              " '__lt__',\n",
              " '__ne__',\n",
              " '__new__',\n",
              " '__reduce__',\n",
              " '__reduce_ex__',\n",
              " '__repr__',\n",
              " '__reversed__',\n",
              " '__setattr__',\n",
              " '__setitem__',\n",
              " '__sizeof__',\n",
              " '__str__',\n",
              " '__subclasshook__',\n",
              " 'clear',\n",
              " 'copy',\n",
              " 'fromkeys',\n",
              " 'get',\n",
              " 'items',\n",
              " 'keys',\n",
              " 'pop',\n",
              " 'popitem',\n",
              " 'setdefault',\n",
              " 'update',\n",
              " 'values']"
            ]
          },
          "execution_count": 38,
          "metadata": {},
          "output_type": "execute_result"
        }
      ],
      "source": [
        "T = {1:2,3:4}\n",
        "dir(T)"
      ]
    },
    {
      "cell_type": "code",
      "execution_count": null,
      "id": "7468f8bf",
      "metadata": {
        "id": "7468f8bf",
        "outputId": "a72411f6-49b8-486e-ddf5-39ab47fc7cdb"
      },
      "outputs": [
        {
          "data": {
            "text/plain": [
              "['__class__',\n",
              " '__delattr__',\n",
              " '__dir__',\n",
              " '__doc__',\n",
              " '__eq__',\n",
              " '__format__',\n",
              " '__ge__',\n",
              " '__getattribute__',\n",
              " '__gt__',\n",
              " '__hash__',\n",
              " '__init__',\n",
              " '__init_subclass__',\n",
              " '__iter__',\n",
              " '__le__',\n",
              " '__length_hint__',\n",
              " '__lt__',\n",
              " '__ne__',\n",
              " '__new__',\n",
              " '__next__',\n",
              " '__reduce__',\n",
              " '__reduce_ex__',\n",
              " '__repr__',\n",
              " '__setattr__',\n",
              " '__setstate__',\n",
              " '__sizeof__',\n",
              " '__str__',\n",
              " '__subclasshook__']"
            ]
          },
          "execution_count": 41,
          "metadata": {},
          "output_type": "execute_result"
        }
      ],
      "source": [
        "L = [1,2,3]\n",
        "\n",
        "# L is not an iterator\n",
        "iter_L = iter(L)\n",
        "\n",
        "# iter_L is an iterator"
      ]
    },
    {
      "cell_type": "markdown",
      "id": "5f02c4b7",
      "metadata": {
        "id": "5f02c4b7"
      },
      "source": [
        "## Understanding how for loop works"
      ]
    },
    {
      "cell_type": "code",
      "execution_count": null,
      "id": "8b518b08",
      "metadata": {
        "id": "8b518b08",
        "outputId": "91f8ff55-4f5a-4c05-ebf0-6aa0dee2e2e3"
      },
      "outputs": [
        {
          "name": "stdout",
          "output_type": "stream",
          "text": [
            "1\n",
            "2\n",
            "3\n"
          ]
        }
      ],
      "source": [
        "num = [1,2,3]\n",
        "\n",
        "for i in num:\n",
        "    print(i)"
      ]
    },
    {
      "cell_type": "code",
      "execution_count": null,
      "id": "bfb4f98d",
      "metadata": {
        "id": "bfb4f98d",
        "outputId": "53595099-3f65-4c6f-8ed1-6c906be90add"
      },
      "outputs": [
        {
          "ename": "StopIteration",
          "evalue": "",
          "output_type": "error",
          "traceback": [
            "\u001b[1;31m---------------------------------------------------------------------------\u001b[0m",
            "\u001b[1;31mStopIteration\u001b[0m                             Traceback (most recent call last)",
            "\u001b[1;32m<ipython-input-47-0793ebf651f8>\u001b[0m in \u001b[0;36m<module>\u001b[1;34m\u001b[0m\n\u001b[0;32m      8\u001b[0m \u001b[0mnext\u001b[0m\u001b[1;33m(\u001b[0m\u001b[0miter_num\u001b[0m\u001b[1;33m)\u001b[0m\u001b[1;33m\u001b[0m\u001b[1;33m\u001b[0m\u001b[0m\n\u001b[0;32m      9\u001b[0m \u001b[0mnext\u001b[0m\u001b[1;33m(\u001b[0m\u001b[0miter_num\u001b[0m\u001b[1;33m)\u001b[0m\u001b[1;33m\u001b[0m\u001b[1;33m\u001b[0m\u001b[0m\n\u001b[1;32m---> 10\u001b[1;33m \u001b[0mnext\u001b[0m\u001b[1;33m(\u001b[0m\u001b[0miter_num\u001b[0m\u001b[1;33m)\u001b[0m\u001b[1;33m\u001b[0m\u001b[1;33m\u001b[0m\u001b[0m\n\u001b[0m",
            "\u001b[1;31mStopIteration\u001b[0m: "
          ]
        }
      ],
      "source": [
        "num = [1,2,3]\n",
        "\n",
        "# fetch the iterator\n",
        "iter_num = iter(num)\n",
        "\n",
        "# step2 --> next\n",
        "next(iter_num)\n",
        "next(iter_num)\n",
        "next(iter_num)\n",
        "next(iter_num)"
      ]
    },
    {
      "cell_type": "markdown",
      "id": "e35d6e87",
      "metadata": {
        "id": "e35d6e87"
      },
      "source": [
        "## Making our own for loop"
      ]
    },
    {
      "cell_type": "code",
      "execution_count": null,
      "id": "7822da8e",
      "metadata": {
        "id": "7822da8e"
      },
      "outputs": [],
      "source": [
        "def mera_khudka_for_loop(iterable):\n",
        "\n",
        "    iterator = iter(iterable)\n",
        "\n",
        "    while True:\n",
        "\n",
        "        try:\n",
        "            print(next(iterator))\n",
        "        except StopIteration:\n",
        "            break"
      ]
    },
    {
      "cell_type": "code",
      "execution_count": null,
      "id": "68a428be",
      "metadata": {
        "id": "68a428be",
        "outputId": "09c7e9ff-b7a1-49b2-ef4b-a3a31e9f45b7"
      },
      "outputs": [
        {
          "name": "stdout",
          "output_type": "stream",
          "text": [
            "0\n",
            "1\n"
          ]
        }
      ],
      "source": [
        "a = [1,2,3]\n",
        "b = range(1,11)\n",
        "c = (1,2,3)\n",
        "d = {1,2,3}\n",
        "e = {0:1,1:1}\n",
        "\n",
        "mera_khudka_for_loop(e)"
      ]
    },
    {
      "cell_type": "markdown",
      "id": "81a3e616",
      "metadata": {
        "id": "81a3e616"
      },
      "source": [
        "## A confusing point"
      ]
    },
    {
      "cell_type": "code",
      "execution_count": null,
      "id": "269d3c83",
      "metadata": {
        "id": "269d3c83",
        "outputId": "d8396284-998c-4558-dd51-11a08965f12f"
      },
      "outputs": [
        {
          "name": "stdout",
          "output_type": "stream",
          "text": [
            "2280889893936 Address of iterator 1\n",
            "2280889893936 Address of iterator 2\n"
          ]
        }
      ],
      "source": [
        "num = [1,2,3]\n",
        "iter_obj = iter(num)\n",
        "\n",
        "print(id(iter_obj),'Address of iterator 1')\n",
        "\n",
        "iter_obj2 = iter(iter_obj)\n",
        "print(id(iter_obj2),'Address of iterator 2')"
      ]
    },
    {
      "cell_type": "markdown",
      "id": "051af6bc",
      "metadata": {
        "id": "051af6bc"
      },
      "source": [
        "## Let's create our own range() function"
      ]
    },
    {
      "cell_type": "code",
      "execution_count": null,
      "id": "7eaf1228",
      "metadata": {
        "id": "7eaf1228"
      },
      "outputs": [],
      "source": [
        "class mera_range:\n",
        "\n",
        "    def __init__(self,start,end):\n",
        "        self.start = start\n",
        "        self.end = end\n",
        "\n",
        "    def __iter__(self):\n",
        "        return mera_range_iterator(self)"
      ]
    },
    {
      "cell_type": "code",
      "execution_count": null,
      "id": "28118f2d",
      "metadata": {
        "id": "28118f2d"
      },
      "outputs": [],
      "source": [
        "class mera_range_iterator:\n",
        "\n",
        "    def __init__(self,iterable_obj):\n",
        "        self.iterable = iterable_obj\n",
        "\n",
        "    def __iter__(self):\n",
        "        return self\n",
        "\n",
        "    def __next__(self):\n",
        "\n",
        "        if self.iterable.start >= self.iterable.end:\n",
        "            raise StopIteration\n",
        "\n",
        "        current = self.iterable.start\n",
        "        self.iterable.start+=1\n",
        "        return current"
      ]
    },
    {
      "cell_type": "code",
      "execution_count": null,
      "id": "142c0b98",
      "metadata": {
        "id": "142c0b98"
      },
      "outputs": [],
      "source": [
        "x = mera_range(1,11)"
      ]
    },
    {
      "cell_type": "code",
      "execution_count": null,
      "id": "5aaaeeb3",
      "metadata": {
        "id": "5aaaeeb3",
        "outputId": "18abc1a1-7481-4dae-f32e-6c917eea692e"
      },
      "outputs": [
        {
          "data": {
            "text/plain": [
              "__main__.mera_range"
            ]
          },
          "execution_count": 71,
          "metadata": {},
          "output_type": "execute_result"
        }
      ],
      "source": [
        "type(x)"
      ]
    },
    {
      "cell_type": "code",
      "execution_count": null,
      "id": "8e742864",
      "metadata": {
        "id": "8e742864",
        "outputId": "baa2778c-ce91-4766-af5e-6fc91bb40abd"
      },
      "outputs": [
        {
          "data": {
            "text/plain": [
              "<__main__.mera_range_iterator at 0x2130fd362b0>"
            ]
          },
          "execution_count": 72,
          "metadata": {},
          "output_type": "execute_result"
        }
      ],
      "source": [
        "iter(x)"
      ]
    },
    {
      "cell_type": "code",
      "execution_count": null,
      "id": "95380d0b",
      "metadata": {
        "id": "95380d0b"
      },
      "outputs": [],
      "source": []
    },
    {
      "cell_type": "markdown",
      "source": [
        "# Summary\n",
        "\n",
        "---\n",
        "\n",
        "# 🔹 1. Iteration\n",
        "\n",
        "👉 **Iteration** means *repeating an action one by one over a collection of items*.\n",
        "\n",
        "Example:\n",
        "\n",
        "```python\n",
        "for x in [1, 2, 3]:\n",
        "    print(x)\n",
        "```\n",
        "\n",
        "✅ Output:\n",
        "\n",
        "```\n",
        "1\n",
        "2\n",
        "3\n",
        "```\n",
        "\n",
        "Here, we are **iterating** through the list `[1,2,3]`.\n",
        "\n",
        "---\n",
        "\n",
        "# 🔹 2. Iterable\n",
        "\n",
        "👉 An **Iterable** is any Python object that can be looped over.\n",
        "It must implement the **`__iter__()` method**.\n",
        "\n",
        "Examples of iterables:\n",
        "\n",
        "* Lists `[1,2,3]`\n",
        "* Tuples `(1,2,3)`\n",
        "* Strings `\"hello\"`\n",
        "* Dictionaries `{}`\n",
        "* Sets `{1,2,3}`\n",
        "\n",
        "✅ Simple check: If you can use it in a `for` loop → It’s an **Iterable**.\n",
        "\n",
        "```python\n",
        "my_list = [10, 20, 30]\n",
        "print(hasattr(my_list, '__iter__'))  # True\n",
        "```\n",
        "\n",
        "---\n",
        "\n",
        "# 🔹 3. Iterator\n",
        "\n",
        "👉 An **Iterator** is an object that **actually goes through elements one at a time**.\n",
        "It remembers its **current position**.\n",
        "\n",
        "* Must implement **`__iter__()`** and **`__next__()`** methods.\n",
        "* `next()` gives the next item.\n",
        "\n",
        "Example:\n",
        "\n",
        "```python\n",
        "my_list = [10, 20, 30]\n",
        "\n",
        "# Convert iterable into iterator\n",
        "it = iter(my_list)\n",
        "\n",
        "print(next(it))  # 10\n",
        "print(next(it))  # 20\n",
        "print(next(it))  # 30\n",
        "# print(next(it))  # Error: StopIteration\n",
        "```\n",
        "\n",
        "---\n",
        "\n",
        "# 🔹 4. Relationship\n",
        "\n",
        "* **Iterable** = object you can loop over.\n",
        "* **Iterator** = object that gives items one by one.\n",
        "* **Iteration** = the process of going through elements.\n",
        "\n",
        "👉 In short:\n",
        "\n",
        "* List → **Iterable**\n",
        "* `iter(list)` → **Iterator**\n",
        "* Using `for` loop or `next()` → **Iteration**\n",
        "\n",
        "---\n",
        "\n",
        "# 🔹 5. Custom Iterator Example\n",
        "\n",
        "```python\n",
        "class Count:\n",
        "    def __init__(self, start, end):\n",
        "        self.current = start\n",
        "        self.end = end\n",
        "\n",
        "    def __iter__(self):\n",
        "        return self\n",
        "\n",
        "    def __next__(self):\n",
        "        if self.current <= self.end:\n",
        "            num = self.current\n",
        "            self.current += 1\n",
        "            return num\n",
        "        else:\n",
        "            raise StopIteration\n",
        "\n",
        "# Using our custom iterator\n",
        "for i in Count(1, 5):\n",
        "    print(i)\n",
        "```\n",
        "\n",
        "✅ Output:\n",
        "\n",
        "```\n",
        "1\n",
        "2\n",
        "3\n",
        "4\n",
        "5\n",
        "```\n",
        "\n",
        "---\n",
        "\n",
        "# ✅ Memory Tip\n",
        "\n",
        "* **Iterable** → Has `__iter__()` → “I can be looped.”\n",
        "* **Iterator** → Has `__next__()` → “I know where I am in the loop.”\n",
        "* **Iteration** → The act of looping.\n",
        "\n",
        "---\n"
      ],
      "metadata": {
        "id": "cEb3crUU8H5z"
      },
      "id": "cEb3crUU8H5z"
    }
  ],
  "metadata": {
    "kernelspec": {
      "display_name": "Python 3",
      "language": "python",
      "name": "python3"
    },
    "language_info": {
      "codemirror_mode": {
        "name": "ipython",
        "version": 3
      },
      "file_extension": ".py",
      "mimetype": "text/x-python",
      "name": "python",
      "nbconvert_exporter": "python",
      "pygments_lexer": "ipython3",
      "version": "3.8.8"
    },
    "colab": {
      "provenance": [],
      "include_colab_link": true
    }
  },
  "nbformat": 4,
  "nbformat_minor": 5
}